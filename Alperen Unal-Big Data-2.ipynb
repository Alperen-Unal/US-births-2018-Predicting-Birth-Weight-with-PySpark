{
 "cells": [
  {
   "cell_type": "markdown",
   "metadata": {},
   "source": [
    "# BIG DATA ANALYSIS - FINAL COURSEWORK"
   ]
  },
  {
   "cell_type": "markdown",
   "metadata": {},
   "source": [
    "# 1. Project Proposal "
   ]
  },
  {
   "cell_type": "markdown",
   "metadata": {},
   "source": [
    "## 1.1 Introduction\n",
    "\n",
    "An extensive examination is being conducted utilizing a vast dataset that records all childbirths throughout the United States for the year 2018. This dataset, spanning 532.6 MB, comprehensively captures a myriad of variables including demographic factors, health indicators, and medical procedures related to childbirth, aiming to predict newborns' birth weight—an essential marker of neonatal health with substantial implications for immediate medical interventions and long-term health outcomes.\n",
    "\n",
    "Accurate prediction of birth weight is vital, as it is integral in anticipating complications such as shoulder dystocia and managing conditions like preterm labor or growth restrictions effectively. This analysis not only investigates how maternal behaviors and demographic characteristics impact birth weight but also strives to identify patterns that could lead to more personalized prenatal care and more strategic healthcare resource allocation.\n",
    "\n",
    "Sophisticated machine learning models are employed to sift through millions of data points to uncover patterns and establish predictive factors that can accurately forecast birth weight. These insights are expected to refine medical practices subtly and aid in more effective health planning.\n",
    "\n",
    "This project serves to enhance health management strategies by providing data-driven insights that could lead to better healthcare outcomes. By leveraging big data and advanced analytics, the study provides a nuanced understanding of the factors influencing birth weight, facilitating the development of targeted interventions to prevent potential health issues in newborns and ensure better health outcomes. The approach is methodical and data-centric, emphasizing the importance of precise data handling and sophisticated analytical techniques, and aims to influence healthcare practices subtly without overhauling major medical protocols or public health policies.\n",
    "\n",
    "In addition to the challenges of managing and analyzing a large-scale dataset, the practical aspects of utilizing PySpark on a cluster have posed significant operational challenges. Uploading the dataset to the HDFS system initially took about 20 minutes, and calculating correlation coefficients extended to approximately 80 minutes. Running machine learning models, especially tree-based algorithms, required up to 4-5 hours per model, with frequent system interruptions prolonging the process. To circumvent these issues, PySpark was installed on a local machine equipped with 16GB of RAM, configured to utilize 8GB for the Spark session. This adjustment enabled more efficient execution of the project, reducing the runtime to about 4-5 hours to process all codes. \n",
    "\n",
    "Therefore, it was necessary to submit the project in an already run state. This is particularly crucial because each run, whether calculating correlation coefficients or conducting hyperparameter tuning, yields slightly different but closely related results. Transitioning to running the project locally not only streamlined the process but also allowed for a consistent environment where repeated analyses and model trainings could be predictably managed within a reasonable timeframe."
   ]
  },
  {
   "cell_type": "markdown",
   "metadata": {},
   "source": [
    "## 1.2 Dataset"
   ]
  },
  {
   "cell_type": "markdown",
   "metadata": {},
   "source": [
    "Initially, I tried to use PySpark installation on DSM10 cluster and followed the steps below to upload my dataset to HDFS and run it in PySpark on the cluster. However, due to the problems I mentioned before, I decided to continue my project on my local PySpark installation. I wrote and ran all the codes of the project in my local PySpark environment."
   ]
  },
  {
   "cell_type": "markdown",
   "metadata": {},
   "source": [
    "Source: https://www.kaggle.com/datasets/des137/us-births-2018/data"
   ]
  },
  {
   "cell_type": "markdown",
   "metadata": {},
   "source": [
    "User Guide to the 2018 Fetal Death Public Use File: https://ftp.cdc.gov/pub/Health_Statistics/NCHS/Dataset_Documentation/DVS/fetaldeath/2018FetalUserGuide.pdf"
   ]
  },
  {
   "cell_type": "markdown",
   "metadata": {},
   "source": [
    "### 1.2.1 Variables"
   ]
  },
  {
   "cell_type": "raw",
   "metadata": {},
   "source": [
    "ATTEND : Attendant at Birth\t \n",
    "1 Doctor of Medicine (MD)\n",
    "2 Doctor of Osteopathy (DO)\n",
    "3 Certified Nurse Midwife (CNM)\n",
    "4 Other Midwife\n",
    "5 Other\n",
    "9 Unknown or not stated\n",
    "\n",
    "BFACIL: Birth Place \n",
    "1 Hospital\n",
    "2 Freestanding Birth Center\n",
    "3 Home (intended)\n",
    "4 Home (not intended)\n",
    "5 Home (unknown if intended)\n",
    "6 Clinic / Doctor’s Office\n",
    "7 Other\n",
    "9 Unknown \n",
    "\n",
    "BMI: Body Mass Index \n",
    "13.0-69.9 Body Mass Index\n",
    "99.9 Unknown or not stated\n",
    "\n",
    "CIG_0: Cigarettes Before Pregnancy \n",
    "00-97 Number of cigarettes daily\n",
    "98 98 or more cigarettes daily\n",
    "99 Unknown or not stated \n",
    "\n",
    "DLMP_MM: Last Normal Menses Month\n",
    "01 January\n",
    "02 February\n",
    "03 March\n",
    "04 April\n",
    "05 May\n",
    "06 June\n",
    "07 July\n",
    "08 August\n",
    "09 September\n",
    "10 October\n",
    "11 November\n",
    "12 December\n",
    "99 Unknown\n",
    "\n",
    "DLMP_YY: Last Normal Menses Year\n",
    "9999: Unknown\n",
    "\n",
    "DMAR: Marital Status\n",
    "1 Married\n",
    "2 Unmarried\n",
    "\n",
    "DOB_MM: Birth Month \n",
    "01 January\n",
    "02 February\n",
    "03 March\n",
    "04 April\n",
    "05 May\n",
    "06 June\n",
    "07 July\n",
    "08 August\n",
    "09 September\n",
    "10 October\n",
    "11 November\n",
    "12 December\n",
    "\n",
    "DOB_TT: Time of Birth \n",
    "0000-2359 Time of Birth (00:00-23:59)\n",
    "\n",
    "DOB_WK: Birth Day of Week \n",
    "1 Sunday\n",
    "2 Monday\n",
    "3 Tuesday\n",
    "4 Wednesday\n",
    "5 Thursday\n",
    "6 Friday\n",
    "7 Saturday \n",
    "\n",
    "DOB_YY: Birth Year\n",
    "2018\n",
    "\n",
    "DWgt_R: Delivery Weight Recode \n",
    "100-400 Weight in pounds\n",
    "999 Unknown or not stated\n",
    "\n",
    "FAGECOMB: Father’s Combined Age\t \n",
    "09-98 Father’s combined age in years\n",
    "99 Unknown or not stated\n",
    "\n",
    "FEDUC: Father’s Education\t \n",
    "1 8th grade or less\n",
    "2 9th through 12th grade with no diploma\n",
    "3 High school graduate or GED completed\n",
    "4 Some college credit, but not a degree.\n",
    "5 Associate degree (AA,AS)\n",
    "6 Bachelor’s degree (BA, AB, BS)\n",
    "7 Master’s degree (MA, MS, MEng, MEd, MSW, MBA)\n",
    "8 Doctorate (PhD, EdD) or Professional Degree (MD, DDS, DVM, LLB, JD)\n",
    "9 Unknown\n",
    "\n",
    "FHISPX Father’s Hispanic Origin \n",
    "0 Non-Hispanic\n",
    "1 Mexican\n",
    "2 Puerto Rican\n",
    "3 Cuban\n",
    "4 Central or South American\n",
    "5 Dominican\n",
    "6 Other and Unknown Hispanic\n",
    "9 Origin unknown or not stated\n",
    "\n",
    "FRACE15: Father’s Race Recode 15\n",
    "01 White (alone)\n",
    "02 Black (alone)\n",
    "03 AIAN (alone)\n",
    "04 Asian Indian (alone)\n",
    "05 Chinese (alone)\n",
    "06 Filipino (alone)\n",
    "07 Japanese (alone)\n",
    "08 Korean (alone)\n",
    "09 Vietnamese (alone)\n",
    "10 Other Asian (alone)\n",
    "11 Hawaiian (alone)\n",
    "12 Guamanian (alone)\n",
    "13 Samoan (alone)\n",
    "14 Other Pacific Islander (alone)\n",
    "15 More than one race\n",
    "99: Unknown\n",
    "\n",
    "FRACE31: Father’s Race Recode 31\n",
    "Other recodes are not mentioned\n",
    "99: Unknown\n",
    "\n",
    "FRACE6: Father’s Race Recode 6 \n",
    "1 White (only)\n",
    "2 Black (only)\n",
    "3 AIAN (only)\n",
    "4 Asian (only)\n",
    "5 NHOPI (only)\n",
    "6 More than one race\n",
    "9 Unknown or Not Stated \n",
    "\n",
    "ILLB_R: Interval Since Last Live Birth Recode \n",
    "000-003 Plural delivery\n",
    "004-300 Months since last live birth\n",
    "888 Not applicable / 1st natality event\n",
    "999 Unknown\n",
    "\n",
    "ILOP_R: Interval Since Last Other Pregnancy Recode\n",
    "000-003 Plural delivery\n",
    "004-300 Months since last live birth\n",
    "888 Not applicable / 1st natality event\n",
    "999 Unknown or not stated \n",
    "\n",
    "ILP_R: Interval Since Last Pregnancy Recode \n",
    "000-003 Plural delivery\n",
    "004-300 Months since last live birth\n",
    "888 Not applicable / no previous pregnancy\n",
    "999 Unknown or not stated\n",
    "\n",
    "IMP_SEX: Sex Imputed (Only where gestation is stated or presumed to be 20 weeks or more)\n",
    "Blank: Infant Sex not Imputed\n",
    "1: Infant Sex is Imputed\n",
    "\n",
    "IP_GON: Gonorrhea \n",
    "Y Yes\n",
    "N No\n",
    "U Unknown or not stated \n",
    "\n",
    "LD_INDL: Induction of Labor\t \n",
    "Y Yes\n",
    "N No\n",
    "U Unknown or not stated\n",
    "\n",
    "MAGER: Mother’s Single Years of Age \n",
    "\n",
    "MAGE_IMPFLG: Mother’s Age Imputed\n",
    "Blank: Age not imputed\n",
    "1: Age imputed\n",
    "\n",
    "MAR_IMP: Mother’s Marital Status Imputed\n",
    "Blank: Plurality is not imputed\n",
    "1: Plurality is imputed\n",
    "\n",
    "MBSTATE_REC: Mother’s Nativity \n",
    "1 Born in the U.S. (50 US States)\n",
    "2 Born outside the U.S. (includes possessions)\n",
    "3 Unknown or Not Stated\n",
    "\n",
    "MEDUC: Mother’s Education\t \n",
    "1 8th grade or less\n",
    "2 9th through 12th grade with no diploma\n",
    "3 High school graduate or GED completed\n",
    "4 Some college credit, but not a degree.\n",
    "5 Associate degree (AA,AS)\n",
    "6 Bachelor’s degree (BA, AB, BS)\n",
    "7 Master’s degree (MA, MS, MEng, MEd, MSW, MBA)\n",
    "8 Doctorate (PhD, EdD) or Professional Degree (MD, DDS, DVM, LLB, JD)\n",
    "9 Unknown \n",
    "\n",
    "MHISPX: Mother’s Hispanic Origin \n",
    "0 Non-Hispanic\n",
    "1 Mexican\n",
    "2 Puerto Rican\n",
    "3 Cuban\n",
    "4 Central or South American\n",
    "5 Other and Unknown Hispanic\n",
    "6 Dominican\n",
    "9 Origin unknown or not stated\n",
    "\n",
    "MM_AICU: Admit to Intensive Care\t \n",
    "Y Yes\n",
    "N No\n",
    "U Unknown or not stated \n",
    "\n",
    "MRACE15: Mother’s Race Recode 15\n",
    "01 White (alone)\n",
    "02 Black (alone)\n",
    "03 AIAN (alone)\n",
    "04 Asian Indian (alone)\n",
    "05 Chinese (alone)\n",
    "06 Filipino (alone)\n",
    "07 Japanese (alone)\n",
    "08 Korean (alone)\n",
    "09 Vietnamese (alone)\n",
    "10 Other Asian (alone)\n",
    "11 Hawaiian (alone)\n",
    "12 Guamanian (alone)\n",
    "13 Samoan (alone)\n",
    "14 Other Pacific Islander (alone)\n",
    "15 More than one race\n",
    "\n",
    "MRACE31: Mother’s Race Recode 31\n",
    "Recodes are not mentioned\n",
    "\n",
    "MRACEIMP: Mother’s Race Imputed\n",
    "Blank: Mother’s race not imputed\n",
    "1: Unknown race imputed\n",
    "2: All other races, formerly coded 09, imputed\n",
    "\n",
    "MRAVE6: Mother’s Race Recode 6\n",
    "1 White (only)\n",
    "2 Black (only)\n",
    "3 AIAN (only)\n",
    "4 Asian (only)\n",
    "5 NHOPI (only)\n",
    "6 More than one race\n",
    "\n",
    "MTRAN: Mother Transferred \n",
    "Y Yes\n",
    "N No\n",
    "U Unknown \n",
    "\n",
    "M_Ht_In: Mother’s Height in Total Inches\t \n",
    "30-78 Height in inches\n",
    "99 Unknown or not stated \n",
    "\n",
    "NO_INFEC: No Infections Reported \n",
    "1 True\n",
    "0 False\n",
    "9 Not Reported \n",
    "\n",
    "NO_MMORB: No Maternal Morbidity Reported\t \n",
    "1 True\n",
    "0 False\n",
    "9 Not Reported\n",
    "\n",
    "NO_RISKS: No Risk Factors Reported \n",
    "1 True\n",
    "0 False\n",
    "9 Not Reported \n",
    "\n",
    "PAY: Payment Source for Delivery\t \n",
    "1 Medicaid\n",
    "2 Private Insurance \n",
    "3 Self-Pay\n",
    "4 Indian Health Service\n",
    "5 CHAMPUS/TRICARE\n",
    "6 Other Government (Federal, State, Local)\n",
    "8 Other\n",
    "9 Unknown\n",
    "\n",
    "PAY_REC: Payment Recode\n",
    "Other recodes are not mentioned\n",
    "9: Unknown\n",
    "\n",
    "PRECARE: Month Prenatal Care Began\t \n",
    "00 No prenatal care\n",
    "01-10 Month prenatal care began\n",
    "99 Unknown or not stated \n",
    "\n",
    "PREVIS: Number of Prenatal Visits\t \n",
    "00-98 Number of prenatal visits\n",
    "99 Unknown or not stated \n",
    "\n",
    "PRIORDEAD: Prior Births Now Dead\t \n",
    "00-30 Number of children dead from previous live births.\n",
    "99 Unknown or not stated \n",
    "\n",
    "PRIORLIVE: Prior Births Now Living\t \n",
    "00-30 Number of children still living from previous live births.\n",
    "99 Unknown or not stated \n",
    "\n",
    "PRIORTERM: Prior Other Terminations\t \n",
    "00-30 Number other terminations\n",
    "99 Unknown or not stated\n",
    "\n",
    "PWgt_R: Pre-pregnancy Weight Recode \n",
    "075-375 Weight in pounds\n",
    "999 Unknown or not stated \n",
    "\n",
    "RDMETH_REC: Delivery Method Recode\t \n",
    "1 Vaginal (excludes vaginal after previous C-section)\n",
    "2 Vaginal after previous c-section\n",
    "3 Primary C-section\n",
    "4 Repeat C-section\n",
    "5 Vaginal (unknown if previous c-section)\n",
    "6 C-section (unknown if previous c-section)\n",
    "9 Not stated \n",
    " \n",
    "RESTATUS: Residence Status\n",
    "1 RESIDENT: State and county of occurrence and residence are the same.\n",
    "2 INTRASTATE NONRESIDENT: State of occurrence and residence are the same but county is different. Data from non-reporting areas for an item are represented by Blanks (“not on certificate”) that are not otherwise indicated in the Values and Definitions.\n",
    "3 INTERSTATE NONRESIDENT: State of occurrence and residence are different but both are one of the 50 US states or District of Columbia.\n",
    "4 FOREIGN RESIDENT: The state of residence is not one of the 50 US states or District of Columbia\n",
    "\n",
    "RF_CESAR: Previous Cesarean \n",
    "Y Yes\n",
    "N No\n",
    "U Unknown or not stated \n",
    "\n",
    "RF_CESARN: Number of Previous Cesareans \n",
    "00 None\n",
    "01-30 Number of previous cesareans\n",
    "99 Unknown or not stated \n",
    "\n",
    "SEX: Sex of Infant\t \n",
    "M Male\n",
    "F Female \n",
    "\n",
    "WTGAIN: Weight Gain \n",
    "00-97 Weight gain in pounds\n",
    "98 98 pounds and over\n",
    "99 Unknown or not stated\n",
    "\n",
    "\n",
    "TARGET\n",
    "--------\n",
    "DBWT:  Birth Weight – Detail in Grams (Edited) \n",
    "0227-8165 Number of grams\n",
    "9999 Not stated birth weight "
   ]
  },
  {
   "cell_type": "markdown",
   "metadata": {},
   "source": [
    "### 1.2.2 Libraries"
   ]
  },
  {
   "cell_type": "code",
   "execution_count": 5,
   "metadata": {},
   "outputs": [],
   "source": [
    "from pyspark.sql import SparkSession\n",
    "from pyspark.sql.functions import col, count, when, min, max\n",
    "from pyspark.ml.feature import StringIndexer, VectorAssembler, StandardScaler\n",
    "from pyspark.ml import Pipeline\n",
    "from pyspark.ml.regression import LinearRegression, GeneralizedLinearRegression\n",
    "from pyspark.ml.regression import DecisionTreeRegressor, RandomForestRegressor\n",
    "from pyspark.ml.regression import GBTRegressor\n",
    "from pyspark.ml.evaluation import RegressionEvaluator"
   ]
  },
  {
   "cell_type": "markdown",
   "metadata": {},
   "source": [
    "### 1.2.3 Importing the Dataset "
   ]
  },
  {
   "cell_type": "markdown",
   "metadata": {},
   "source": [
    "This cell initializes a Spark session for a data processing application with specific configurations, including memory allocation for executors and an increased limit for debug string fields. It then loads a CSV file into a DataFrame with headers and inferred schema, and displays the contents of this DataFrame."
   ]
  },
  {
   "cell_type": "code",
   "execution_count": 6,
   "metadata": {
    "scrolled": true
   },
   "outputs": [
    {
     "name": "stderr",
     "output_type": "stream",
     "text": [
      "[Stage 1:>                                                          (0 + 8) / 8]\r"
     ]
    },
    {
     "name": "stdout",
     "output_type": "stream",
     "text": [
      "+------+------+----+-----+----+-------+-------+----+------+------+------+------+------+--------+-----+------+-------+-------+------+------+------+-----+-------+------+-------+-----+-----------+-------+-----------+-----+------+-------+-------+-------+--------+------+-----+-------+--------+--------+--------+---+-------+-------+------+---------+---------+---------+------+----------+--------+--------+---------+---+------+\n",
      "|ATTEND|BFACIL| BMI|CIG_0|DBWT|DLMP_MM|DLMP_YY|DMAR|DOB_MM|DOB_TT|DOB_WK|DOB_YY|DWgt_R|FAGECOMB|FEDUC|FHISPX|FRACE15|FRACE31|FRACE6|ILLB_R|ILOP_R|ILP_R|IMP_SEX|IP_GON|LD_INDL|MAGER|MAGE_IMPFLG|MAR_IMP|MBSTATE_REC|MEDUC|MHISPX|MM_AICU|MRACE15|MRACE31|MRACEIMP|MRAVE6|MTRAN|M_Ht_In|NO_INFEC|NO_MMORB|NO_RISKS|PAY|PAY_REC|PRECARE|PREVIS|PRIORDEAD|PRIORLIVE|PRIORTERM|PWgt_R|RDMETH_REC|RESTATUS|RF_CESAR|RF_CESARN|SEX|WTGAIN|\n",
      "+------+------+----+-----+----+-------+-------+----+------+------+------+------+------+--------+-----+------+-------+-------+------+------+------+-----+-------+------+-------+-----+-----------+-------+-----------+-----+------+-------+-------+-------+--------+------+-----+-------+--------+--------+--------+---+-------+-------+------+---------+---------+---------+------+----------+--------+--------+---------+---+------+\n",
      "|     1|     1|30.7|    0|3657|      4|   2017|   1|     1|  1227|     2|  2018|   231|      31|    3|     1|      1|      1|     1|    16|    33|   16|       |     N|      N|   30|           |       |          1|    6|     0|      N|      1|      1|        |     1|    N|     66|       1|       1|       1|  2|      2|      3|     8|        0|        1|        2|   190|         1|       2|       N|        0|  M|    41|\n",
      "|     1|     1|33.3|    2|3242|     99|   9999|   2|     1|  1704|     2|  2018|   185|      35|    4|     0|      3|      3|     3|   180|   888|  180|       |     N|      N|   35|           |       |          1|    9|     0|      N|      3|      3|        |     3|    N|     63|       1|       1|       0|  1|      1|      3|     9|        0|        2|        0|   188|         4|       2|       Y|        2|  F|     0|\n",
      "|     1|     1|30.0|    0|3470|      4|   2017|   1|     1|   336|     2|  2018|   273|      31|    4|     0|      1|      1|     1|   999|   888|  999|       |     N|      N|   28|           |       |          1|    6|     0|      N|      1|      1|        |     1|    N|     71|       1|       1|       0|  5|      4|      5|    17|        0|        1|        0|   215|         1|       1|       N|        0|  M|    58|\n",
      "|     3|     1|23.7|    0|3140|      5|   2017|   2|     1|   938|     2|  2018|   138|      26|    2|     0|      3|      3|     3|    43|   888|   43|       |     N|      N|   23|           |       |          1|    2|     0|      N|      3|      3|        |     3|    N|     64|       1|       1|       1|  1|      1|      5|     6|        0|        2|        0|   138|         1|       2|       N|        0|  F|     0|\n",
      "|     1|     1|35.5|    0|2125|     99|   9999|   1|     1|   830|     3|  2018|   219|      35|    3|     0|      2|      2|     2|   999|   999|  999|       |     N|      N|   37|           |       |          1|    4|     0|      N|      1|      1|        |     1|    N|     66|       1|       1|       1|  1|      1|      5|    15|        0|        1|        4|   220|         3|       1|       N|        0|  M|     0|\n",
      "|     4|     2|31.3|    0|4082|      3|   2017|   1|     1|    28|     2|  2018|   247|      28|    6|     6|      1|      1|     1|    39|   888|   39|       |     N|      N|   26|           |       |          1|    6|     0|      N|      1|      1|        |     1|    N|     67|       1|       1|       1|  2|      2|      2|    13|        0|        1|        0|   200|         1|       1|       N|        0|  F|    47|\n",
      "|     1|     1|23.0|    0|3180|      3|   2017|   1|     1|   341|     3|  2018|   170|      25|    6|     0|      1|      1|     1|    27|   888|   27|       |     N|      Y|   28|           |       |          1|    4|     0|      N|      1|      1|        |     1|    N|     70|       1|       1|       1|  5|      4|      3|     6|        0|        2|        0|   160|         1|       1|       N|        0|  F|    10|\n",
      "|     1|     1|28.2|    0|3230|      3|   2017|   1|     1|  1615|     4|  2018|   209|      29|    7|     0|      1|      1|     1|   888|   888|  888|       |     N|      N|   31|           |       |          1|    3|     0|      N|      1|      1|        |     1|    N|     67|       1|       1|       1|  2|      2|      3|    18|        0|        0|        0|   180|         3|       1|       N|        0|  F|    29|\n",
      "|     1|     1|24.7|    0|3700|      3|   2017|   1|     1|  1754|     5|  2018|   155|      42|    4|     0|      1|      1|     1|    67|   888|   67|       |     N|      N|   37|           |       |          2|    2|     0|      N|      1|      1|        |     1|    N|     62|       1|       1|       0|  2|      2|      2|    14|        0|        2|        0|   135|         4|       1|       Y|        2|  F|    20|\n",
      "|     1|     1|19.8|    0|3430|      4|   2017|   1|     1|  1111|     6|  2018|   164|      28|    6|     0|      1|      1|     1|   888|   888|  888|       |     N|      N|   26|           |       |          1|    7|     0|      N|      1|      1|        |     1|    N|     69|       1|       1|       1|  2|      2|      2|    10|        0|        0|        0|   134|         1|       1|       N|        0|  F|    30|\n",
      "|     1|     1|25.7|    0|4130|      4|   2017|   1|     1|   155|     7|  2018|   201|      26|    4|     0|      1|      1|     1|    24|    51|   24|       |     N|      N|   25|           |       |          1|    4|     0|      N|      1|      1|        |     1|    N|     63|       1|       1|       1|  1|      1|      2|     9|        0|        2|        1|   145|         1|       2|       N|        0|  M|    56|\n",
      "|     1|     1|24.3|    0|2755|      4|   2017|   1|     1|   105|     7|  2018|   205|      26|    6|     0|      1|      1|     1|   888|   888|  888|       |     N|      Y|   27|           |       |          1|    6|     0|      N|      1|      1|        |     1|    N|     67|       1|       1|       0|  5|      4|      4|     9|        0|        0|        0|   155|         3|       1|       N|        0|  M|    50|\n",
      "|     1|     1|26.4|    0|4430|      4|   2017|   1|     1|   104|     7|  2018|   161|      37|    2|     0|      3|      3|     3|    68|   888|   68|       |     N|      Y|   29|           |       |          1|    2|     0|      N|      3|      3|        |     3|    N|     60|       1|       1|       1|  1|      1|     99|    99|        0|        3|        0|   135|         1|       2|       N|        0|  M|    26|\n",
      "|     1|     1|31.3|    0|3810|      4|   2017|   1|     1|   841|     4|  2018|   180|      31|    4|     0|      1|      1|     1|    37|   888|   37|       |     N|      N|   30|           |       |          2|    5|     0|      N|      1|      1|        |     1|    N|     58|       1|       1|       0|  5|      4|      3|    10|        0|        1|        0|   150|         4|       1|       Y|        1|  F|    30|\n",
      "|     3|     1|27.4|    0|3150|      4|   2017|   1|     1|  1856|     3|  2018|   198|      40|    8|     0|      1|      1|     1|    32|   888|   32|       |     N|      Y|   36|           |       |          1|    6|     0|      N|      1|      1|        |     1|    N|     66|       1|       1|       0|  5|      4|      2|    12|        0|        3|        0|   170|         1|       1|       N|        0|  F|    28|\n",
      "|     1|     1|23.9|    0|4210|      3|   2017|   1|     1|  1000|     1|  2018|   182|      41|    4|     0|      1|      1|     1|    19|    34|   19|       |     N|      N|   38|           |       |          1|    7|     0|      N|      1|      1|        |     1|    N|     66|       1|       1|       1|  2|      2|      2|    14|        0|        2|        2|   148|         1|       1|       N|        0|  F|    34|\n",
      "|     1|     1|34.0|    0|4130|      3|   2017|   2|     1|  2240|     7|  2018|   230|      27|    2|     4|     99|     99|     9|    12|    21|   12|       |     N|      N|   24|           |       |          1|    4|     0|      N|      3|      3|        |     3|    N|     61|       1|       1|       0|  1|      1|      2|    10|        1|        3|        1|   180|         1|       1|       N|        0|  F|    50|\n",
      "|     1|     1|25.2|    0|3635|      4|   2017|   2|     1|  1626|     1|  2018|   161|      22|    3|     0|     10|      4|     4|   888|   888|  888|       |     N|      N|   21|           |       |          1|    2|     0|      N|     10|      4|        |     4|    N|     62|       1|       1|       1|  1|      1|      3|    10|        0|        0|        0|   138|         1|       1|       N|        0|  M|    23|\n",
      "|     1|     1|25.7|   10|3910|      3|   2017|   1|     1|  2145|     1|  2018|   193|      35|    8|     0|      1|      1|     1|   138|   888|  138|       |     N|      N|   35|           |       |          1|    4|     0|      N|      1|      1|        |     1|    N|     63|       1|       1|       1|  2|      2|      3|    10|        0|        2|        0|   145|         1|       1|       N|        0|  M|    48|\n",
      "|     1|     1|28.2|    0|3410|      4|   2017|   1|     1|  1243|     1|  2018|   201|      45|    6|     0|      1|      1|     1|    42|    13|   13|       |     N|      N|   41|           |       |          1|    7|     0|      N|      1|      1|        |     1|    N|     66|       1|       1|       1|  2|      2|      3|    12|        0|        1|        2|   175|         1|       1|       N|        0|  M|    26|\n",
      "+------+------+----+-----+----+-------+-------+----+------+------+------+------+------+--------+-----+------+-------+-------+------+------+------+-----+-------+------+-------+-----+-----------+-------+-----------+-----+------+-------+-------+-------+--------+------+-----+-------+--------+--------+--------+---+-------+-------+------+---------+---------+---------+------+----------+--------+--------+---------+---+------+\n",
      "only showing top 20 rows\n",
      "\n"
     ]
    },
    {
     "name": "stderr",
     "output_type": "stream",
     "text": [
      "                                                                                \r"
     ]
    }
   ],
   "source": [
    "# Starting Spark Session\n",
    "spark = SparkSession \\\n",
    "    .builder \\\n",
    "    .appName(\"My Spark Application\") \\\n",
    "    .config(\"spark.executor.memory\", \"8g\") \\\n",
    "    .config(\"spark.sql.debug.maxToStringFields\", \"100\") \\\n",
    "    .master(\"local[*]\") \\\n",
    "    .getOrCreate()\n",
    "\n",
    "\n",
    "# Loading CSV file as DataFrame\n",
    "birth_df = spark.read.format(\"csv\") \\\n",
    "           .option(\"header\", \"true\") \\\n",
    "           .option(\"inferSchema\", \"true\") \\\n",
    "           .load(\"/Users/alperenunal/Desktop/Birth.csv\")\n",
    "\n",
    "# Showing DataFrame\n",
    "birth_df.show()\n"
   ]
  },
  {
   "cell_type": "code",
   "execution_count": 7,
   "metadata": {},
   "outputs": [],
   "source": [
    "spark.sparkContext.setLogLevel(\"ERROR\")"
   ]
  },
  {
   "cell_type": "markdown",
   "metadata": {},
   "source": [
    "Setting the log level of Spark to \"ERROR\" to minimize console output, showing only error messages and suppressing less severe log messages like info and debug. This helps in focusing on critical issues and declutters the output during runtime."
   ]
  },
  {
   "cell_type": "code",
   "execution_count": 8,
   "metadata": {},
   "outputs": [
    {
     "data": {
      "text/plain": [
       "pyspark.sql.dataframe.DataFrame"
      ]
     },
     "execution_count": 8,
     "metadata": {},
     "output_type": "execute_result"
    }
   ],
   "source": [
    "type(birth_df)"
   ]
  },
  {
   "cell_type": "code",
   "execution_count": 9,
   "metadata": {},
   "outputs": [
    {
     "name": "stdout",
     "output_type": "stream",
     "text": [
      "+------+------+----+-----+----+-------+-------+----+------+------+------+------+------+--------+-----+------+-------+-------+------+------+------+-----+-------+------+-------+-----+-----------+-------+-----------+-----+------+-------+-------+-------+--------+------+-----+-------+--------+--------+--------+---+-------+-------+------+---------+---------+---------+------+----------+--------+--------+---------+---+------+\n",
      "|ATTEND|BFACIL|BMI |CIG_0|DBWT|DLMP_MM|DLMP_YY|DMAR|DOB_MM|DOB_TT|DOB_WK|DOB_YY|DWgt_R|FAGECOMB|FEDUC|FHISPX|FRACE15|FRACE31|FRACE6|ILLB_R|ILOP_R|ILP_R|IMP_SEX|IP_GON|LD_INDL|MAGER|MAGE_IMPFLG|MAR_IMP|MBSTATE_REC|MEDUC|MHISPX|MM_AICU|MRACE15|MRACE31|MRACEIMP|MRAVE6|MTRAN|M_Ht_In|NO_INFEC|NO_MMORB|NO_RISKS|PAY|PAY_REC|PRECARE|PREVIS|PRIORDEAD|PRIORLIVE|PRIORTERM|PWgt_R|RDMETH_REC|RESTATUS|RF_CESAR|RF_CESARN|SEX|WTGAIN|\n",
      "+------+------+----+-----+----+-------+-------+----+------+------+------+------+------+--------+-----+------+-------+-------+------+------+------+-----+-------+------+-------+-----+-----------+-------+-----------+-----+------+-------+-------+-------+--------+------+-----+-------+--------+--------+--------+---+-------+-------+------+---------+---------+---------+------+----------+--------+--------+---------+---+------+\n",
      "|1     |1     |30.7|0    |3657|4      |2017   |1   |1     |1227  |2     |2018  |231   |31      |3    |1     |1      |1      |1     |16    |33    |16   |       |N     |N      |30   |           |       |1          |6    |0     |N      |1      |1      |        |1     |N    |66     |1       |1       |1       |2  |2      |3      |8     |0        |1        |2        |190   |1         |2       |N       |0        |M  |41    |\n",
      "|1     |1     |33.3|2    |3242|99     |9999   |2   |1     |1704  |2     |2018  |185   |35      |4    |0     |3      |3      |3     |180   |888   |180  |       |N     |N      |35   |           |       |1          |9    |0     |N      |3      |3      |        |3     |N    |63     |1       |1       |0       |1  |1      |3      |9     |0        |2        |0        |188   |4         |2       |Y       |2        |F  |0     |\n",
      "|1     |1     |30.0|0    |3470|4      |2017   |1   |1     |336   |2     |2018  |273   |31      |4    |0     |1      |1      |1     |999   |888   |999  |       |N     |N      |28   |           |       |1          |6    |0     |N      |1      |1      |        |1     |N    |71     |1       |1       |0       |5  |4      |5      |17    |0        |1        |0        |215   |1         |1       |N       |0        |M  |58    |\n",
      "|3     |1     |23.7|0    |3140|5      |2017   |2   |1     |938   |2     |2018  |138   |26      |2    |0     |3      |3      |3     |43    |888   |43   |       |N     |N      |23   |           |       |1          |2    |0     |N      |3      |3      |        |3     |N    |64     |1       |1       |1       |1  |1      |5      |6     |0        |2        |0        |138   |1         |2       |N       |0        |F  |0     |\n",
      "|1     |1     |35.5|0    |2125|99     |9999   |1   |1     |830   |3     |2018  |219   |35      |3    |0     |2      |2      |2     |999   |999   |999  |       |N     |N      |37   |           |       |1          |4    |0     |N      |1      |1      |        |1     |N    |66     |1       |1       |1       |1  |1      |5      |15    |0        |1        |4        |220   |3         |1       |N       |0        |M  |0     |\n",
      "|4     |2     |31.3|0    |4082|3      |2017   |1   |1     |28    |2     |2018  |247   |28      |6    |6     |1      |1      |1     |39    |888   |39   |       |N     |N      |26   |           |       |1          |6    |0     |N      |1      |1      |        |1     |N    |67     |1       |1       |1       |2  |2      |2      |13    |0        |1        |0        |200   |1         |1       |N       |0        |F  |47    |\n",
      "|1     |1     |23.0|0    |3180|3      |2017   |1   |1     |341   |3     |2018  |170   |25      |6    |0     |1      |1      |1     |27    |888   |27   |       |N     |Y      |28   |           |       |1          |4    |0     |N      |1      |1      |        |1     |N    |70     |1       |1       |1       |5  |4      |3      |6     |0        |2        |0        |160   |1         |1       |N       |0        |F  |10    |\n",
      "|1     |1     |28.2|0    |3230|3      |2017   |1   |1     |1615  |4     |2018  |209   |29      |7    |0     |1      |1      |1     |888   |888   |888  |       |N     |N      |31   |           |       |1          |3    |0     |N      |1      |1      |        |1     |N    |67     |1       |1       |1       |2  |2      |3      |18    |0        |0        |0        |180   |3         |1       |N       |0        |F  |29    |\n",
      "|1     |1     |24.7|0    |3700|3      |2017   |1   |1     |1754  |5     |2018  |155   |42      |4    |0     |1      |1      |1     |67    |888   |67   |       |N     |N      |37   |           |       |2          |2    |0     |N      |1      |1      |        |1     |N    |62     |1       |1       |0       |2  |2      |2      |14    |0        |2        |0        |135   |4         |1       |Y       |2        |F  |20    |\n",
      "|1     |1     |19.8|0    |3430|4      |2017   |1   |1     |1111  |6     |2018  |164   |28      |6    |0     |1      |1      |1     |888   |888   |888  |       |N     |N      |26   |           |       |1          |7    |0     |N      |1      |1      |        |1     |N    |69     |1       |1       |1       |2  |2      |2      |10    |0        |0        |0        |134   |1         |1       |N       |0        |F  |30    |\n",
      "+------+------+----+-----+----+-------+-------+----+------+------+------+------+------+--------+-----+------+-------+-------+------+------+------+-----+-------+------+-------+-----+-----------+-------+-----------+-----+------+-------+-------+-------+--------+------+-----+-------+--------+--------+--------+---+-------+-------+------+---------+---------+---------+------+----------+--------+--------+---------+---+------+\n",
      "only showing top 10 rows\n",
      "\n"
     ]
    }
   ],
   "source": [
    "birth_df.show(10, truncate=False)"
   ]
  },
  {
   "cell_type": "code",
   "execution_count": 10,
   "metadata": {},
   "outputs": [
    {
     "name": "stdout",
     "output_type": "stream",
     "text": [
      "root\n",
      " |-- ATTEND: integer (nullable = true)\n",
      " |-- BFACIL: integer (nullable = true)\n",
      " |-- BMI: double (nullable = true)\n",
      " |-- CIG_0: integer (nullable = true)\n",
      " |-- DBWT: integer (nullable = true)\n",
      " |-- DLMP_MM: integer (nullable = true)\n",
      " |-- DLMP_YY: integer (nullable = true)\n",
      " |-- DMAR: string (nullable = true)\n",
      " |-- DOB_MM: integer (nullable = true)\n",
      " |-- DOB_TT: integer (nullable = true)\n",
      " |-- DOB_WK: integer (nullable = true)\n",
      " |-- DOB_YY: integer (nullable = true)\n",
      " |-- DWgt_R: integer (nullable = true)\n",
      " |-- FAGECOMB: integer (nullable = true)\n",
      " |-- FEDUC: integer (nullable = true)\n",
      " |-- FHISPX: integer (nullable = true)\n",
      " |-- FRACE15: integer (nullable = true)\n",
      " |-- FRACE31: integer (nullable = true)\n",
      " |-- FRACE6: integer (nullable = true)\n",
      " |-- ILLB_R: integer (nullable = true)\n",
      " |-- ILOP_R: integer (nullable = true)\n",
      " |-- ILP_R: integer (nullable = true)\n",
      " |-- IMP_SEX: string (nullable = true)\n",
      " |-- IP_GON: string (nullable = true)\n",
      " |-- LD_INDL: string (nullable = true)\n",
      " |-- MAGER: integer (nullable = true)\n",
      " |-- MAGE_IMPFLG: string (nullable = true)\n",
      " |-- MAR_IMP: string (nullable = true)\n",
      " |-- MBSTATE_REC: integer (nullable = true)\n",
      " |-- MEDUC: integer (nullable = true)\n",
      " |-- MHISPX: integer (nullable = true)\n",
      " |-- MM_AICU: string (nullable = true)\n",
      " |-- MRACE15: integer (nullable = true)\n",
      " |-- MRACE31: integer (nullable = true)\n",
      " |-- MRACEIMP: string (nullable = true)\n",
      " |-- MRAVE6: integer (nullable = true)\n",
      " |-- MTRAN: string (nullable = true)\n",
      " |-- M_Ht_In: integer (nullable = true)\n",
      " |-- NO_INFEC: integer (nullable = true)\n",
      " |-- NO_MMORB: integer (nullable = true)\n",
      " |-- NO_RISKS: integer (nullable = true)\n",
      " |-- PAY: integer (nullable = true)\n",
      " |-- PAY_REC: integer (nullable = true)\n",
      " |-- PRECARE: integer (nullable = true)\n",
      " |-- PREVIS: integer (nullable = true)\n",
      " |-- PRIORDEAD: integer (nullable = true)\n",
      " |-- PRIORLIVE: integer (nullable = true)\n",
      " |-- PRIORTERM: integer (nullable = true)\n",
      " |-- PWgt_R: integer (nullable = true)\n",
      " |-- RDMETH_REC: integer (nullable = true)\n",
      " |-- RESTATUS: integer (nullable = true)\n",
      " |-- RF_CESAR: string (nullable = true)\n",
      " |-- RF_CESARN: integer (nullable = true)\n",
      " |-- SEX: string (nullable = true)\n",
      " |-- WTGAIN: integer (nullable = true)\n",
      "\n"
     ]
    }
   ],
   "source": [
    "birth_df.printSchema()"
   ]
  },
  {
   "cell_type": "markdown",
   "metadata": {},
   "source": [
    "# 2. Implementation of the proposed project"
   ]
  },
  {
   "cell_type": "markdown",
   "metadata": {},
   "source": [
    "#### Data Preparation and Initial Setup\n",
    "* Data Upload to PySpark: I will start by loading the dataset into PySpark. This initial step is crucial for ensuring all subsequent data manipulations are grounded on a stable and accessible data foundation.\n",
    "* Data Cleaning: After uploading, I'll conduct thorough checks for missing values and duplicate records. Although initial assessments show no missing values, the removal of duplicates will clean the dataset for more reliable analysis.\n",
    "* Outlier Identification and Removal: I plan to use statistical methods to identify and remove outliers in the target variable 'DBWT'. This will help in reducing noise and improving the accuracy of the predictive models.\n",
    "\n",
    "#### Feature Engineering and Optimization\n",
    "* Categorical Feature Encoding: All categorical variables will be converted to numerical format using String Indexer, ensuring they are appropriately formatted for machine learning models.\n",
    "* Feature Integration: Post-encoding, all features will be merged into a comprehensive dataset ready for further analysis.\n",
    "* Correlation Analysis and Feature Reduction: Correlation coefficients will be calculated to identify features with minimal impact on the target variable, which will then be removed to streamline the model.\n",
    "\n",
    "#### Model Development and Refinement\n",
    "* Subsampling for Efficiency: Recognizing the computational limits of PySpark in handling large datasets, I'll reduce the dataset size to 750,000 records. This size strikes a balance between maintaining the predictive power of the model and managing computational resources effectively.\n",
    "* Standardization of Features: I will standardize features using the StandardScaler. This normalization is essential for removing bias in model training due to scale differences among features.\n",
    "* Advanced Model Training Techniques: Due to the time-intensive nature of operations in PySpark, I will forgo cross-validation and exhaustive hyperparameter tuning techniques like grid search and random search. Instead, simpler methods will be employed to find a suitable model configuration.\n",
    "\n",
    "#### Testing and Validation\n",
    "* Splitting Data: The final dataset will be split into training, validation, and test sets. This will facilitate the unbiased evaluation of the models.\n",
    "* Machine Learning Model Implementation: I will implement several machine learning models, beginning with simpler ones like linear regression and progressing to more complex models such as decision trees and random forests.\n",
    "* Model Evaluation and Selection: Each model's performance will be evaluated based on Mean Absolute Error (MAE). The best-performing model under set computational constraints will be selected for final testing.\n",
    "\n",
    "#### Final Adjustments and Documentation\n",
    "* Final Model Testing: The selected model will be tested on the test dataset to assess its performance and the accuracy of its predictions against actual values.\n",
    "* Comprehensive Documentation: All steps from data preparation to final model testing will be meticulously documented in a Jupyter Notebook. This will include markdown cells that detail every decision and its rationale, ensuring clarity and reproducibility for examiners.\n"
   ]
  },
  {
   "cell_type": "markdown",
   "metadata": {},
   "source": [
    "## 2.1. Data Cleaning"
   ]
  },
  {
   "cell_type": "markdown",
   "metadata": {},
   "source": [
    "### 2.1.1Missing Value Detection"
   ]
  },
  {
   "cell_type": "code",
   "execution_count": 11,
   "metadata": {},
   "outputs": [
    {
     "name": "stderr",
     "output_type": "stream",
     "text": [
      "[Stage 4:>                                                          (0 + 8) / 8]\r"
     ]
    },
    {
     "name": "stdout",
     "output_type": "stream",
     "text": [
      "-RECORD 0----------\n",
      " ATTEND      | 0   \n",
      " BFACIL      | 0   \n",
      " BMI         | 0   \n",
      " CIG_0       | 0   \n",
      " DBWT        | 0   \n",
      " DLMP_MM     | 0   \n",
      " DLMP_YY     | 0   \n",
      " DMAR        | 0   \n",
      " DOB_MM      | 0   \n",
      " DOB_TT      | 0   \n",
      " DOB_WK      | 0   \n",
      " DOB_YY      | 0   \n",
      " DWgt_R      | 0   \n",
      " FAGECOMB    | 0   \n",
      " FEDUC       | 0   \n",
      " FHISPX      | 0   \n",
      " FRACE15     | 0   \n",
      " FRACE31     | 0   \n",
      " FRACE6      | 0   \n",
      " ILLB_R      | 0   \n",
      " ILOP_R      | 0   \n",
      " ILP_R       | 0   \n",
      " IMP_SEX     | 0   \n",
      " IP_GON      | 0   \n",
      " LD_INDL     | 0   \n",
      " MAGER       | 0   \n",
      " MAGE_IMPFLG | 0   \n",
      " MAR_IMP     | 0   \n",
      " MBSTATE_REC | 0   \n",
      " MEDUC       | 0   \n",
      " MHISPX      | 0   \n",
      " MM_AICU     | 0   \n",
      " MRACE15     | 0   \n",
      " MRACE31     | 0   \n",
      " MRACEIMP    | 0   \n",
      " MRAVE6      | 0   \n",
      " MTRAN       | 0   \n",
      " M_Ht_In     | 0   \n",
      " NO_INFEC    | 0   \n",
      " NO_MMORB    | 0   \n",
      " NO_RISKS    | 0   \n",
      " PAY         | 0   \n",
      " PAY_REC     | 0   \n",
      " PRECARE     | 0   \n",
      " PREVIS      | 0   \n",
      " PRIORDEAD   | 0   \n",
      " PRIORLIVE   | 0   \n",
      " PRIORTERM   | 0   \n",
      " PWgt_R      | 0   \n",
      " RDMETH_REC  | 0   \n",
      " RESTATUS    | 0   \n",
      " RF_CESAR    | 0   \n",
      " RF_CESARN   | 0   \n",
      " SEX         | 0   \n",
      " WTGAIN      | 0   \n",
      "\n"
     ]
    },
    {
     "name": "stderr",
     "output_type": "stream",
     "text": [
      "                                                                                \r"
     ]
    }
   ],
   "source": [
    "# Counting missing values\n",
    "missing_values = birth_df.select([count(when(col(c).isNull(), c)).alias(c) for c in birth_df.columns])\n",
    "\n",
    "# Displaying the counts of missing values\n",
    "missing_values.show(vertical=True, truncate=False)\n"
   ]
  },
  {
   "cell_type": "markdown",
   "metadata": {},
   "source": [
    "### 2.1.2 Duplicated Value Detection"
   ]
  },
  {
   "cell_type": "code",
   "execution_count": 12,
   "metadata": {},
   "outputs": [
    {
     "name": "stderr",
     "output_type": "stream",
     "text": [
      "[Stage 13:>                                                         (0 + 2) / 2]\r"
     ]
    },
    {
     "name": "stdout",
     "output_type": "stream",
     "text": [
      "+------+------+----+-----+----+-------+-------+----+------+------+------+------+------+--------+-----+------+-------+-------+------+------+------+-----+-------+------+-------+-----+-----------+-------+-----------+-----+------+-------+-------+-------+--------+------+-----+-------+--------+--------+--------+---+-------+-------+------+---------+---------+---------+------+----------+--------+--------+---------+---+------+-----+\n",
      "|ATTEND|BFACIL|BMI |CIG_0|DBWT|DLMP_MM|DLMP_YY|DMAR|DOB_MM|DOB_TT|DOB_WK|DOB_YY|DWgt_R|FAGECOMB|FEDUC|FHISPX|FRACE15|FRACE31|FRACE6|ILLB_R|ILOP_R|ILP_R|IMP_SEX|IP_GON|LD_INDL|MAGER|MAGE_IMPFLG|MAR_IMP|MBSTATE_REC|MEDUC|MHISPX|MM_AICU|MRACE15|MRACE31|MRACEIMP|MRAVE6|MTRAN|M_Ht_In|NO_INFEC|NO_MMORB|NO_RISKS|PAY|PAY_REC|PRECARE|PREVIS|PRIORDEAD|PRIORLIVE|PRIORTERM|PWgt_R|RDMETH_REC|RESTATUS|RF_CESAR|RF_CESARN|SEX|WTGAIN|count|\n",
      "+------+------+----+-----+----+-------+-------+----+------+------+------+------+------+--------+-----+------+-------+-------+------+------+------+-----+-------+------+-------+-----+-----------+-------+-----------+-----+------+-------+-------+-------+--------+------+-----+-------+--------+--------+--------+---+-------+-------+------+---------+---------+---------+------+----------+--------+--------+---------+---+------+-----+\n",
      "|1     |1     |43.4|0    |2115|10     |2017   |2   |6     |1250  |3     |2018  |270   |23      |3    |0     |1      |1      |1     |27    |888   |27   |       |N     |N      |22   |           |       |1          |3    |0     |N      |1      |1      |        |1     |N    |63     |1       |1       |0       |1  |1      |3      |5     |0        |2        |0        |245   |4         |2       |Y       |2        |F  |25    |2    |\n",
      "|1     |1     |35.0|0    |2013|8      |2017   |2   |3     |1035  |3     |2018  |280   |28      |6    |0     |2      |2      |2     |80    |12    |12   |       |N     |N      |31   |           |       |1          |6    |0     |N      |2      |2      |        |2     |N    |66     |1       |1       |1       |9  |9      |2      |10    |0        |3        |1        |217   |3         |1       |N       |0        |M  |63    |2    |\n",
      "|1     |1     |20.6|0    |1984|4      |2018   |2   |11    |45    |7     |2018  |155   |20      |3    |0     |2      |2      |2     |888   |888   |888  |       |N     |N      |20   |           |       |1          |3    |0     |N      |2      |2      |        |2     |N    |64     |1       |1       |1       |1  |1      |2      |8     |0        |0        |0        |120   |1         |1       |N       |0        |M  |35    |2    |\n",
      "|4     |1     |99.9|0    |2835|9      |2017   |1   |5     |418   |2     |2018  |999   |23      |1    |0     |1      |1      |1     |14    |888   |14   |       |N     |N      |23   |           |       |1          |1    |0     |N      |1      |1      |        |1     |N    |63     |1       |1       |0       |3  |3      |7      |3     |0        |1        |0        |999   |1         |2       |N       |0        |F  |99    |2    |\n",
      "|3     |1     |25.0|0    |3175|10     |2017   |1   |7     |18    |5     |2018  |161   |30      |3    |0     |1      |1      |1     |888   |888   |888  |       |N     |N      |31   |           |       |1          |3    |0     |N      |1      |1      |        |1     |N    |66     |1       |1       |1       |2  |2      |2      |12    |0        |0        |0        |155   |1         |2       |N       |0        |F  |6     |2    |\n",
      "|1     |1     |23.6|20   |3438|4      |2018   |2   |12    |1903  |6     |2018  |193   |29      |3    |0     |1      |1      |1     |90    |888   |90   |       |N     |N      |29   |           |       |1          |3    |0     |N      |1      |1      |        |1     |N    |68     |1       |1       |1       |1  |1      |2      |10    |0        |2        |0        |155   |1         |2       |N       |0        |M  |38    |2    |\n",
      "|1     |1     |29.1|0    |1710|1      |2018   |2   |8     |1708  |2     |2018  |206   |32      |5    |1     |1      |1      |1     |231   |888   |231  |       |N     |N      |38   |           |       |1          |5    |0     |N      |1      |1      |        |1     |N    |67     |0       |1       |0       |2  |2      |4      |12    |0        |1        |0        |186   |4         |1       |Y       |1        |F  |20    |2    |\n",
      "|1     |1     |20.6|0    |630 |9      |2017   |2   |1     |1037  |2     |2018  |150   |99      |9    |9     |99     |99     |9     |101   |888   |101  |       |N     |N      |30   |           |       |2          |3    |1     |N      |1      |1      |        |1     |N    |64     |1       |1       |1       |3  |3      |5      |3     |0        |2        |0        |120   |3         |1       |N       |0        |F  |30    |2    |\n",
      "|1     |1     |24.4|0    |2438|12     |2017   |1   |8     |1219  |7     |2018  |177   |29      |4    |0     |1      |1      |1     |62    |888   |62   |       |N     |N      |26   |           |       |1          |4    |0     |N      |1      |1      |        |1     |N    |64     |1       |1       |0       |1  |1      |2      |17    |0        |1        |0        |142   |4         |2       |Y       |1        |M  |35    |2    |\n",
      "|1     |1     |30.5|0    |2300|10     |2017   |2   |6     |2348  |3     |2018  |186   |34      |4    |0     |2      |2      |2     |888   |888   |888  |       |N     |N      |22   |           |       |1          |3    |0     |N      |2      |2      |        |2     |N    |63     |1       |1       |1       |1  |1      |1      |10    |0        |0        |0        |172   |1         |1       |N       |0        |M  |14    |2    |\n",
      "|1     |1     |24.2|0    |2400|5      |2017   |1   |1     |953   |6     |2018  |184   |45      |5    |0     |1      |1      |1     |33    |888   |33   |       |N     |N      |45   |           |       |1          |4    |0     |N      |1      |1      |        |1     |N    |66     |1       |1       |0       |2  |2      |3      |10    |0        |2        |0        |150   |3         |1       |N       |0        |F  |34    |2    |\n",
      "|1     |1     |31.3|0    |2126|7      |2017   |1   |5     |1236  |4     |2018  |225   |40      |6    |0     |1      |1      |1     |27    |41    |27   |       |N     |N      |42   |           |       |1          |6    |0     |N      |1      |1      |        |1     |N    |67     |1       |1       |1       |2  |2      |3      |8     |0        |5        |2        |200   |3         |1       |N       |0        |F  |25    |2    |\n",
      "|1     |1     |34.5|0    |550 |11     |2017   |1   |5     |1753  |5     |2018  |187   |29      |4    |0     |2      |2      |2     |888   |999   |999  |       |N     |N      |28   |           |       |1          |6    |0     |N      |2      |2      |        |2     |N    |63     |1       |1       |0       |5  |4      |2      |2     |0        |0        |1        |195   |3         |1       |N       |0        |F  |0     |2    |\n",
      "|9     |1     |99.9|99   |9999|99     |9999   |    |6     |9999  |5     |2018  |999   |99      |9    |9     |99     |99     |9     |999   |999   |999  |       |U     |U      |28   |1          |       |3          |9    |9     |U      |1      |1      |1       |1     |N    |99     |9       |9       |1       |9  |9      |99     |99    |99       |99       |99       |999   |1         |1       |N       |0        |M  |99    |2    |\n",
      "|1     |1     |25.0|0    |2300|2      |2018   |1   |10    |1709  |6     |2018  |195   |34      |7    |0     |1      |1      |1     |888   |888   |888  |       |N     |N      |33   |           |       |1          |6    |0     |N      |1      |1      |        |1     |N    |66     |1       |1       |0       |2  |2      |2      |11    |0        |0        |0        |155   |3         |1       |N       |0        |M  |40    |2    |\n",
      "|1     |1     |28.3|0    |1134|10     |2017   |1   |5     |1943  |3     |2018  |161   |31      |5    |2     |1      |1      |1     |888   |888   |888  |       |N     |N      |26   |           |       |1          |6    |2     |N      |1      |1      |        |1     |N    |61     |1       |1       |1       |2  |2      |3      |8     |0        |0        |0        |150   |3         |1       |N       |0        |F  |11    |2    |\n",
      "|1     |1     |43.8|0    |2438|6      |2018   |1   |12    |1524  |6     |2018  |285   |26      |5    |0     |1      |1      |1     |19    |27    |19   |       |N     |N      |23   |           |       |1          |5    |0     |N      |1      |1      |        |1     |N    |67     |1       |1       |1       |2  |2      |2      |10    |0        |1        |1        |280   |3         |1       |N       |0        |F  |5     |2    |\n",
      "|1     |1     |28.3|0    |4621|12     |2017   |2   |8     |1932  |4     |2018  |176   |99      |9    |9     |99     |99     |9     |46    |888   |46   |       |N     |N      |27   |           |       |1          |3    |0     |N      |3      |3      |        |3     |N    |60     |1       |1       |1       |1  |1      |3      |10    |0        |2        |0        |145   |3         |2       |N       |0        |F  |31    |2    |\n",
      "|1     |1     |31.6|0    |2180|10     |2017   |2   |6     |809   |3     |2018  |227   |31      |2    |0     |1      |1      |1     |888   |999   |999  |       |N     |N      |27   |           |       |1          |3    |0     |N      |1      |1      |        |1     |N    |65     |1       |1       |1       |1  |1      |5      |15    |0        |0        |2        |190   |3         |2       |N       |0        |F  |37    |2    |\n",
      "|1     |1     |37.1|0    |2760|11     |2017   |2   |7     |1811  |4     |2018  |267   |99      |9    |9     |99     |99     |9     |888   |888   |888  |       |N     |N      |28   |           |       |1          |4    |0     |N      |2      |2      |        |2     |N    |68     |0       |1       |0       |2  |2      |3      |11    |0        |0        |0        |244   |3         |1       |N       |0        |M  |23    |2    |\n",
      "+------+------+----+-----+----+-------+-------+----+------+------+------+------+------+--------+-----+------+-------+-------+------+------+------+-----+-------+------+-------+-----+-----------+-------+-----------+-----+------+-------+-------+-------+--------+------+-----+-------+--------+--------+--------+---+-------+-------+------+---------+---------+---------+------+----------+--------+--------+---------+---+------+-----+\n",
      "only showing top 20 rows\n",
      "\n"
     ]
    },
    {
     "name": "stderr",
     "output_type": "stream",
     "text": [
      "                                                                                \r"
     ]
    }
   ],
   "source": [
    "# Grouping duplicate records using all columns\n",
    "duplicates = birth_df.groupBy(birth_df.columns)\\\n",
    "                     .count()\\\n",
    "                     .filter(\"count > 1\")\n",
    "\n",
    "# Displaying duplicate records\n",
    "duplicates.show(truncate=False)\n"
   ]
  },
  {
   "cell_type": "code",
   "execution_count": 13,
   "metadata": {},
   "outputs": [
    {
     "name": "stderr",
     "output_type": "stream",
     "text": [
      "[Stage 16:===================================================>     (9 + 1) / 10]\r"
     ]
    },
    {
     "name": "stdout",
     "output_type": "stream",
     "text": [
      "Total number of duplicate records: 36\n"
     ]
    },
    {
     "name": "stderr",
     "output_type": "stream",
     "text": [
      "                                                                                \r"
     ]
    }
   ],
   "source": [
    "# Getting the count of duplicate records\n",
    "duplicate_count = duplicates.drop(\"count\").distinct().count()\n",
    "print(f\"Total number of duplicate records: {duplicate_count}\")\n"
   ]
  },
  {
   "cell_type": "code",
   "execution_count": 14,
   "metadata": {
    "scrolled": true
   },
   "outputs": [
    {
     "name": "stderr",
     "output_type": "stream",
     "text": [
      "[Stage 22:===================================================>     (9 + 1) / 10]\r"
     ]
    },
    {
     "name": "stdout",
     "output_type": "stream",
     "text": [
      "Number of records after removing duplicates: 3801498\n"
     ]
    },
    {
     "name": "stderr",
     "output_type": "stream",
     "text": [
      "                                                                                \r"
     ]
    }
   ],
   "source": [
    "# Removing duplicate records\n",
    "birth_df = birth_df.dropDuplicates()\n",
    "\n",
    "# Checking the size of the cleaned DataFrame\n",
    "print(\"Number of records after removing duplicates:\", birth_df.count())\n"
   ]
  },
  {
   "cell_type": "code",
   "execution_count": 16,
   "metadata": {},
   "outputs": [
    {
     "name": "stdout",
     "output_type": "stream",
     "text": [
      "New column order in birth_df_reordered:\n",
      "['ATTEND', 'BFACIL', 'BMI', 'CIG_0', 'DLMP_MM', 'DLMP_YY', 'DMAR', 'DOB_MM', 'DOB_TT', 'DOB_WK', 'DOB_YY', 'DWgt_R', 'FAGECOMB', 'FEDUC', 'FHISPX', 'FRACE15', 'FRACE31', 'FRACE6', 'ILLB_R', 'ILOP_R', 'ILP_R', 'IMP_SEX', 'IP_GON', 'LD_INDL', 'MAGER', 'MAGE_IMPFLG', 'MAR_IMP', 'MBSTATE_REC', 'MEDUC', 'MHISPX', 'MM_AICU', 'MRACE15', 'MRACE31', 'MRACEIMP', 'MRAVE6', 'MTRAN', 'M_Ht_In', 'NO_INFEC', 'NO_MMORB', 'NO_RISKS', 'PAY', 'PAY_REC', 'PRECARE', 'PREVIS', 'PRIORDEAD', 'PRIORLIVE', 'PRIORTERM', 'PWgt_R', 'RDMETH_REC', 'RESTATUS', 'RF_CESAR', 'RF_CESARN', 'SEX', 'WTGAIN', 'DBWT']\n"
     ]
    }
   ],
   "source": [
    "# Relocating the 'DBWT' column\n",
    "# Obtaining all current column names\n",
    "columns = birth_df.columns\n",
    "\n",
    "# Finding and removing the 'DBWT' column from the list\n",
    "columns.remove('DBWT')\n",
    "\n",
    "# Appending the 'DBWT' column to the end of the list\n",
    "columns.append('DBWT')\n",
    "\n",
    "# Creating a new DataFrame by reordering the columns\n",
    "birth_df = birth_df.select(columns)\n",
    "\n",
    "# Printing the columns of the new DataFrame to check the new order\n",
    "print(\"New column order in birth_df_reordered:\")\n",
    "print(birth_df.columns)\n"
   ]
  },
  {
   "cell_type": "markdown",
   "metadata": {},
   "source": [
    "### 2.1.3 Dealing with the Outlier Values "
   ]
  },
  {
   "cell_type": "code",
   "execution_count": 14,
   "metadata": {
    "scrolled": true
   },
   "outputs": [
    {
     "name": "stderr",
     "output_type": "stream",
     "text": [
      "                                                                                \r"
     ]
    },
    {
     "name": "stdout",
     "output_type": "stream",
     "text": [
      "Describe results for DBWT column:\n"
     ]
    },
    {
     "name": "stderr",
     "output_type": "stream",
     "text": [
      "[Stage 32:===================================================>     (9 + 1) / 10]\r"
     ]
    },
    {
     "name": "stdout",
     "output_type": "stream",
     "text": [
      "+-------+------------------+\n",
      "|summary|              DBWT|\n",
      "+-------+------------------+\n",
      "|  count|           3801498|\n",
      "|   mean|3266.9015419710863|\n",
      "| stddev| 619.4212455351602|\n",
      "|    min|               227|\n",
      "|    max|              9999|\n",
      "+-------+------------------+\n",
      "\n",
      "Quartile values for DBWT column:\n",
      "1st Quartile (25%): 2960.0\n",
      "Median (50%): 3300.0\n",
      "3rd Quartile (75%): 3629.0\n"
     ]
    },
    {
     "name": "stderr",
     "output_type": "stream",
     "text": [
      "                                                                                \r"
     ]
    }
   ],
   "source": [
    "# Performing describe operation for the 'DBWT' column\n",
    "describe_dbwt = birth_df.describe(\"DBWT\")\n",
    "\n",
    "# Approximate calculation of 1st Quartile, 2nd Quartile (Median), and 3rd Quartile for the 'DBWT' column\n",
    "quartiles = birth_df.approxQuantile(\"DBWT\", [0.25, 0.5, 0.75], 0.01)\n",
    "\n",
    "# Displaying describe results and quartile values\n",
    "print(\"Describe results for DBWT column:\")\n",
    "describe_dbwt.show()\n",
    "\n",
    "# Printing quartile values\n",
    "print(\"Quartile values for DBWT column:\")\n",
    "print(f\"1st Quartile (25%): {quartiles[0]}\")\n",
    "print(f\"Median (50%): {quartiles[1]}\")\n",
    "print(f\"3rd Quartile (75%): {quartiles[2]}\")\n"
   ]
  },
  {
   "cell_type": "markdown",
   "metadata": {},
   "source": [
    "9999 is outlier value which is described in metadata as 'unknown'. We will also check the other features to detection of outlier values.\n"
   ]
  },
  {
   "cell_type": "code",
   "execution_count": 15,
   "metadata": {},
   "outputs": [
    {
     "name": "stderr",
     "output_type": "stream",
     "text": [
      "                                                                                \r"
     ]
    },
    {
     "name": "stdout",
     "output_type": "stream",
     "text": [
      "Column: ATTEND\n",
      "  Min Value: 1\n",
      "  Max Value: 9\n",
      "\n",
      "\n"
     ]
    },
    {
     "name": "stderr",
     "output_type": "stream",
     "text": [
      "                                                                                \r"
     ]
    },
    {
     "name": "stdout",
     "output_type": "stream",
     "text": [
      "Column: BFACIL\n",
      "  Min Value: 1\n",
      "  Max Value: 9\n",
      "\n",
      "\n"
     ]
    },
    {
     "name": "stderr",
     "output_type": "stream",
     "text": [
      "                                                                                \r"
     ]
    },
    {
     "name": "stdout",
     "output_type": "stream",
     "text": [
      "Column: BMI\n",
      "  Min Value: 13.0\n",
      "  Max Value: 99.9\n",
      "\n",
      "\n"
     ]
    },
    {
     "name": "stderr",
     "output_type": "stream",
     "text": [
      "                                                                                \r"
     ]
    },
    {
     "name": "stdout",
     "output_type": "stream",
     "text": [
      "Column: CIG_0\n",
      "  Min Value: 0\n",
      "  Max Value: 99\n",
      "\n",
      "\n"
     ]
    },
    {
     "name": "stderr",
     "output_type": "stream",
     "text": [
      "                                                                                \r"
     ]
    },
    {
     "name": "stdout",
     "output_type": "stream",
     "text": [
      "Column: DLMP_MM\n",
      "  Min Value: 1\n",
      "  Max Value: 99\n",
      "\n",
      "\n"
     ]
    },
    {
     "name": "stderr",
     "output_type": "stream",
     "text": [
      "                                                                                \r"
     ]
    },
    {
     "name": "stdout",
     "output_type": "stream",
     "text": [
      "Column: DLMP_YY\n",
      "  Min Value: 2016\n",
      "  Max Value: 9999\n",
      "\n",
      "\n"
     ]
    },
    {
     "name": "stderr",
     "output_type": "stream",
     "text": [
      "                                                                                \r"
     ]
    },
    {
     "name": "stdout",
     "output_type": "stream",
     "text": [
      "Column: DMAR\n",
      "  Min Value:  \n",
      "  Max Value: 2\n",
      "\n",
      "\n"
     ]
    },
    {
     "name": "stderr",
     "output_type": "stream",
     "text": [
      "                                                                                \r"
     ]
    },
    {
     "name": "stdout",
     "output_type": "stream",
     "text": [
      "Column: DOB_MM\n",
      "  Min Value: 1\n",
      "  Max Value: 12\n",
      "\n",
      "\n"
     ]
    },
    {
     "name": "stderr",
     "output_type": "stream",
     "text": [
      "                                                                                \r"
     ]
    },
    {
     "name": "stdout",
     "output_type": "stream",
     "text": [
      "Column: DOB_TT\n",
      "  Min Value: 0\n",
      "  Max Value: 9999\n",
      "\n",
      "\n"
     ]
    },
    {
     "name": "stderr",
     "output_type": "stream",
     "text": [
      "                                                                                \r"
     ]
    },
    {
     "name": "stdout",
     "output_type": "stream",
     "text": [
      "Column: DOB_WK\n",
      "  Min Value: 1\n",
      "  Max Value: 7\n",
      "\n",
      "\n"
     ]
    },
    {
     "name": "stderr",
     "output_type": "stream",
     "text": [
      "                                                                                \r"
     ]
    },
    {
     "name": "stdout",
     "output_type": "stream",
     "text": [
      "Column: DOB_YY\n",
      "  Min Value: 2018\n",
      "  Max Value: 2018\n",
      "\n",
      "\n"
     ]
    },
    {
     "name": "stderr",
     "output_type": "stream",
     "text": [
      "                                                                                \r"
     ]
    },
    {
     "name": "stdout",
     "output_type": "stream",
     "text": [
      "Column: DWgt_R\n",
      "  Min Value: 100\n",
      "  Max Value: 999\n",
      "\n",
      "\n"
     ]
    },
    {
     "name": "stderr",
     "output_type": "stream",
     "text": [
      "                                                                                \r"
     ]
    },
    {
     "name": "stdout",
     "output_type": "stream",
     "text": [
      "Column: FAGECOMB\n",
      "  Min Value: 11\n",
      "  Max Value: 99\n",
      "\n",
      "\n"
     ]
    },
    {
     "name": "stderr",
     "output_type": "stream",
     "text": [
      "                                                                                \r"
     ]
    },
    {
     "name": "stdout",
     "output_type": "stream",
     "text": [
      "Column: FEDUC\n",
      "  Min Value: 1\n",
      "  Max Value: 9\n",
      "\n",
      "\n"
     ]
    },
    {
     "name": "stderr",
     "output_type": "stream",
     "text": [
      "                                                                                \r"
     ]
    },
    {
     "name": "stdout",
     "output_type": "stream",
     "text": [
      "Column: FHISPX\n",
      "  Min Value: 0\n",
      "  Max Value: 9\n",
      "\n",
      "\n"
     ]
    },
    {
     "name": "stderr",
     "output_type": "stream",
     "text": [
      "                                                                                \r"
     ]
    },
    {
     "name": "stdout",
     "output_type": "stream",
     "text": [
      "Column: FRACE15\n",
      "  Min Value: 1\n",
      "  Max Value: 99\n",
      "\n",
      "\n"
     ]
    },
    {
     "name": "stderr",
     "output_type": "stream",
     "text": [
      "                                                                                \r"
     ]
    },
    {
     "name": "stdout",
     "output_type": "stream",
     "text": [
      "Column: FRACE31\n",
      "  Min Value: 1\n",
      "  Max Value: 99\n",
      "\n",
      "\n"
     ]
    },
    {
     "name": "stderr",
     "output_type": "stream",
     "text": [
      "                                                                                \r"
     ]
    },
    {
     "name": "stdout",
     "output_type": "stream",
     "text": [
      "Column: FRACE6\n",
      "  Min Value: 1\n",
      "  Max Value: 9\n",
      "\n",
      "\n"
     ]
    },
    {
     "name": "stderr",
     "output_type": "stream",
     "text": [
      "                                                                                \r"
     ]
    },
    {
     "name": "stdout",
     "output_type": "stream",
     "text": [
      "Column: ILLB_R\n",
      "  Min Value: 3\n",
      "  Max Value: 999\n",
      "\n",
      "\n"
     ]
    },
    {
     "name": "stderr",
     "output_type": "stream",
     "text": [
      "                                                                                \r"
     ]
    },
    {
     "name": "stdout",
     "output_type": "stream",
     "text": [
      "Column: ILOP_R\n",
      "  Min Value: 3\n",
      "  Max Value: 999\n",
      "\n",
      "\n"
     ]
    },
    {
     "name": "stderr",
     "output_type": "stream",
     "text": [
      "                                                                                \r"
     ]
    },
    {
     "name": "stdout",
     "output_type": "stream",
     "text": [
      "Column: ILP_R\n",
      "  Min Value: 3\n",
      "  Max Value: 999\n",
      "\n",
      "\n"
     ]
    },
    {
     "name": "stderr",
     "output_type": "stream",
     "text": [
      "                                                                                \r"
     ]
    },
    {
     "name": "stdout",
     "output_type": "stream",
     "text": [
      "Column: IMP_SEX\n",
      "  Min Value:  \n",
      "  Max Value: 1\n",
      "\n",
      "\n"
     ]
    },
    {
     "name": "stderr",
     "output_type": "stream",
     "text": [
      "                                                                                \r"
     ]
    },
    {
     "name": "stdout",
     "output_type": "stream",
     "text": [
      "Column: IP_GON\n",
      "  Min Value: N\n",
      "  Max Value: Y\n",
      "\n",
      "\n"
     ]
    },
    {
     "name": "stderr",
     "output_type": "stream",
     "text": [
      "                                                                                \r"
     ]
    },
    {
     "name": "stdout",
     "output_type": "stream",
     "text": [
      "Column: LD_INDL\n",
      "  Min Value: N\n",
      "  Max Value: Y\n",
      "\n",
      "\n"
     ]
    },
    {
     "name": "stderr",
     "output_type": "stream",
     "text": [
      "                                                                                \r"
     ]
    },
    {
     "name": "stdout",
     "output_type": "stream",
     "text": [
      "Column: MAGER\n",
      "  Min Value: 12\n",
      "  Max Value: 50\n",
      "\n",
      "\n"
     ]
    },
    {
     "name": "stderr",
     "output_type": "stream",
     "text": [
      "                                                                                \r"
     ]
    },
    {
     "name": "stdout",
     "output_type": "stream",
     "text": [
      "Column: MAGE_IMPFLG\n",
      "  Min Value:  \n",
      "  Max Value: 1\n",
      "\n",
      "\n"
     ]
    },
    {
     "name": "stderr",
     "output_type": "stream",
     "text": [
      "                                                                                \r"
     ]
    },
    {
     "name": "stdout",
     "output_type": "stream",
     "text": [
      "Column: MAR_IMP\n",
      "  Min Value:  \n",
      "  Max Value: 1\n",
      "\n",
      "\n"
     ]
    },
    {
     "name": "stderr",
     "output_type": "stream",
     "text": [
      "                                                                                \r"
     ]
    },
    {
     "name": "stdout",
     "output_type": "stream",
     "text": [
      "Column: MBSTATE_REC\n",
      "  Min Value: 1\n",
      "  Max Value: 3\n",
      "\n",
      "\n"
     ]
    },
    {
     "name": "stderr",
     "output_type": "stream",
     "text": [
      "                                                                                \r"
     ]
    },
    {
     "name": "stdout",
     "output_type": "stream",
     "text": [
      "Column: MEDUC\n",
      "  Min Value: 1\n",
      "  Max Value: 9\n",
      "\n",
      "\n"
     ]
    },
    {
     "name": "stderr",
     "output_type": "stream",
     "text": [
      "                                                                                \r"
     ]
    },
    {
     "name": "stdout",
     "output_type": "stream",
     "text": [
      "Column: MHISPX\n",
      "  Min Value: 0\n",
      "  Max Value: 9\n",
      "\n",
      "\n"
     ]
    },
    {
     "name": "stderr",
     "output_type": "stream",
     "text": [
      "                                                                                \r"
     ]
    },
    {
     "name": "stdout",
     "output_type": "stream",
     "text": [
      "Column: MM_AICU\n",
      "  Min Value: N\n",
      "  Max Value: Y\n",
      "\n",
      "\n"
     ]
    },
    {
     "name": "stderr",
     "output_type": "stream",
     "text": [
      "                                                                                \r"
     ]
    },
    {
     "name": "stdout",
     "output_type": "stream",
     "text": [
      "Column: MRACE15\n",
      "  Min Value: 1\n",
      "  Max Value: 15\n",
      "\n",
      "\n"
     ]
    },
    {
     "name": "stderr",
     "output_type": "stream",
     "text": [
      "                                                                                \r"
     ]
    },
    {
     "name": "stdout",
     "output_type": "stream",
     "text": [
      "Column: MRACE31\n",
      "  Min Value: 1\n",
      "  Max Value: 31\n",
      "\n",
      "\n"
     ]
    },
    {
     "name": "stderr",
     "output_type": "stream",
     "text": [
      "                                                                                \r"
     ]
    },
    {
     "name": "stdout",
     "output_type": "stream",
     "text": [
      "Column: MRACEIMP\n",
      "  Min Value:  \n",
      "  Max Value: 1\n",
      "\n",
      "\n"
     ]
    },
    {
     "name": "stderr",
     "output_type": "stream",
     "text": [
      "                                                                                \r"
     ]
    },
    {
     "name": "stdout",
     "output_type": "stream",
     "text": [
      "Column: MRAVE6\n",
      "  Min Value: 1\n",
      "  Max Value: 6\n",
      "\n",
      "\n"
     ]
    },
    {
     "name": "stderr",
     "output_type": "stream",
     "text": [
      "                                                                                \r"
     ]
    },
    {
     "name": "stdout",
     "output_type": "stream",
     "text": [
      "Column: MTRAN\n",
      "  Min Value: N\n",
      "  Max Value: Y\n",
      "\n",
      "\n"
     ]
    },
    {
     "name": "stderr",
     "output_type": "stream",
     "text": [
      "                                                                                \r"
     ]
    },
    {
     "name": "stdout",
     "output_type": "stream",
     "text": [
      "Column: M_Ht_In\n",
      "  Min Value: 30\n",
      "  Max Value: 99\n",
      "\n",
      "\n"
     ]
    },
    {
     "name": "stderr",
     "output_type": "stream",
     "text": [
      "                                                                                \r"
     ]
    },
    {
     "name": "stdout",
     "output_type": "stream",
     "text": [
      "Column: NO_INFEC\n",
      "  Min Value: 0\n",
      "  Max Value: 9\n",
      "\n",
      "\n"
     ]
    },
    {
     "name": "stderr",
     "output_type": "stream",
     "text": [
      "                                                                                \r"
     ]
    },
    {
     "name": "stdout",
     "output_type": "stream",
     "text": [
      "Column: NO_MMORB\n",
      "  Min Value: 0\n",
      "  Max Value: 9\n",
      "\n",
      "\n"
     ]
    },
    {
     "name": "stderr",
     "output_type": "stream",
     "text": [
      "                                                                                \r"
     ]
    },
    {
     "name": "stdout",
     "output_type": "stream",
     "text": [
      "Column: NO_RISKS\n",
      "  Min Value: 0\n",
      "  Max Value: 9\n",
      "\n",
      "\n"
     ]
    },
    {
     "name": "stderr",
     "output_type": "stream",
     "text": [
      "                                                                                \r"
     ]
    },
    {
     "name": "stdout",
     "output_type": "stream",
     "text": [
      "Column: PAY\n",
      "  Min Value: 1\n",
      "  Max Value: 9\n",
      "\n",
      "\n"
     ]
    },
    {
     "name": "stderr",
     "output_type": "stream",
     "text": [
      "                                                                                \r"
     ]
    },
    {
     "name": "stdout",
     "output_type": "stream",
     "text": [
      "Column: PAY_REC\n",
      "  Min Value: 1\n",
      "  Max Value: 9\n",
      "\n",
      "\n"
     ]
    },
    {
     "name": "stderr",
     "output_type": "stream",
     "text": [
      "                                                                                \r"
     ]
    },
    {
     "name": "stdout",
     "output_type": "stream",
     "text": [
      "Column: PRECARE\n",
      "  Min Value: 0\n",
      "  Max Value: 99\n",
      "\n",
      "\n"
     ]
    },
    {
     "name": "stderr",
     "output_type": "stream",
     "text": [
      "                                                                                \r"
     ]
    },
    {
     "name": "stdout",
     "output_type": "stream",
     "text": [
      "Column: PREVIS\n",
      "  Min Value: 0\n",
      "  Max Value: 99\n",
      "\n",
      "\n"
     ]
    },
    {
     "name": "stderr",
     "output_type": "stream",
     "text": [
      "                                                                                \r"
     ]
    },
    {
     "name": "stdout",
     "output_type": "stream",
     "text": [
      "Column: PRIORDEAD\n",
      "  Min Value: 0\n",
      "  Max Value: 99\n",
      "\n",
      "\n"
     ]
    },
    {
     "name": "stderr",
     "output_type": "stream",
     "text": [
      "                                                                                \r"
     ]
    },
    {
     "name": "stdout",
     "output_type": "stream",
     "text": [
      "Column: PRIORLIVE\n",
      "  Min Value: 0\n",
      "  Max Value: 99\n",
      "\n",
      "\n"
     ]
    },
    {
     "name": "stderr",
     "output_type": "stream",
     "text": [
      "                                                                                \r"
     ]
    },
    {
     "name": "stdout",
     "output_type": "stream",
     "text": [
      "Column: PRIORTERM\n",
      "  Min Value: 0\n",
      "  Max Value: 99\n",
      "\n",
      "\n"
     ]
    },
    {
     "name": "stderr",
     "output_type": "stream",
     "text": [
      "                                                                                \r"
     ]
    },
    {
     "name": "stdout",
     "output_type": "stream",
     "text": [
      "Column: PWgt_R\n",
      "  Min Value: 75\n",
      "  Max Value: 999\n",
      "\n",
      "\n"
     ]
    },
    {
     "name": "stderr",
     "output_type": "stream",
     "text": [
      "                                                                                \r"
     ]
    },
    {
     "name": "stdout",
     "output_type": "stream",
     "text": [
      "Column: RDMETH_REC\n",
      "  Min Value: 1\n",
      "  Max Value: 9\n",
      "\n",
      "\n"
     ]
    },
    {
     "name": "stderr",
     "output_type": "stream",
     "text": [
      "                                                                                \r"
     ]
    },
    {
     "name": "stdout",
     "output_type": "stream",
     "text": [
      "Column: RESTATUS\n",
      "  Min Value: 1\n",
      "  Max Value: 4\n",
      "\n",
      "\n"
     ]
    },
    {
     "name": "stderr",
     "output_type": "stream",
     "text": [
      "                                                                                \r"
     ]
    },
    {
     "name": "stdout",
     "output_type": "stream",
     "text": [
      "Column: RF_CESAR\n",
      "  Min Value: N\n",
      "  Max Value: Y\n",
      "\n",
      "\n"
     ]
    },
    {
     "name": "stderr",
     "output_type": "stream",
     "text": [
      "                                                                                \r"
     ]
    },
    {
     "name": "stdout",
     "output_type": "stream",
     "text": [
      "Column: RF_CESARN\n",
      "  Min Value: 0\n",
      "  Max Value: 99\n",
      "\n",
      "\n"
     ]
    },
    {
     "name": "stderr",
     "output_type": "stream",
     "text": [
      "                                                                                \r"
     ]
    },
    {
     "name": "stdout",
     "output_type": "stream",
     "text": [
      "Column: SEX\n",
      "  Min Value: F\n",
      "  Max Value: M\n",
      "\n",
      "\n"
     ]
    },
    {
     "name": "stderr",
     "output_type": "stream",
     "text": [
      "                                                                                \r"
     ]
    },
    {
     "name": "stdout",
     "output_type": "stream",
     "text": [
      "Column: WTGAIN\n",
      "  Min Value: 0\n",
      "  Max Value: 99\n",
      "\n",
      "\n"
     ]
    },
    {
     "name": "stderr",
     "output_type": "stream",
     "text": [
      "[Stage 198:>                                                        (0 + 8) / 8]\r"
     ]
    },
    {
     "name": "stdout",
     "output_type": "stream",
     "text": [
      "Column: DBWT\n",
      "  Min Value: 227\n",
      "  Max Value: 9999\n",
      "\n",
      "\n"
     ]
    },
    {
     "name": "stderr",
     "output_type": "stream",
     "text": [
      "                                                                                \r"
     ]
    }
   ],
   "source": [
    "# Calculating and printing min and max values for all columns\n",
    "for c in birth_df.columns:\n",
    "    # Calculating min and max values for the column\n",
    "    min_max = birth_df.agg(\n",
    "        min(col(c)).alias(\"min_value\"), \n",
    "        max(col(c)).alias(\"max_value\")\n",
    "    ).collect()[0]  # Collect the results\n",
    "    \n",
    "    # Printing the results\n",
    "    print(f\"Column: {c}\")\n",
    "    print(f\"  Min Value: {min_max['min_value']}\")\n",
    "    print(f\"  Max Value: {min_max['max_value']}\")\n",
    "    print(\"\\n\")  # Space between columns\n"
   ]
  },
  {
   "cell_type": "markdown",
   "metadata": {},
   "source": [
    "Most of the features have outliers as '9', '99', '999' and '9999'. We have checked this maximum values above. Now we will remove these values to better analyse. First we remove outliers from the target value is 'DBWT'"
   ]
  },
  {
   "cell_type": "code",
   "execution_count": 17,
   "metadata": {},
   "outputs": [
    {
     "name": "stdout",
     "output_type": "stream",
     "text": [
      "Number of occurrences of 9999 in 'DBWT' column: 0\n"
     ]
    }
   ],
   "source": [
    "# Dropping rows where 'DBWT' column equals 9999\n",
    "birth_df= birth_df.filter(col('DBWT') != 9999)\n",
    "\n",
    "# Counting the occurrences of 9999 in the 'DBWT' column\n",
    "count_9999 = birth_df.filter(col('DBWT') == 9999).count()\n",
    "\n",
    "# Printing the count of 9999 in the 'DBWT' column\n",
    "print(\"Number of occurrences of 9999 in 'DBWT' column:\", count_9999)"
   ]
  },
  {
   "cell_type": "code",
   "execution_count": 18,
   "metadata": {
    "scrolled": true
   },
   "outputs": [
    {
     "name": "stderr",
     "output_type": "stream",
     "text": [
      "                                                                                \r"
     ]
    },
    {
     "data": {
      "text/plain": [
       "3798539"
      ]
     },
     "execution_count": 18,
     "metadata": {},
     "output_type": "execute_result"
    }
   ],
   "source": [
    "# Checking count after removing outlier from the target feature\n",
    "birth_df.count()"
   ]
  },
  {
   "cell_type": "markdown",
   "metadata": {},
   "source": [
    "## 2.2 Feature Engineering "
   ]
  },
  {
   "cell_type": "markdown",
   "metadata": {},
   "source": [
    "### 2.2.1 Detecting Categorized Variables"
   ]
  },
  {
   "cell_type": "code",
   "execution_count": 18,
   "metadata": {},
   "outputs": [
    {
     "name": "stdout",
     "output_type": "stream",
     "text": [
      "Non-numeric columns:\n",
      "DMAR\n",
      "IMP_SEX\n",
      "IP_GON\n",
      "LD_INDL\n",
      "MAGE_IMPFLG\n",
      "MAR_IMP\n",
      "MM_AICU\n",
      "MRACEIMP\n",
      "MTRAN\n",
      "RF_CESAR\n",
      "SEX\n"
     ]
    }
   ],
   "source": [
    "# DataFrame columns and their data types\n",
    "column_types = birth_df.dtypes\n",
    "\n",
    "# Find non-numeric columns\n",
    "non_numeric_columns = [column_name for column_name, dtype in column_types if dtype not in ('int', 'double', 'float', 'decimal')]\n",
    "\n",
    "# Print non-numeric columns\n",
    "print(\"Non-numeric columns:\")\n",
    "for column in non_numeric_columns:\n",
    "    print(column)\n"
   ]
  },
  {
   "cell_type": "code",
   "execution_count": 19,
   "metadata": {},
   "outputs": [
    {
     "name": "stderr",
     "output_type": "stream",
     "text": [
      "[Stage 271:==================================================>     (9 + 1) / 10]\r"
     ]
    },
    {
     "name": "stdout",
     "output_type": "stream",
     "text": [
      "Counts of non-numeric features:\n",
      "DMAR: 3798539\n",
      "IMP_SEX: 3798539\n",
      "IP_GON: 3798539\n",
      "LD_INDL: 3798539\n",
      "MAGE_IMPFLG: 3798539\n",
      "MAR_IMP: 3798539\n",
      "MM_AICU: 3798539\n",
      "MRACEIMP: 3798539\n",
      "MTRAN: 3798539\n",
      "RF_CESAR: 3798539\n",
      "SEX: 3798539\n"
     ]
    },
    {
     "name": "stderr",
     "output_type": "stream",
     "text": [
      "                                                                                \r"
     ]
    }
   ],
   "source": [
    "# Non-numeric features\n",
    "non_numeric_features = [\n",
    "    'DMAR', 'IMP_SEX', 'IP_GON', 'LD_INDL', 'MAGE_IMPFLG',\n",
    "    'MAR_IMP', 'MM_AICU', 'MRACEIMP', 'MTRAN', 'RF_CESAR', 'SEX'\n",
    "]\n",
    "\n",
    "# Count the occurrences of each non-numeric feature\n",
    "feature_counts = {}\n",
    "for feature in non_numeric_features:\n",
    "    count_value = birth_df.filter(col(feature).isNotNull()).count()\n",
    "    feature_counts[feature] = count_value\n",
    "\n",
    "# Print the counts of non-numeric features\n",
    "print(\"Counts of non-numeric features:\")\n",
    "for feature, count_value in feature_counts.items():\n",
    "    print(f\"{feature}: {count_value}\")"
   ]
  },
  {
   "cell_type": "markdown",
   "metadata": {},
   "source": [
    "### 2.2.2 Checking index counts within categorised features"
   ]
  },
  {
   "cell_type": "code",
   "execution_count": 20,
   "metadata": {},
   "outputs": [
    {
     "name": "stdout",
     "output_type": "stream",
     "text": [
      "Counts of categories within non-numeric features:\n",
      "\n",
      "Counts for feature 'DMAR':\n"
     ]
    },
    {
     "name": "stderr",
     "output_type": "stream",
     "text": [
      "                                                                                \r"
     ]
    },
    {
     "name": "stdout",
     "output_type": "stream",
     "text": [
      "+----+-------+\n",
      "|DMAR|  count|\n",
      "+----+-------+\n",
      "|   1|2006308|\n",
      "|   2|1336271|\n",
      "|    | 455960|\n",
      "+----+-------+\n",
      "\n",
      "\n",
      "Counts for feature 'IMP_SEX':\n"
     ]
    },
    {
     "name": "stderr",
     "output_type": "stream",
     "text": [
      "                                                                                \r"
     ]
    },
    {
     "name": "stdout",
     "output_type": "stream",
     "text": [
      "+-------+-------+\n",
      "|IMP_SEX|  count|\n",
      "+-------+-------+\n",
      "|       |3798473|\n",
      "|      1|     66|\n",
      "+-------+-------+\n",
      "\n",
      "\n",
      "Counts for feature 'IP_GON':\n"
     ]
    },
    {
     "name": "stderr",
     "output_type": "stream",
     "text": [
      "                                                                                \r"
     ]
    },
    {
     "name": "stdout",
     "output_type": "stream",
     "text": [
      "+------+-------+\n",
      "|IP_GON|  count|\n",
      "+------+-------+\n",
      "|     N|3778726|\n",
      "|     Y|  11733|\n",
      "|     U|   8080|\n",
      "+------+-------+\n",
      "\n",
      "\n",
      "Counts for feature 'LD_INDL':\n"
     ]
    },
    {
     "name": "stderr",
     "output_type": "stream",
     "text": [
      "                                                                                \r"
     ]
    },
    {
     "name": "stdout",
     "output_type": "stream",
     "text": [
      "+-------+-------+\n",
      "|LD_INDL|  count|\n",
      "+-------+-------+\n",
      "|      N|2767455|\n",
      "|      Y|1027082|\n",
      "|      U|   4002|\n",
      "+-------+-------+\n",
      "\n",
      "\n",
      "Counts for feature 'MAGE_IMPFLG':\n"
     ]
    },
    {
     "name": "stderr",
     "output_type": "stream",
     "text": [
      "                                                                                \r"
     ]
    },
    {
     "name": "stdout",
     "output_type": "stream",
     "text": [
      "+-----------+-------+\n",
      "|MAGE_IMPFLG|  count|\n",
      "+-----------+-------+\n",
      "|           |3798157|\n",
      "|          1|    382|\n",
      "+-----------+-------+\n",
      "\n",
      "\n",
      "Counts for feature 'MAR_IMP':\n"
     ]
    },
    {
     "name": "stderr",
     "output_type": "stream",
     "text": [
      "                                                                                \r"
     ]
    },
    {
     "name": "stdout",
     "output_type": "stream",
     "text": [
      "+-------+-------+\n",
      "|MAR_IMP|  count|\n",
      "+-------+-------+\n",
      "|       |3796670|\n",
      "|      1|   1869|\n",
      "+-------+-------+\n",
      "\n",
      "\n",
      "Counts for feature 'MM_AICU':\n"
     ]
    },
    {
     "name": "stderr",
     "output_type": "stream",
     "text": [
      "                                                                                \r"
     ]
    },
    {
     "name": "stdout",
     "output_type": "stream",
     "text": [
      "+-------+-------+\n",
      "|MM_AICU|  count|\n",
      "+-------+-------+\n",
      "|      N|3789205|\n",
      "|      Y|   6287|\n",
      "|      U|   3047|\n",
      "+-------+-------+\n",
      "\n",
      "\n",
      "Counts for feature 'MRACEIMP':\n"
     ]
    },
    {
     "name": "stderr",
     "output_type": "stream",
     "text": [
      "                                                                                \r"
     ]
    },
    {
     "name": "stdout",
     "output_type": "stream",
     "text": [
      "+--------+-------+\n",
      "|MRACEIMP|  count|\n",
      "+--------+-------+\n",
      "|        |3558995|\n",
      "|       1| 239544|\n",
      "+--------+-------+\n",
      "\n",
      "\n",
      "Counts for feature 'MTRAN':\n"
     ]
    },
    {
     "name": "stderr",
     "output_type": "stream",
     "text": [
      "                                                                                \r"
     ]
    },
    {
     "name": "stdout",
     "output_type": "stream",
     "text": [
      "+-----+-------+\n",
      "|MTRAN|  count|\n",
      "+-----+-------+\n",
      "|    N|3777712|\n",
      "|    Y|  19251|\n",
      "|    U|   1576|\n",
      "+-----+-------+\n",
      "\n",
      "\n",
      "Counts for feature 'RF_CESAR':\n"
     ]
    },
    {
     "name": "stderr",
     "output_type": "stream",
     "text": [
      "                                                                                \r"
     ]
    },
    {
     "name": "stdout",
     "output_type": "stream",
     "text": [
      "+--------+-------+\n",
      "|RF_CESAR|  count|\n",
      "+--------+-------+\n",
      "|       N|3201377|\n",
      "|       Y| 594654|\n",
      "|       U|   2508|\n",
      "+--------+-------+\n",
      "\n",
      "\n",
      "Counts for feature 'SEX':\n"
     ]
    },
    {
     "name": "stderr",
     "output_type": "stream",
     "text": [
      "[Stage 337:==================================================>     (9 + 1) / 10]\r"
     ]
    },
    {
     "name": "stdout",
     "output_type": "stream",
     "text": [
      "+---+-------+\n",
      "|SEX|  count|\n",
      "+---+-------+\n",
      "|  M|1941660|\n",
      "|  F|1856879|\n",
      "+---+-------+\n",
      "\n"
     ]
    },
    {
     "name": "stderr",
     "output_type": "stream",
     "text": [
      "                                                                                \r"
     ]
    }
   ],
   "source": [
    "# Non-numeric features\n",
    "non_numeric_features = [\n",
    "    'DMAR', 'IMP_SEX', 'IP_GON', 'LD_INDL', 'MAGE_IMPFLG',\n",
    "    'MAR_IMP', 'MM_AICU', 'MRACEIMP', 'MTRAN', 'RF_CESAR', 'SEX'\n",
    "]\n",
    "\n",
    "# Calculating and printing the counts of categories within each non-numeric feature\n",
    "print(\"Counts of categories within non-numeric features:\")\n",
    "for feature in non_numeric_features:\n",
    "    # Grouping by each category and count the occurrences\n",
    "    category_counts = birth_df.groupBy(feature).count().orderBy(\"count\", ascending=False)\n",
    "    \n",
    "    # Printing the results\n",
    "    print(f\"\\nCounts for feature '{feature}':\")\n",
    "    category_counts.show()\n"
   ]
  },
  {
   "cell_type": "markdown",
   "metadata": {},
   "source": [
    "### 2.2.3 Converting categorised features' indices to numeric"
   ]
  },
  {
   "cell_type": "code",
   "execution_count": 19,
   "metadata": {},
   "outputs": [
    {
     "name": "stderr",
     "output_type": "stream",
     "text": [
      "[Stage 42:>                                                         (0 + 1) / 1]\r"
     ]
    },
    {
     "name": "stdout",
     "output_type": "stream",
     "text": [
      "+----+------------+\n",
      "|DMAR|DMAR_Indexed|\n",
      "+----+------------+\n",
      "|   1|         0.0|\n",
      "|   2|         1.0|\n",
      "|   1|         0.0|\n",
      "|   1|         0.0|\n",
      "|   1|         0.0|\n",
      "|   1|         0.0|\n",
      "|   1|         0.0|\n",
      "|   2|         1.0|\n",
      "|   1|         0.0|\n",
      "|   1|         0.0|\n",
      "|   1|         0.0|\n",
      "|   2|         1.0|\n",
      "|   1|         0.0|\n",
      "|   1|         0.0|\n",
      "|   1|         0.0|\n",
      "|   1|         0.0|\n",
      "|   1|         0.0|\n",
      "|    |         2.0|\n",
      "|    |         2.0|\n",
      "|   2|         1.0|\n",
      "+----+------------+\n",
      "only showing top 20 rows\n",
      "\n"
     ]
    },
    {
     "name": "stderr",
     "output_type": "stream",
     "text": [
      "                                                                                \r"
     ]
    }
   ],
   "source": [
    "# Converting the 'DMAR' column to numerical indices using StringIndexer\n",
    "string_indexer = StringIndexer(inputCol='DMAR', outputCol='DMAR_Indexed', handleInvalid='skip')\n",
    "\n",
    "# Fitting and transforming the model on the DataFrame\n",
    "birth_df_indexed = string_indexer.fit(birth_df).transform(birth_df)\n",
    "\n",
    "# Showing the indexed column\n",
    "birth_df_indexed.select('DMAR', 'DMAR_Indexed').show()\n"
   ]
  },
  {
   "cell_type": "code",
   "execution_count": 22,
   "metadata": {
    "scrolled": true
   },
   "outputs": [
    {
     "name": "stderr",
     "output_type": "stream",
     "text": [
      "[Stage 352:==================================================>     (9 + 1) / 10]\r"
     ]
    },
    {
     "name": "stdout",
     "output_type": "stream",
     "text": [
      "+------------+-------+\n",
      "|DMAR_Indexed|  count|\n",
      "+------------+-------+\n",
      "|         0.0|2006308|\n",
      "|         1.0|1336271|\n",
      "|         2.0| 455960|\n",
      "+------------+-------+\n",
      "\n"
     ]
    },
    {
     "name": "stderr",
     "output_type": "stream",
     "text": [
      "                                                                                \r"
     ]
    }
   ],
   "source": [
    "# Grouping the DataFrame by 'DMAR_Indexed' and counting the occurrences of each index\n",
    "indexed_counts = birth_df_indexed.groupBy('DMAR_Indexed').count().orderBy('DMAR_Indexed')\n",
    "\n",
    "# Showing the counts of each index (for checking)\n",
    "indexed_counts.show()\n"
   ]
  },
  {
   "cell_type": "code",
   "execution_count": 20,
   "metadata": {},
   "outputs": [
    {
     "name": "stderr",
     "output_type": "stream",
     "text": [
      "                                                                                \r"
     ]
    }
   ],
   "source": [
    "string_indexer_imp_sex = StringIndexer(inputCol='IMP_SEX', outputCol='IMP_SEX_indexed', handleInvalid='skip')\n",
    "birth_df_indexed_imp_sex = string_indexer_imp_sex.fit(birth_df).transform(birth_df)"
   ]
  },
  {
   "cell_type": "code",
   "execution_count": 24,
   "metadata": {},
   "outputs": [
    {
     "name": "stderr",
     "output_type": "stream",
     "text": [
      "[Stage 364:==================================================>     (9 + 1) / 10]\r"
     ]
    },
    {
     "name": "stdout",
     "output_type": "stream",
     "text": [
      "+---------------+-------+\n",
      "|IMP_SEX_indexed|  count|\n",
      "+---------------+-------+\n",
      "|            0.0|3798473|\n",
      "|            1.0|     66|\n",
      "+---------------+-------+\n",
      "\n"
     ]
    },
    {
     "name": "stderr",
     "output_type": "stream",
     "text": [
      "                                                                                \r"
     ]
    }
   ],
   "source": [
    "index_counts = birth_df_indexed_imp_sex.groupBy('IMP_SEX_indexed').count()\n",
    "index_counts.show() # For checking"
   ]
  },
  {
   "cell_type": "code",
   "execution_count": 21,
   "metadata": {},
   "outputs": [
    {
     "name": "stderr",
     "output_type": "stream",
     "text": [
      "                                                                                \r"
     ]
    }
   ],
   "source": [
    "string_indexer_IP_GON = StringIndexer(inputCol='IP_GON', outputCol='IP_GON_indexed', handleInvalid='skip')\n",
    "birth_df_indexed_IP_GON = string_indexer_IP_GON.fit(birth_df).transform(birth_df)"
   ]
  },
  {
   "cell_type": "code",
   "execution_count": 22,
   "metadata": {},
   "outputs": [
    {
     "name": "stderr",
     "output_type": "stream",
     "text": [
      "                                                                                \r"
     ]
    }
   ],
   "source": [
    "string_indexer_LD_INDL = StringIndexer(inputCol='LD_INDL', outputCol='LD_INDL_indexed', handleInvalid='skip')\n",
    "birth_df_indexed_LD_INDL = string_indexer_LD_INDL.fit(birth_df).transform(birth_df)"
   ]
  },
  {
   "cell_type": "code",
   "execution_count": 23,
   "metadata": {},
   "outputs": [
    {
     "name": "stderr",
     "output_type": "stream",
     "text": [
      "                                                                                \r"
     ]
    }
   ],
   "source": [
    "string_indexer_MAGE_IMPFLG = StringIndexer(inputCol='MAGE_IMPFLG', outputCol='MAGE_IMPFLG_indexed', handleInvalid='skip')\n",
    "birth_df_indexed_MAGE_IMPFLG = string_indexer_MAGE_IMPFLG.fit(birth_df).transform(birth_df)"
   ]
  },
  {
   "cell_type": "code",
   "execution_count": 24,
   "metadata": {},
   "outputs": [
    {
     "name": "stderr",
     "output_type": "stream",
     "text": [
      "                                                                                \r"
     ]
    }
   ],
   "source": [
    "string_indexer_MAR_IMP = StringIndexer(inputCol='MAR_IMP', outputCol='MAR_IMP_indexed', handleInvalid='skip')\n",
    "birth_df_indexed_MAR_IMP = string_indexer_MAR_IMP.fit(birth_df).transform(birth_df)\n"
   ]
  },
  {
   "cell_type": "code",
   "execution_count": 25,
   "metadata": {},
   "outputs": [
    {
     "name": "stderr",
     "output_type": "stream",
     "text": [
      "                                                                                \r"
     ]
    }
   ],
   "source": [
    "string_indexer_MM_AICU = StringIndexer(inputCol='MM_AICU', outputCol='MM_AICU_indexed', handleInvalid='skip')\n",
    "birth_df_indexed_MM_AICU = string_indexer_MM_AICU.fit(birth_df).transform(birth_df)\n"
   ]
  },
  {
   "cell_type": "code",
   "execution_count": 26,
   "metadata": {},
   "outputs": [
    {
     "name": "stderr",
     "output_type": "stream",
     "text": [
      "                                                                                \r"
     ]
    }
   ],
   "source": [
    "string_indexer_MRACEIMP = StringIndexer(inputCol='MRACEIMP', outputCol='MRACEIMP_indexed', handleInvalid='skip')\n",
    "birth_df_indexed_MRACEIMP = string_indexer_MRACEIMP.fit(birth_df).transform(birth_df)"
   ]
  },
  {
   "cell_type": "code",
   "execution_count": 27,
   "metadata": {},
   "outputs": [
    {
     "name": "stderr",
     "output_type": "stream",
     "text": [
      "                                                                                \r"
     ]
    }
   ],
   "source": [
    "string_indexer_MTRAN = StringIndexer(inputCol='MTRAN', outputCol='MTRAN_indexed', handleInvalid='skip')\n",
    "birth_df_indexed_MTRAN = string_indexer_MTRAN.fit(birth_df).transform(birth_df)"
   ]
  },
  {
   "cell_type": "code",
   "execution_count": 28,
   "metadata": {},
   "outputs": [
    {
     "name": "stderr",
     "output_type": "stream",
     "text": [
      "                                                                                \r"
     ]
    }
   ],
   "source": [
    "string_indexer_RF_CESAR = StringIndexer(inputCol='RF_CESAR', outputCol='RF_CESAR_indexed', handleInvalid='skip')\n",
    "birth_df_indexed_RF_CESAR = string_indexer_RF_CESAR.fit(birth_df).transform(birth_df)"
   ]
  },
  {
   "cell_type": "code",
   "execution_count": 29,
   "metadata": {},
   "outputs": [
    {
     "name": "stderr",
     "output_type": "stream",
     "text": [
      "                                                                                \r"
     ]
    }
   ],
   "source": [
    "string_indexer_SEX = StringIndexer(inputCol='SEX', outputCol='SEX_indexed', handleInvalid='skip')\n",
    "birth_df_indexed_SEX = string_indexer_SEX.fit(birth_df).transform(birth_df)"
   ]
  },
  {
   "cell_type": "markdown",
   "metadata": {},
   "source": [
    "### 2.2.4 Combining all the indexed features in the same dataframe"
   ]
  },
  {
   "cell_type": "code",
   "execution_count": 30,
   "metadata": {},
   "outputs": [
    {
     "name": "stderr",
     "output_type": "stream",
     "text": [
      "[Stage 169:==========================================>              (6 + 2) / 8]\r"
     ]
    },
    {
     "name": "stdout",
     "output_type": "stream",
     "text": [
      "+------+------+----+-----+-------+-------+----+------+------+------+------+------+--------+-----+------+-------+-------+------+------+------+-----+-------+------+-------+-----+-----------+-------+-----------+-----+------+-------+-------+-------+--------+------+-----+-------+--------+--------+--------+---+-------+-------+------+---------+---------+---------+------+----------+--------+--------+---------+---+------+----+------------+---------------+--------------+---------------+-------------------+---------------+---------------+----------------+-------------+----------------+-----------+\n",
      "|ATTEND|BFACIL| BMI|CIG_0|DLMP_MM|DLMP_YY|DMAR|DOB_MM|DOB_TT|DOB_WK|DOB_YY|DWgt_R|FAGECOMB|FEDUC|FHISPX|FRACE15|FRACE31|FRACE6|ILLB_R|ILOP_R|ILP_R|IMP_SEX|IP_GON|LD_INDL|MAGER|MAGE_IMPFLG|MAR_IMP|MBSTATE_REC|MEDUC|MHISPX|MM_AICU|MRACE15|MRACE31|MRACEIMP|MRAVE6|MTRAN|M_Ht_In|NO_INFEC|NO_MMORB|NO_RISKS|PAY|PAY_REC|PRECARE|PREVIS|PRIORDEAD|PRIORLIVE|PRIORTERM|PWgt_R|RDMETH_REC|RESTATUS|RF_CESAR|RF_CESARN|SEX|WTGAIN|DBWT|DMAR_Indexed|IMP_SEX_indexed|IP_GON_indexed|LD_INDL_indexed|MAGE_IMPFLG_indexed|MAR_IMP_indexed|MM_AICU_indexed|MRACEIMP_indexed|MTRAN_indexed|RF_CESAR_indexed|SEX_indexed|\n",
      "+------+------+----+-----+-------+-------+----+------+------+------+------+------+--------+-----+------+-------+-------+------+------+------+-----+-------+------+-------+-----+-----------+-------+-----------+-----+------+-------+-------+-------+--------+------+-----+-------+--------+--------+--------+---+-------+-------+------+---------+---------+---------+------+----------+--------+--------+---------+---+------+----+------------+---------------+--------------+---------------+-------------------+---------------+---------------+----------------+-------------+----------------+-----------+\n",
      "|     1|     1|24.7|    0|      3|   2017|   1|     1|  1754|     5|  2018|   155|      42|    4|     0|      1|      1|     1|    67|   888|   67|       |     N|      N|   37|           |       |          2|    2|     0|      N|      1|      1|        |     1|    N|     62|       1|       1|       0|  2|      2|      2|    14|        0|        2|        0|   135|         4|       1|       Y|        2|  F|    20|3700|         0.0|            0.0|           0.0|            0.0|                0.0|            0.0|            0.0|             0.0|          0.0|             1.0|        1.0|\n",
      "|     3|     1|21.3|    0|      4|   2017|   2|     1|   208|     4|  2018|   174|      35|    3|     0|      1|      1|     1|   112|   999|  999|       |     N|      Y|   31|           |       |          1|    3|     0|      N|      1|      1|        |     1|    N|     68|       1|       1|       0|  2|      2|      2|    10|        0|        1|        1|   140|         1|       1|       N|        0|  F|    34|4125|         1.0|            0.0|           0.0|            1.0|                0.0|            0.0|            0.0|             0.0|          0.0|             0.0|        1.0|\n",
      "|     1|     1|28.5|    0|      5|   2017|   1|     2|  1816|     6|  2018|   166|      33|    3|     0|      3|      3|     3|    31|    10|   10|       |     N|      N|   29|           |       |          1|    3|     0|      N|      3|      3|        |     3|    N|     61|       1|       1|       0|  1|      1|      3|     7|        0|        4|        1|   151|         1|       1|       N|        0|  M|    15|3305|         0.0|            0.0|           0.0|            0.0|                0.0|            0.0|            0.0|             0.0|          0.0|             0.0|        0.0|\n",
      "|     1|     1|19.8|    0|      4|   2017|   1|     1|  2130|     2|  2018|   144|      25|    3|     0|      1|      1|     1|   888|   888|  888|       |     N|      N|   21|           |       |          1|    3|     0|      N|      1|      1|        |     1|    N|     63|       1|       1|       1|  5|      4|      2|     9|        0|        0|        0|   112|         1|       1|       N|        0|  M|    32|3561|         0.0|            0.0|           0.0|            0.0|                0.0|            0.0|            0.0|             0.0|          0.0|             0.0|        0.0|\n",
      "|     1|     1|25.3|    0|      5|   2017|   1|     2|   324|     2|  2018|   184|      29|    5|     0|      1|      1|     1|   888|   888|  888|       |     N|      N|   30|           |       |          1|    6|     0|      N|      1|      1|        |     1|    Y|     65|       1|       1|       1|  2|      2|      4|    13|        0|        0|        0|   152|         1|       1|       N|        0|  F|    32|2995|         0.0|            0.0|           0.0|            0.0|                0.0|            0.0|            0.0|             0.0|          1.0|             0.0|        1.0|\n",
      "|     1|     1|22.8|    0|      5|   2017|   1|     2|   806|     3|  2018|   171|      36|    6|     0|      1|      1|     1|    42|   888|   42|       |     N|      N|   36|           |       |          1|    5|     0|      N|      1|      1|        |     1|    N|     68|       1|       1|       1|  2|      2|      2|    12|        0|        2|        0|   150|         3|       1|       N|        0|  F|    21|4196|         0.0|            0.0|           0.0|            0.0|                0.0|            0.0|            0.0|             0.0|          0.0|             0.0|        1.0|\n",
      "|     1|     1|24.0|    0|      6|   2017|   1|     3|  1236|     4|  2018|   180|      32|    8|     0|      1|      1|     1|   888|   999|  999|       |     N|      N|   29|           |       |          1|    7|     0|      N|      1|      1|        |     1|    N|     64|       1|       1|       0|  2|      2|      5|    10|        0|        0|        1|   140|         3|       1|       N|        0|  F|    40|4000|         0.0|            0.0|           0.0|            0.0|                0.0|            0.0|            0.0|             0.0|          0.0|             0.0|        1.0|\n",
      "|     1|     1|27.5|    0|      6|   2017|   2|     3|   806|     5|  2018|   173|      29|    3|     0|      2|      2|     2|    15|   888|   15|       |     N|      N|   21|           |       |          1|    3|     1|      N|      1|      1|        |     1|    N|     64|       1|       1|       0|  1|      1|     99|    99|        0|        1|        0|   160|         4|       1|       Y|        1|  F|    13|3110|         1.0|            0.0|           0.0|            0.0|                0.0|            0.0|            0.0|             0.0|          0.0|             1.0|        1.0|\n",
      "|     1|     1|24.2|    0|      5|   2017|   1|     3|  2247|     7|  2018|   158|      35|    6|     0|      1|      1|     1|   888|   888|  888|       |     N|      N|   29|           |       |          1|    7|     0|      N|      1|      1|        |     1|    N|     60|       1|       1|       1|  2|      2|      2|    14|        0|        0|        0|   124|         3|       1|       N|        0|  M|    34|3510|         0.0|            0.0|           0.0|            0.0|                0.0|            0.0|            0.0|             0.0|          0.0|             0.0|        0.0|\n",
      "|     2|     1|24.1|    0|      5|   2017|   1|     3|  1219|     3|  2018|   224|      39|    3|     0|      1|      1|     1|   888|   888|  888|       |     N|      N|   34|           |       |          1|    6|     0|      N|      1|      1|        |     1|    N|     72|       1|       1|       0|  2|      2|      2|    12|        0|        0|        0|   178|         3|       1|       N|        0|  M|    46|4075|         0.0|            0.0|           0.0|            0.0|                0.0|            0.0|            0.0|             0.0|          0.0|             0.0|        0.0|\n",
      "|     1|     1|26.6|    0|      6|   2017|   1|     3|  1918|     7|  2018|   184|      41|    5|     0|      1|      1|     1|    74|   999|  999|       |     N|      N|   28|           |       |          1|    4|     0|      N|      1|      1|        |     1|    N|     64|       1|       1|       1|  1|      1|      8|     3|        0|        3|        2|   155|         1|       1|       N|        0|  F|    29|3585|         0.0|            0.0|           0.0|            0.0|                0.0|            0.0|            0.0|             0.0|          0.0|             0.0|        1.0|\n",
      "|     4|     2|26.4|    0|      5|   2017|   2|     3|   536|     4|  2018|   172|      26|    2|     0|      1|      1|     1|    39|   888|   39|       |     N|      N|   22|           |       |          1|    3|     0|      N|     15|     10|        |     6|    N|     61|       1|       1|       1|  1|      1|      3|    15|        0|        1|        0|   140|         1|       2|       N|        0|  F|    32|3289|         1.0|            0.0|           0.0|            0.0|                0.0|            0.0|            0.0|             0.0|          0.0|             0.0|        1.0|\n",
      "|     3|     1|21.5|    0|      6|   2017|   1|     4|   957|     6|  2018|   143|      46|    4|     0|      1|      1|     1|   888|   999|  999|       |     N|      Y|   35|           |       |          1|    3|     0|      N|      1|      1|        |     1|    N|     65|       1|       1|       1|  1|      1|      3|    15|        0|        0|        2|   129|         1|       1|       N|        0|  F|    14|3640|         0.0|            0.0|           0.0|            1.0|                0.0|            0.0|            0.0|             0.0|          0.0|             0.0|        1.0|\n",
      "|     2|     1|31.0|    0|      7|   2017|   1|     5|   437|     7|  2018|   193|      35|    6|     0|      1|      1|     1|    43|   888|   43|       |     N|      N|   31|           |       |          2|    7|     0|      N|      1|      1|        |     1|    N|     63|       1|       1|       1|  2|      2|      3|    14|        0|        1|        0|   175|         1|       1|       N|        0|  F|    18|3850|         0.0|            0.0|           0.0|            0.0|                0.0|            0.0|            0.0|             0.0|          0.0|             0.0|        1.0|\n",
      "|     1|     1|23.3|    0|      8|   2017|   1|     5|  1515|     3|  2018|   202|      39|    7|     0|      1|      1|     1|   888|   888|  888|       |     N|      N|   37|           |       |          1|    7|     0|      N|      1|      1|        |     1|    N|     68|       1|       1|       0|  2|      2|      3|    13|        0|        0|        0|   153|         1|       1|       N|        0|  F|    49|3345|         0.0|            0.0|           0.0|            0.0|                0.0|            0.0|            0.0|             0.0|          0.0|             0.0|        1.0|\n",
      "|     4|     3|22.7|    0|      8|   2017|   1|     5|   210|     7|  2018|   190|      23|    3|     0|     15|     13|     6|   999|   999|  999|       |     N|      N|   27|           |       |          1|    3|     0|      N|      1|      1|        |     1|    N|     61|       1|       1|       1|  1|      1|      4|    11|        0|        2|       99|   120|         1|       1|       N|        0|  F|    70|3883|         0.0|            0.0|           0.0|            0.0|                0.0|            0.0|            0.0|             0.0|          0.0|             0.0|        1.0|\n",
      "|     1|     1|26.4|    0|      7|   2017|   1|     5|  1915|     4|  2018|   188|      26|    5|     0|      1|      1|     1|   888|   999|  999|       |     N|      Y|   31|           |       |          1|    6|     0|      N|      1|      1|        |     1|    N|     60|       1|       1|       1|  2|      2|      6|    16|        0|        0|        2|   135|         1|       1|       N|        0|  M|    53|3969|         0.0|            0.0|           0.0|            1.0|                0.0|            0.0|            0.0|             0.0|          0.0|             0.0|        0.0|\n",
      "|     1|     1|26.5|    0|      7|   2017|    |     3|  1323|     5|  2018|   231|      28|    3|     0|     10|      4|     4|   888|     4|    4|       |     N|      N|   28|           |       |          1|    6|     1|      N|      1|      1|        |     1|    N|     68|       1|       1|       1|  2|      2|      2|    11|        0|        0|        1|   174|         3|       2|       N|        0|  F|    57|3940|         2.0|            0.0|           0.0|            0.0|                0.0|            0.0|            0.0|             0.0|          0.0|             0.0|        1.0|\n",
      "|     3|     1|17.5|    0|     10|   2017|    |     7|    50|     6|  2018|   141|      30|    6|     0|      1|      1|     1|    27|     9|    9|       |     N|      Y|   30|           |       |          1|    3|     0|      N|      1|      1|        |     1|    N|     63|       1|       1|       1|  2|      2|      2|    14|        0|        1|        1|    99|         1|       2|       N|        0|  M|    42|3700|         2.0|            0.0|           0.0|            1.0|                0.0|            0.0|            0.0|             0.0|          0.0|             0.0|        0.0|\n",
      "|     1|     1|29.2|    0|     11|   2017|   2|     7|   725|     2|  2018|   217|      32|    3|     0|      2|      2|     2|    33|     9|    9|       |     N|      N|   27|           |       |          1|    4|     0|      N|      2|      2|        |     2|    N|     64|       1|       1|       1|  1|      1|      2|    12|        0|        1|        1|   170|         3|       2|       N|        0|  F|    47|3061|         1.0|            0.0|           0.0|            0.0|                0.0|            0.0|            0.0|             0.0|          0.0|             0.0|        1.0|\n",
      "+------+------+----+-----+-------+-------+----+------+------+------+------+------+--------+-----+------+-------+-------+------+------+------+-----+-------+------+-------+-----+-----------+-------+-----------+-----+------+-------+-------+-------+--------+------+-----+-------+--------+--------+--------+---+-------+-------+------+---------+---------+---------+------+----------+--------+--------+---------+---+------+----+------------+---------------+--------------+---------------+-------------------+---------------+---------------+----------------+-------------+----------------+-----------+\n",
      "only showing top 20 rows\n",
      "\n"
     ]
    },
    {
     "name": "stderr",
     "output_type": "stream",
     "text": [
      "                                                                                \r"
     ]
    }
   ],
   "source": [
    "# We will create new dataframe to prevent any confusion\n",
    "# All columns and their output column names\n",
    "columns_to_index = [\n",
    "    ('DMAR', 'DMAR_Indexed'),\n",
    "    ('IMP_SEX', 'IMP_SEX_indexed'),\n",
    "    ('IP_GON', 'IP_GON_indexed'),\n",
    "    ('LD_INDL', 'LD_INDL_indexed'),\n",
    "    ('MAGE_IMPFLG', 'MAGE_IMPFLG_indexed'),\n",
    "    ('MAR_IMP', 'MAR_IMP_indexed'),\n",
    "    ('MM_AICU', 'MM_AICU_indexed'),\n",
    "    ('MRACEIMP', 'MRACEIMP_indexed'),\n",
    "    ('MTRAN', 'MTRAN_indexed'),\n",
    "    ('RF_CESAR', 'RF_CESAR_indexed'),\n",
    "    ('SEX', 'SEX_indexed')\n",
    "]\n",
    "\n",
    "# Creating StringIndexer objects\n",
    "indexers = [StringIndexer(inputCol=column, outputCol=indexed_name, handleInvalid='skip') for column, indexed_name in columns_to_index]\n",
    "\n",
    "# Creating a Pipeline and add all indexers\n",
    "pipeline = Pipeline(stages=indexers)\n",
    "\n",
    "# Fitting the Pipeline and performing the transformation\n",
    "model = pipeline.fit(birth_df)\n",
    "birth_df_indexed2 = model.transform(birth_df)\n",
    "\n",
    "# Showing the results\n",
    "birth_df_indexed2.show()\n"
   ]
  },
  {
   "cell_type": "code",
   "execution_count": 31,
   "metadata": {
    "scrolled": true
   },
   "outputs": [
    {
     "name": "stdout",
     "output_type": "stream",
     "text": [
      "root\n",
      " |-- ATTEND: integer (nullable = true)\n",
      " |-- BFACIL: integer (nullable = true)\n",
      " |-- BMI: double (nullable = true)\n",
      " |-- CIG_0: integer (nullable = true)\n",
      " |-- DLMP_MM: integer (nullable = true)\n",
      " |-- DLMP_YY: integer (nullable = true)\n",
      " |-- DMAR: string (nullable = true)\n",
      " |-- DOB_MM: integer (nullable = true)\n",
      " |-- DOB_TT: integer (nullable = true)\n",
      " |-- DOB_WK: integer (nullable = true)\n",
      " |-- DOB_YY: integer (nullable = true)\n",
      " |-- DWgt_R: integer (nullable = true)\n",
      " |-- FAGECOMB: integer (nullable = true)\n",
      " |-- FEDUC: integer (nullable = true)\n",
      " |-- FHISPX: integer (nullable = true)\n",
      " |-- FRACE15: integer (nullable = true)\n",
      " |-- FRACE31: integer (nullable = true)\n",
      " |-- FRACE6: integer (nullable = true)\n",
      " |-- ILLB_R: integer (nullable = true)\n",
      " |-- ILOP_R: integer (nullable = true)\n",
      " |-- ILP_R: integer (nullable = true)\n",
      " |-- IMP_SEX: string (nullable = true)\n",
      " |-- IP_GON: string (nullable = true)\n",
      " |-- LD_INDL: string (nullable = true)\n",
      " |-- MAGER: integer (nullable = true)\n",
      " |-- MAGE_IMPFLG: string (nullable = true)\n",
      " |-- MAR_IMP: string (nullable = true)\n",
      " |-- MBSTATE_REC: integer (nullable = true)\n",
      " |-- MEDUC: integer (nullable = true)\n",
      " |-- MHISPX: integer (nullable = true)\n",
      " |-- MM_AICU: string (nullable = true)\n",
      " |-- MRACE15: integer (nullable = true)\n",
      " |-- MRACE31: integer (nullable = true)\n",
      " |-- MRACEIMP: string (nullable = true)\n",
      " |-- MRAVE6: integer (nullable = true)\n",
      " |-- MTRAN: string (nullable = true)\n",
      " |-- M_Ht_In: integer (nullable = true)\n",
      " |-- NO_INFEC: integer (nullable = true)\n",
      " |-- NO_MMORB: integer (nullable = true)\n",
      " |-- NO_RISKS: integer (nullable = true)\n",
      " |-- PAY: integer (nullable = true)\n",
      " |-- PAY_REC: integer (nullable = true)\n",
      " |-- PRECARE: integer (nullable = true)\n",
      " |-- PREVIS: integer (nullable = true)\n",
      " |-- PRIORDEAD: integer (nullable = true)\n",
      " |-- PRIORLIVE: integer (nullable = true)\n",
      " |-- PRIORTERM: integer (nullable = true)\n",
      " |-- PWgt_R: integer (nullable = true)\n",
      " |-- RDMETH_REC: integer (nullable = true)\n",
      " |-- RESTATUS: integer (nullable = true)\n",
      " |-- RF_CESAR: string (nullable = true)\n",
      " |-- RF_CESARN: integer (nullable = true)\n",
      " |-- SEX: string (nullable = true)\n",
      " |-- WTGAIN: integer (nullable = true)\n",
      " |-- DBWT: integer (nullable = true)\n",
      " |-- DMAR_Indexed: double (nullable = false)\n",
      " |-- IMP_SEX_indexed: double (nullable = false)\n",
      " |-- IP_GON_indexed: double (nullable = false)\n",
      " |-- LD_INDL_indexed: double (nullable = false)\n",
      " |-- MAGE_IMPFLG_indexed: double (nullable = false)\n",
      " |-- MAR_IMP_indexed: double (nullable = false)\n",
      " |-- MM_AICU_indexed: double (nullable = false)\n",
      " |-- MRACEIMP_indexed: double (nullable = false)\n",
      " |-- MTRAN_indexed: double (nullable = false)\n",
      " |-- RF_CESAR_indexed: double (nullable = false)\n",
      " |-- SEX_indexed: double (nullable = false)\n",
      "\n"
     ]
    }
   ],
   "source": [
    "birth_df_indexed2.printSchema()"
   ]
  },
  {
   "cell_type": "markdown",
   "metadata": {},
   "source": [
    "After combining the indexed features into the one dataframe, we notice that all the features are in the same dataframe (indexed features and string features).\n",
    "Now let's remove string features from the dataset for preventing any confusion."
   ]
  },
  {
   "cell_type": "code",
   "execution_count": 32,
   "metadata": {
    "scrolled": true
   },
   "outputs": [
    {
     "name": "stdout",
     "output_type": "stream",
     "text": [
      "root\n",
      " |-- ATTEND: integer (nullable = true)\n",
      " |-- BFACIL: integer (nullable = true)\n",
      " |-- BMI: double (nullable = true)\n",
      " |-- CIG_0: integer (nullable = true)\n",
      " |-- DLMP_MM: integer (nullable = true)\n",
      " |-- DLMP_YY: integer (nullable = true)\n",
      " |-- DOB_MM: integer (nullable = true)\n",
      " |-- DOB_TT: integer (nullable = true)\n",
      " |-- DOB_WK: integer (nullable = true)\n",
      " |-- DOB_YY: integer (nullable = true)\n",
      " |-- DWgt_R: integer (nullable = true)\n",
      " |-- FAGECOMB: integer (nullable = true)\n",
      " |-- FEDUC: integer (nullable = true)\n",
      " |-- FHISPX: integer (nullable = true)\n",
      " |-- FRACE15: integer (nullable = true)\n",
      " |-- FRACE31: integer (nullable = true)\n",
      " |-- FRACE6: integer (nullable = true)\n",
      " |-- ILLB_R: integer (nullable = true)\n",
      " |-- ILOP_R: integer (nullable = true)\n",
      " |-- ILP_R: integer (nullable = true)\n",
      " |-- MAGER: integer (nullable = true)\n",
      " |-- MBSTATE_REC: integer (nullable = true)\n",
      " |-- MEDUC: integer (nullable = true)\n",
      " |-- MHISPX: integer (nullable = true)\n",
      " |-- MRACE15: integer (nullable = true)\n",
      " |-- MRACE31: integer (nullable = true)\n",
      " |-- MRAVE6: integer (nullable = true)\n",
      " |-- M_Ht_In: integer (nullable = true)\n",
      " |-- NO_INFEC: integer (nullable = true)\n",
      " |-- NO_MMORB: integer (nullable = true)\n",
      " |-- NO_RISKS: integer (nullable = true)\n",
      " |-- PAY: integer (nullable = true)\n",
      " |-- PAY_REC: integer (nullable = true)\n",
      " |-- PRECARE: integer (nullable = true)\n",
      " |-- PREVIS: integer (nullable = true)\n",
      " |-- PRIORDEAD: integer (nullable = true)\n",
      " |-- PRIORLIVE: integer (nullable = true)\n",
      " |-- PRIORTERM: integer (nullable = true)\n",
      " |-- PWgt_R: integer (nullable = true)\n",
      " |-- RDMETH_REC: integer (nullable = true)\n",
      " |-- RESTATUS: integer (nullable = true)\n",
      " |-- RF_CESARN: integer (nullable = true)\n",
      " |-- WTGAIN: integer (nullable = true)\n",
      " |-- DBWT: integer (nullable = true)\n",
      " |-- DMAR_Indexed: double (nullable = false)\n",
      " |-- IMP_SEX_indexed: double (nullable = false)\n",
      " |-- IP_GON_indexed: double (nullable = false)\n",
      " |-- LD_INDL_indexed: double (nullable = false)\n",
      " |-- MAGE_IMPFLG_indexed: double (nullable = false)\n",
      " |-- MAR_IMP_indexed: double (nullable = false)\n",
      " |-- MM_AICU_indexed: double (nullable = false)\n",
      " |-- MRACEIMP_indexed: double (nullable = false)\n",
      " |-- MTRAN_indexed: double (nullable = false)\n",
      " |-- RF_CESAR_indexed: double (nullable = false)\n",
      " |-- SEX_indexed: double (nullable = false)\n",
      "\n"
     ]
    }
   ],
   "source": [
    "columns_to_remove = [\n",
    "    'DMAR', 'IMP_SEX', 'IP_GON', 'LD_INDL', 'MAGE_IMPFLG',\n",
    "    'MAR_IMP', 'MM_AICU', 'MRACEIMP', 'MTRAN', 'RF_CESAR', 'SEX'\n",
    "]\n",
    "\n",
    "# Columns to remove\n",
    "birth_df_indexed2 = birth_df_indexed2.drop(*columns_to_remove)\n",
    "\n",
    "# Checking updated dataframe\n",
    "birth_df_indexed2.printSchema()"
   ]
  },
  {
   "cell_type": "code",
   "execution_count": 33,
   "metadata": {},
   "outputs": [
    {
     "name": "stderr",
     "output_type": "stream",
     "text": [
      "[Stage 172:===================================>                     (5 + 3) / 8]\r"
     ]
    },
    {
     "name": "stdout",
     "output_type": "stream",
     "text": [
      "+------+------+----+-----+-------+-------+------+------+------+------+------+--------+-----+------+-------+-------+------+------+------+-----+-----+-----------+-----+------+-------+-------+------+-------+--------+--------+--------+---+-------+-------+------+---------+---------+---------+------+----------+--------+---------+------+----+------------+---------------+--------------+---------------+-------------------+---------------+---------------+----------------+-------------+----------------+-----------+\n",
      "|ATTEND|BFACIL| BMI|CIG_0|DLMP_MM|DLMP_YY|DOB_MM|DOB_TT|DOB_WK|DOB_YY|DWgt_R|FAGECOMB|FEDUC|FHISPX|FRACE15|FRACE31|FRACE6|ILLB_R|ILOP_R|ILP_R|MAGER|MBSTATE_REC|MEDUC|MHISPX|MRACE15|MRACE31|MRAVE6|M_Ht_In|NO_INFEC|NO_MMORB|NO_RISKS|PAY|PAY_REC|PRECARE|PREVIS|PRIORDEAD|PRIORLIVE|PRIORTERM|PWgt_R|RDMETH_REC|RESTATUS|RF_CESARN|WTGAIN|DBWT|DMAR_Indexed|IMP_SEX_indexed|IP_GON_indexed|LD_INDL_indexed|MAGE_IMPFLG_indexed|MAR_IMP_indexed|MM_AICU_indexed|MRACEIMP_indexed|MTRAN_indexed|RF_CESAR_indexed|SEX_indexed|\n",
      "+------+------+----+-----+-------+-------+------+------+------+------+------+--------+-----+------+-------+-------+------+------+------+-----+-----+-----------+-----+------+-------+-------+------+-------+--------+--------+--------+---+-------+-------+------+---------+---------+---------+------+----------+--------+---------+------+----+------------+---------------+--------------+---------------+-------------------+---------------+---------------+----------------+-------------+----------------+-----------+\n",
      "|     1|     1|24.7|    0|      3|   2017|     1|  1754|     5|  2018|   155|      42|    4|     0|      1|      1|     1|    67|   888|   67|   37|          2|    2|     0|      1|      1|     1|     62|       1|       1|       0|  2|      2|      2|    14|        0|        2|        0|   135|         4|       1|        2|    20|3700|         0.0|            0.0|           0.0|            0.0|                0.0|            0.0|            0.0|             0.0|          0.0|             1.0|        1.0|\n",
      "|     3|     1|21.3|    0|      4|   2017|     1|   208|     4|  2018|   174|      35|    3|     0|      1|      1|     1|   112|   999|  999|   31|          1|    3|     0|      1|      1|     1|     68|       1|       1|       0|  2|      2|      2|    10|        0|        1|        1|   140|         1|       1|        0|    34|4125|         1.0|            0.0|           0.0|            1.0|                0.0|            0.0|            0.0|             0.0|          0.0|             0.0|        1.0|\n",
      "|     1|     1|28.5|    0|      5|   2017|     2|  1816|     6|  2018|   166|      33|    3|     0|      3|      3|     3|    31|    10|   10|   29|          1|    3|     0|      3|      3|     3|     61|       1|       1|       0|  1|      1|      3|     7|        0|        4|        1|   151|         1|       1|        0|    15|3305|         0.0|            0.0|           0.0|            0.0|                0.0|            0.0|            0.0|             0.0|          0.0|             0.0|        0.0|\n",
      "|     1|     1|19.8|    0|      4|   2017|     1|  2130|     2|  2018|   144|      25|    3|     0|      1|      1|     1|   888|   888|  888|   21|          1|    3|     0|      1|      1|     1|     63|       1|       1|       1|  5|      4|      2|     9|        0|        0|        0|   112|         1|       1|        0|    32|3561|         0.0|            0.0|           0.0|            0.0|                0.0|            0.0|            0.0|             0.0|          0.0|             0.0|        0.0|\n",
      "|     1|     1|25.3|    0|      5|   2017|     2|   324|     2|  2018|   184|      29|    5|     0|      1|      1|     1|   888|   888|  888|   30|          1|    6|     0|      1|      1|     1|     65|       1|       1|       1|  2|      2|      4|    13|        0|        0|        0|   152|         1|       1|        0|    32|2995|         0.0|            0.0|           0.0|            0.0|                0.0|            0.0|            0.0|             0.0|          1.0|             0.0|        1.0|\n",
      "|     1|     1|22.8|    0|      5|   2017|     2|   806|     3|  2018|   171|      36|    6|     0|      1|      1|     1|    42|   888|   42|   36|          1|    5|     0|      1|      1|     1|     68|       1|       1|       1|  2|      2|      2|    12|        0|        2|        0|   150|         3|       1|        0|    21|4196|         0.0|            0.0|           0.0|            0.0|                0.0|            0.0|            0.0|             0.0|          0.0|             0.0|        1.0|\n",
      "|     1|     1|24.0|    0|      6|   2017|     3|  1236|     4|  2018|   180|      32|    8|     0|      1|      1|     1|   888|   999|  999|   29|          1|    7|     0|      1|      1|     1|     64|       1|       1|       0|  2|      2|      5|    10|        0|        0|        1|   140|         3|       1|        0|    40|4000|         0.0|            0.0|           0.0|            0.0|                0.0|            0.0|            0.0|             0.0|          0.0|             0.0|        1.0|\n",
      "|     1|     1|27.5|    0|      6|   2017|     3|   806|     5|  2018|   173|      29|    3|     0|      2|      2|     2|    15|   888|   15|   21|          1|    3|     1|      1|      1|     1|     64|       1|       1|       0|  1|      1|     99|    99|        0|        1|        0|   160|         4|       1|        1|    13|3110|         1.0|            0.0|           0.0|            0.0|                0.0|            0.0|            0.0|             0.0|          0.0|             1.0|        1.0|\n",
      "|     1|     1|24.2|    0|      5|   2017|     3|  2247|     7|  2018|   158|      35|    6|     0|      1|      1|     1|   888|   888|  888|   29|          1|    7|     0|      1|      1|     1|     60|       1|       1|       1|  2|      2|      2|    14|        0|        0|        0|   124|         3|       1|        0|    34|3510|         0.0|            0.0|           0.0|            0.0|                0.0|            0.0|            0.0|             0.0|          0.0|             0.0|        0.0|\n",
      "|     2|     1|24.1|    0|      5|   2017|     3|  1219|     3|  2018|   224|      39|    3|     0|      1|      1|     1|   888|   888|  888|   34|          1|    6|     0|      1|      1|     1|     72|       1|       1|       0|  2|      2|      2|    12|        0|        0|        0|   178|         3|       1|        0|    46|4075|         0.0|            0.0|           0.0|            0.0|                0.0|            0.0|            0.0|             0.0|          0.0|             0.0|        0.0|\n",
      "|     1|     1|26.6|    0|      6|   2017|     3|  1918|     7|  2018|   184|      41|    5|     0|      1|      1|     1|    74|   999|  999|   28|          1|    4|     0|      1|      1|     1|     64|       1|       1|       1|  1|      1|      8|     3|        0|        3|        2|   155|         1|       1|        0|    29|3585|         0.0|            0.0|           0.0|            0.0|                0.0|            0.0|            0.0|             0.0|          0.0|             0.0|        1.0|\n",
      "|     4|     2|26.4|    0|      5|   2017|     3|   536|     4|  2018|   172|      26|    2|     0|      1|      1|     1|    39|   888|   39|   22|          1|    3|     0|     15|     10|     6|     61|       1|       1|       1|  1|      1|      3|    15|        0|        1|        0|   140|         1|       2|        0|    32|3289|         1.0|            0.0|           0.0|            0.0|                0.0|            0.0|            0.0|             0.0|          0.0|             0.0|        1.0|\n",
      "|     3|     1|21.5|    0|      6|   2017|     4|   957|     6|  2018|   143|      46|    4|     0|      1|      1|     1|   888|   999|  999|   35|          1|    3|     0|      1|      1|     1|     65|       1|       1|       1|  1|      1|      3|    15|        0|        0|        2|   129|         1|       1|        0|    14|3640|         0.0|            0.0|           0.0|            1.0|                0.0|            0.0|            0.0|             0.0|          0.0|             0.0|        1.0|\n",
      "|     2|     1|31.0|    0|      7|   2017|     5|   437|     7|  2018|   193|      35|    6|     0|      1|      1|     1|    43|   888|   43|   31|          2|    7|     0|      1|      1|     1|     63|       1|       1|       1|  2|      2|      3|    14|        0|        1|        0|   175|         1|       1|        0|    18|3850|         0.0|            0.0|           0.0|            0.0|                0.0|            0.0|            0.0|             0.0|          0.0|             0.0|        1.0|\n",
      "|     1|     1|23.3|    0|      8|   2017|     5|  1515|     3|  2018|   202|      39|    7|     0|      1|      1|     1|   888|   888|  888|   37|          1|    7|     0|      1|      1|     1|     68|       1|       1|       0|  2|      2|      3|    13|        0|        0|        0|   153|         1|       1|        0|    49|3345|         0.0|            0.0|           0.0|            0.0|                0.0|            0.0|            0.0|             0.0|          0.0|             0.0|        1.0|\n",
      "|     4|     3|22.7|    0|      8|   2017|     5|   210|     7|  2018|   190|      23|    3|     0|     15|     13|     6|   999|   999|  999|   27|          1|    3|     0|      1|      1|     1|     61|       1|       1|       1|  1|      1|      4|    11|        0|        2|       99|   120|         1|       1|        0|    70|3883|         0.0|            0.0|           0.0|            0.0|                0.0|            0.0|            0.0|             0.0|          0.0|             0.0|        1.0|\n",
      "|     1|     1|26.4|    0|      7|   2017|     5|  1915|     4|  2018|   188|      26|    5|     0|      1|      1|     1|   888|   999|  999|   31|          1|    6|     0|      1|      1|     1|     60|       1|       1|       1|  2|      2|      6|    16|        0|        0|        2|   135|         1|       1|        0|    53|3969|         0.0|            0.0|           0.0|            1.0|                0.0|            0.0|            0.0|             0.0|          0.0|             0.0|        0.0|\n",
      "|     1|     1|26.5|    0|      7|   2017|     3|  1323|     5|  2018|   231|      28|    3|     0|     10|      4|     4|   888|     4|    4|   28|          1|    6|     1|      1|      1|     1|     68|       1|       1|       1|  2|      2|      2|    11|        0|        0|        1|   174|         3|       2|        0|    57|3940|         2.0|            0.0|           0.0|            0.0|                0.0|            0.0|            0.0|             0.0|          0.0|             0.0|        1.0|\n",
      "|     3|     1|17.5|    0|     10|   2017|     7|    50|     6|  2018|   141|      30|    6|     0|      1|      1|     1|    27|     9|    9|   30|          1|    3|     0|      1|      1|     1|     63|       1|       1|       1|  2|      2|      2|    14|        0|        1|        1|    99|         1|       2|        0|    42|3700|         2.0|            0.0|           0.0|            1.0|                0.0|            0.0|            0.0|             0.0|          0.0|             0.0|        0.0|\n",
      "|     1|     1|29.2|    0|     11|   2017|     7|   725|     2|  2018|   217|      32|    3|     0|      2|      2|     2|    33|     9|    9|   27|          1|    4|     0|      2|      2|     2|     64|       1|       1|       1|  1|      1|      2|    12|        0|        1|        1|   170|         3|       2|        0|    47|3061|         1.0|            0.0|           0.0|            0.0|                0.0|            0.0|            0.0|             0.0|          0.0|             0.0|        1.0|\n",
      "+------+------+----+-----+-------+-------+------+------+------+------+------+--------+-----+------+-------+-------+------+------+------+-----+-----+-----------+-----+------+-------+-------+------+-------+--------+--------+--------+---+-------+-------+------+---------+---------+---------+------+----------+--------+---------+------+----+------------+---------------+--------------+---------------+-------------------+---------------+---------------+----------------+-------------+----------------+-----------+\n",
      "only showing top 20 rows\n",
      "\n"
     ]
    },
    {
     "name": "stderr",
     "output_type": "stream",
     "text": [
      "                                                                                \r"
     ]
    }
   ],
   "source": [
    "# We assign the indexed dataframe as the actual dataframe.\n",
    "birth_df = birth_df_indexed2\n",
    "\n",
    "# Checking birth_df\n",
    "birth_df.show()"
   ]
  },
  {
   "cell_type": "markdown",
   "metadata": {},
   "source": [
    "## 2.3 Feature Removing"
   ]
  },
  {
   "cell_type": "markdown",
   "metadata": {},
   "source": [
    "### 2.3.1 Using Correlation Coefficients"
   ]
  },
  {
   "cell_type": "code",
   "execution_count": 38,
   "metadata": {},
   "outputs": [
    {
     "name": "stderr",
     "output_type": "stream",
     "text": [
      "                                                                                \r"
     ]
    },
    {
     "name": "stdout",
     "output_type": "stream",
     "text": [
      "Correlation (DBWT and ATTEND): 0.0660329770633437\n"
     ]
    },
    {
     "name": "stderr",
     "output_type": "stream",
     "text": [
      "                                                                                \r"
     ]
    },
    {
     "name": "stdout",
     "output_type": "stream",
     "text": [
      "Correlation (DBWT and BFACIL): 0.03120878300362332\n"
     ]
    },
    {
     "name": "stderr",
     "output_type": "stream",
     "text": [
      "                                                                                \r"
     ]
    },
    {
     "name": "stdout",
     "output_type": "stream",
     "text": [
      "Correlation (DBWT and BMI): 0.0071328572690093454\n"
     ]
    },
    {
     "name": "stderr",
     "output_type": "stream",
     "text": [
      "                                                                                \r"
     ]
    },
    {
     "name": "stdout",
     "output_type": "stream",
     "text": [
      "Correlation (DBWT and CIG_0): -0.048750976492003065\n"
     ]
    },
    {
     "name": "stderr",
     "output_type": "stream",
     "text": [
      "                                                                                \r"
     ]
    },
    {
     "name": "stdout",
     "output_type": "stream",
     "text": [
      "Correlation (DBWT and DLMP_MM): -0.0323062242770345\n"
     ]
    },
    {
     "name": "stderr",
     "output_type": "stream",
     "text": [
      "                                                                                \r"
     ]
    },
    {
     "name": "stdout",
     "output_type": "stream",
     "text": [
      "Correlation (DBWT and DLMP_YY): -0.033061624253114326\n"
     ]
    },
    {
     "name": "stderr",
     "output_type": "stream",
     "text": [
      "                                                                                \r"
     ]
    },
    {
     "name": "stdout",
     "output_type": "stream",
     "text": [
      "Correlation (DBWT and DOB_MM): -0.0042733679044357105\n"
     ]
    },
    {
     "name": "stderr",
     "output_type": "stream",
     "text": [
      "                                                                                \r"
     ]
    },
    {
     "name": "stdout",
     "output_type": "stream",
     "text": [
      "Correlation (DBWT and DOB_TT): -0.0018932687452942242\n"
     ]
    },
    {
     "name": "stderr",
     "output_type": "stream",
     "text": [
      "                                                                                \r"
     ]
    },
    {
     "name": "stdout",
     "output_type": "stream",
     "text": [
      "Correlation (DBWT and DOB_WK): -0.006829815057485014\n"
     ]
    },
    {
     "name": "stderr",
     "output_type": "stream",
     "text": [
      "                                                                                \r"
     ]
    },
    {
     "name": "stdout",
     "output_type": "stream",
     "text": [
      "Correlation (DBWT and DOB_YY): nan\n"
     ]
    },
    {
     "name": "stderr",
     "output_type": "stream",
     "text": [
      "                                                                                \r"
     ]
    },
    {
     "name": "stdout",
     "output_type": "stream",
     "text": [
      "Correlation (DBWT and DWgt_R): 0.0460267044238054\n"
     ]
    },
    {
     "name": "stderr",
     "output_type": "stream",
     "text": [
      "                                                                                \r"
     ]
    },
    {
     "name": "stdout",
     "output_type": "stream",
     "text": [
      "Correlation (DBWT and FAGECOMB): -0.08568928670926604\n"
     ]
    },
    {
     "name": "stderr",
     "output_type": "stream",
     "text": [
      "                                                                                \r"
     ]
    },
    {
     "name": "stdout",
     "output_type": "stream",
     "text": [
      "Correlation (DBWT and FEDUC): -0.029638674588220133\n"
     ]
    },
    {
     "name": "stderr",
     "output_type": "stream",
     "text": [
      "                                                                                \r"
     ]
    },
    {
     "name": "stdout",
     "output_type": "stream",
     "text": [
      "Correlation (DBWT and FHISPX): -0.09072464099949766\n"
     ]
    },
    {
     "name": "stderr",
     "output_type": "stream",
     "text": [
      "                                                                                \r"
     ]
    },
    {
     "name": "stdout",
     "output_type": "stream",
     "text": [
      "Correlation (DBWT and FRACE15): -0.08587819216034948\n"
     ]
    },
    {
     "name": "stderr",
     "output_type": "stream",
     "text": [
      "                                                                                \r"
     ]
    },
    {
     "name": "stdout",
     "output_type": "stream",
     "text": [
      "Correlation (DBWT and FRACE31): -0.08522003841307921\n"
     ]
    },
    {
     "name": "stderr",
     "output_type": "stream",
     "text": [
      "                                                                                \r"
     ]
    },
    {
     "name": "stdout",
     "output_type": "stream",
     "text": [
      "Correlation (DBWT and FRACE6): -0.10241051603247536\n"
     ]
    },
    {
     "name": "stderr",
     "output_type": "stream",
     "text": [
      "                                                                                \r"
     ]
    },
    {
     "name": "stdout",
     "output_type": "stream",
     "text": [
      "Correlation (DBWT and ILLB_R): -0.059775552103827526\n"
     ]
    },
    {
     "name": "stderr",
     "output_type": "stream",
     "text": [
      "                                                                                \r"
     ]
    },
    {
     "name": "stdout",
     "output_type": "stream",
     "text": [
      "Correlation (DBWT and ILOP_R): -0.0036739743943222858\n"
     ]
    },
    {
     "name": "stderr",
     "output_type": "stream",
     "text": [
      "                                                                                \r"
     ]
    },
    {
     "name": "stdout",
     "output_type": "stream",
     "text": [
      "Correlation (DBWT and ILP_R): -0.05413116901850391\n"
     ]
    },
    {
     "name": "stderr",
     "output_type": "stream",
     "text": [
      "                                                                                \r"
     ]
    },
    {
     "name": "stdout",
     "output_type": "stream",
     "text": [
      "Correlation (DBWT and MAGER): 0.04358959198978101\n"
     ]
    },
    {
     "name": "stderr",
     "output_type": "stream",
     "text": [
      "                                                                                \r"
     ]
    },
    {
     "name": "stdout",
     "output_type": "stream",
     "text": [
      "Correlation (DBWT and MBSTATE_REC): -0.010984354417201605\n"
     ]
    },
    {
     "name": "stderr",
     "output_type": "stream",
     "text": [
      "                                                                                \r"
     ]
    },
    {
     "name": "stdout",
     "output_type": "stream",
     "text": [
      "Correlation (DBWT and MEDUC): 0.0716610191588086\n"
     ]
    },
    {
     "name": "stderr",
     "output_type": "stream",
     "text": [
      "                                                                                \r"
     ]
    },
    {
     "name": "stdout",
     "output_type": "stream",
     "text": [
      "Correlation (DBWT and MHISPX): -0.01101865583384784\n"
     ]
    },
    {
     "name": "stderr",
     "output_type": "stream",
     "text": [
      "                                                                                \r"
     ]
    },
    {
     "name": "stdout",
     "output_type": "stream",
     "text": [
      "Correlation (DBWT and MRACE15): -0.043436842553733465\n"
     ]
    },
    {
     "name": "stderr",
     "output_type": "stream",
     "text": [
      "                                                                                \r"
     ]
    },
    {
     "name": "stdout",
     "output_type": "stream",
     "text": [
      "Correlation (DBWT and MRACE31): -0.046920797710985666\n"
     ]
    },
    {
     "name": "stderr",
     "output_type": "stream",
     "text": [
      "                                                                                \r"
     ]
    },
    {
     "name": "stdout",
     "output_type": "stream",
     "text": [
      "Correlation (DBWT and MRAVE6): -0.07706181143924574\n"
     ]
    },
    {
     "name": "stderr",
     "output_type": "stream",
     "text": [
      "                                                                                \r"
     ]
    },
    {
     "name": "stdout",
     "output_type": "stream",
     "text": [
      "Correlation (DBWT and M_Ht_In): 0.09980814487475127\n"
     ]
    },
    {
     "name": "stderr",
     "output_type": "stream",
     "text": [
      "                                                                                \r"
     ]
    },
    {
     "name": "stdout",
     "output_type": "stream",
     "text": [
      "Correlation (DBWT and NO_INFEC): -0.0034626024776994247\n"
     ]
    },
    {
     "name": "stderr",
     "output_type": "stream",
     "text": [
      "                                                                                \r"
     ]
    },
    {
     "name": "stdout",
     "output_type": "stream",
     "text": [
      "Correlation (DBWT and NO_MMORB): -0.003659172086732437\n"
     ]
    },
    {
     "name": "stderr",
     "output_type": "stream",
     "text": [
      "                                                                                \r"
     ]
    },
    {
     "name": "stdout",
     "output_type": "stream",
     "text": [
      "Correlation (DBWT and NO_RISKS): 0.06550881590644084\n"
     ]
    },
    {
     "name": "stderr",
     "output_type": "stream",
     "text": [
      "                                                                                \r"
     ]
    },
    {
     "name": "stdout",
     "output_type": "stream",
     "text": [
      "Correlation (DBWT and PAY): 0.036609483590699994\n"
     ]
    },
    {
     "name": "stderr",
     "output_type": "stream",
     "text": [
      "                                                                                \r"
     ]
    },
    {
     "name": "stdout",
     "output_type": "stream",
     "text": [
      "Correlation (DBWT and PAY_REC): 0.052176204232438565\n"
     ]
    },
    {
     "name": "stderr",
     "output_type": "stream",
     "text": [
      "                                                                                \r"
     ]
    },
    {
     "name": "stdout",
     "output_type": "stream",
     "text": [
      "Correlation (DBWT and PRECARE): -0.04131400552202143\n"
     ]
    },
    {
     "name": "stderr",
     "output_type": "stream",
     "text": [
      "                                                                                \r"
     ]
    },
    {
     "name": "stdout",
     "output_type": "stream",
     "text": [
      "Correlation (DBWT and PREVIS): 0.005310742100463932\n"
     ]
    },
    {
     "name": "stderr",
     "output_type": "stream",
     "text": [
      "                                                                                \r"
     ]
    },
    {
     "name": "stdout",
     "output_type": "stream",
     "text": [
      "Correlation (DBWT and PRIORDEAD): -0.005891309250678859\n"
     ]
    },
    {
     "name": "stderr",
     "output_type": "stream",
     "text": [
      "                                                                                \r"
     ]
    },
    {
     "name": "stdout",
     "output_type": "stream",
     "text": [
      "Correlation (DBWT and PRIORLIVE): -3.662841113028343e-05\n"
     ]
    },
    {
     "name": "stderr",
     "output_type": "stream",
     "text": [
      "                                                                                \r"
     ]
    },
    {
     "name": "stdout",
     "output_type": "stream",
     "text": [
      "Correlation (DBWT and PRIORTERM): -0.009220157645208392\n"
     ]
    },
    {
     "name": "stderr",
     "output_type": "stream",
     "text": [
      "                                                                                \r"
     ]
    },
    {
     "name": "stdout",
     "output_type": "stream",
     "text": [
      "Correlation (DBWT and PWgt_R): 0.006195557466352074\n"
     ]
    },
    {
     "name": "stderr",
     "output_type": "stream",
     "text": [
      "                                                                                \r"
     ]
    },
    {
     "name": "stdout",
     "output_type": "stream",
     "text": [
      "Correlation (DBWT and RDMETH_REC): -0.05105177913348051\n"
     ]
    },
    {
     "name": "stderr",
     "output_type": "stream",
     "text": [
      "                                                                                \r"
     ]
    },
    {
     "name": "stdout",
     "output_type": "stream",
     "text": [
      "Correlation (DBWT and RESTATUS): -0.014704503402084006\n"
     ]
    },
    {
     "name": "stderr",
     "output_type": "stream",
     "text": [
      "                                                                                \r"
     ]
    },
    {
     "name": "stdout",
     "output_type": "stream",
     "text": [
      "Correlation (DBWT and RF_CESARN): -0.0061281239357344405\n"
     ]
    },
    {
     "name": "stderr",
     "output_type": "stream",
     "text": [
      "                                                                                \r"
     ]
    },
    {
     "name": "stdout",
     "output_type": "stream",
     "text": [
      "Correlation (DBWT and WTGAIN): 0.10533617104254864\n"
     ]
    },
    {
     "name": "stderr",
     "output_type": "stream",
     "text": [
      "                                                                                \r"
     ]
    },
    {
     "name": "stdout",
     "output_type": "stream",
     "text": [
      "Correlation (DBWT and DMAR_Indexed): -0.06100427750777923\n"
     ]
    },
    {
     "name": "stderr",
     "output_type": "stream",
     "text": [
      "                                                                                \r"
     ]
    },
    {
     "name": "stdout",
     "output_type": "stream",
     "text": [
      "Correlation (DBWT and IMP_SEX_indexed): -0.00664996737774643\n"
     ]
    },
    {
     "name": "stderr",
     "output_type": "stream",
     "text": [
      "                                                                                \r"
     ]
    },
    {
     "name": "stdout",
     "output_type": "stream",
     "text": [
      "Correlation (DBWT and IP_GON_indexed): -0.028030904985367602\n"
     ]
    },
    {
     "name": "stderr",
     "output_type": "stream",
     "text": [
      "                                                                                \r"
     ]
    },
    {
     "name": "stdout",
     "output_type": "stream",
     "text": [
      "Correlation (DBWT and LD_INDL_indexed): 0.06050996951441731\n"
     ]
    },
    {
     "name": "stderr",
     "output_type": "stream",
     "text": [
      "                                                                                \r"
     ]
    },
    {
     "name": "stdout",
     "output_type": "stream",
     "text": [
      "Correlation (DBWT and MAGE_IMPFLG_indexed): -0.0035099104496965176\n"
     ]
    },
    {
     "name": "stderr",
     "output_type": "stream",
     "text": [
      "                                                                                \r"
     ]
    },
    {
     "name": "stdout",
     "output_type": "stream",
     "text": [
      "Correlation (DBWT and MAR_IMP_indexed): -0.011799609272491423\n"
     ]
    },
    {
     "name": "stderr",
     "output_type": "stream",
     "text": [
      "                                                                                \r"
     ]
    },
    {
     "name": "stdout",
     "output_type": "stream",
     "text": [
      "Correlation (DBWT and MM_AICU_indexed): -0.023301753292826924\n"
     ]
    },
    {
     "name": "stderr",
     "output_type": "stream",
     "text": [
      "                                                                                \r"
     ]
    },
    {
     "name": "stdout",
     "output_type": "stream",
     "text": [
      "Correlation (DBWT and MRACEIMP_indexed): -0.007238610970448987\n"
     ]
    },
    {
     "name": "stderr",
     "output_type": "stream",
     "text": [
      "                                                                                \r"
     ]
    },
    {
     "name": "stdout",
     "output_type": "stream",
     "text": [
      "Correlation (DBWT and MTRAN_indexed): -0.10036424106809785\n"
     ]
    },
    {
     "name": "stderr",
     "output_type": "stream",
     "text": [
      "                                                                                \r"
     ]
    },
    {
     "name": "stdout",
     "output_type": "stream",
     "text": [
      "Correlation (DBWT and RF_CESAR_indexed): 0.015320283669879706\n"
     ]
    },
    {
     "name": "stderr",
     "output_type": "stream",
     "text": [
      "[Stage 823:==================================================>     (9 + 1) / 10]\r"
     ]
    },
    {
     "name": "stdout",
     "output_type": "stream",
     "text": [
      "Correlation (DBWT and SEX_indexed): -0.09645641914661501\n"
     ]
    },
    {
     "name": "stderr",
     "output_type": "stream",
     "text": [
      "                                                                                \r"
     ]
    }
   ],
   "source": [
    "numeric_columns = [col_name for col_name in birth_df.columns if col_name != 'DBWT']\n",
    "\n",
    "# Calculating correlations between 'DBWT' and other numeric columns\n",
    "for column in numeric_columns:\n",
    "    try:\n",
    "        # Correlation calculation, we use try-except in case some columns are non-numeric\n",
    "        correlation = birth_df.stat.corr('DBWT', column)\n",
    "        print(f\"Correlation (DBWT and {column}): {correlation}\")\n",
    "    except Exception as e:\n",
    "        print(f\"Correlation cannot be calculated (DBWT and {column}): {str(e)}\")\n"
   ]
  },
  {
   "cell_type": "markdown",
   "metadata": {},
   "source": [
    "Let's see the count of 'DOB_YY' indexes to see why its correlation coefficient couldn't be calculated."
   ]
  },
  {
   "cell_type": "code",
   "execution_count": 34,
   "metadata": {
    "scrolled": false
   },
   "outputs": [
    {
     "name": "stderr",
     "output_type": "stream",
     "text": [
      "[Stage 177:==================================================>     (9 + 1) / 10]\r"
     ]
    },
    {
     "name": "stdout",
     "output_type": "stream",
     "text": [
      "+------+-------+\n",
      "|DOB_YY|  count|\n",
      "+------+-------+\n",
      "|  2018|3798539|\n",
      "+------+-------+\n",
      "\n"
     ]
    },
    {
     "name": "stderr",
     "output_type": "stream",
     "text": [
      "                                                                                \r"
     ]
    }
   ],
   "source": [
    "index_counts = birth_df.groupBy('DOB_YY').count()\n",
    "index_counts.show()"
   ]
  },
  {
   "cell_type": "markdown",
   "metadata": {},
   "source": [
    "As can be seen, the 'DOB_YY' column has just a '2018' value, so its correlation coefficient could not be calculated. Now, we can drop 'DOB_YY'. We will also drop the features that are not statistically significant with the target value (which has the most minor correlation coefficient)."
   ]
  },
  {
   "cell_type": "code",
   "execution_count": 35,
   "metadata": {},
   "outputs": [
    {
     "name": "stdout",
     "output_type": "stream",
     "text": [
      "root\n",
      " |-- ATTEND: integer (nullable = true)\n",
      " |-- BFACIL: integer (nullable = true)\n",
      " |-- CIG_0: integer (nullable = true)\n",
      " |-- DLMP_MM: integer (nullable = true)\n",
      " |-- DLMP_YY: integer (nullable = true)\n",
      " |-- DWgt_R: integer (nullable = true)\n",
      " |-- FAGECOMB: integer (nullable = true)\n",
      " |-- FHISPX: integer (nullable = true)\n",
      " |-- FRACE15: integer (nullable = true)\n",
      " |-- FRACE31: integer (nullable = true)\n",
      " |-- FRACE6: integer (nullable = true)\n",
      " |-- ILLB_R: integer (nullable = true)\n",
      " |-- ILP_R: integer (nullable = true)\n",
      " |-- MAGER: integer (nullable = true)\n",
      " |-- MEDUC: integer (nullable = true)\n",
      " |-- MRACE15: integer (nullable = true)\n",
      " |-- MRACE31: integer (nullable = true)\n",
      " |-- MRAVE6: integer (nullable = true)\n",
      " |-- M_Ht_In: integer (nullable = true)\n",
      " |-- NO_RISKS: integer (nullable = true)\n",
      " |-- PAY: integer (nullable = true)\n",
      " |-- PAY_REC: integer (nullable = true)\n",
      " |-- PRECARE: integer (nullable = true)\n",
      " |-- RDMETH_REC: integer (nullable = true)\n",
      " |-- WTGAIN: integer (nullable = true)\n",
      " |-- DBWT: integer (nullable = true)\n",
      " |-- DMAR_Indexed: double (nullable = false)\n",
      " |-- LD_INDL_indexed: double (nullable = false)\n",
      " |-- MTRAN_indexed: double (nullable = false)\n",
      " |-- SEX_indexed: double (nullable = false)\n",
      "\n"
     ]
    }
   ],
   "source": [
    "columns_to_drop = [\n",
    "    \"PRIORLIVE\", \"DOB_TT\", \"NO_INFEC\", \"MAGE_IMPFLG_indexed\",\n",
    "    \"NO_MMORB\", \"ILOP_R\", \"DOB_MM\", \"DOB_YY\", \"PREVIS\", \"PRIORDEAD\",\n",
    "    \"RF_CESARN\", \"PWgt_R\", \"IMP_SEX_indexed\", \"DOB_WK\",\n",
    "    \"BMI\", \"MRACEIMP_indexed\", \"PRIORTERM\", \"MBSTATE_REC\",\n",
    "    \"MHISPX\", \"MAR_IMP_indexed\", \"RESTATUS\", \"RF_CESAR_indexed\",\n",
    "    \"MM_AICU_indexed\", \"IP_GON_indexed\", \"FEDUC\"\n",
    "]\n",
    "\n",
    "# Features removing\n",
    "birth_df_cleaned = birth_df.drop(*columns_to_drop)\n",
    "\n",
    "# Checking dataset\n",
    "birth_df_cleaned.printSchema()\n"
   ]
  },
  {
   "cell_type": "markdown",
   "metadata": {},
   "source": [
    "After cleaning those features, we will recheck the outlier values using the most updated data frame. We will check it with the max-min value calculation as we did before."
   ]
  },
  {
   "cell_type": "markdown",
   "metadata": {},
   "source": [
    "### 2.3.2 Removing Outliers From Updated Features"
   ]
  },
  {
   "cell_type": "code",
   "execution_count": 42,
   "metadata": {
    "scrolled": true
   },
   "outputs": [
    {
     "name": "stderr",
     "output_type": "stream",
     "text": [
      "                                                                                \r"
     ]
    },
    {
     "name": "stdout",
     "output_type": "stream",
     "text": [
      "Column: ATTEND\n",
      "  Min Value: 1\n",
      "  Max Value: 9\n",
      "\n",
      "\n"
     ]
    },
    {
     "name": "stderr",
     "output_type": "stream",
     "text": [
      "                                                                                \r"
     ]
    },
    {
     "name": "stdout",
     "output_type": "stream",
     "text": [
      "Column: BFACIL\n",
      "  Min Value: 1\n",
      "  Max Value: 9\n",
      "\n",
      "\n"
     ]
    },
    {
     "name": "stderr",
     "output_type": "stream",
     "text": [
      "                                                                                \r"
     ]
    },
    {
     "name": "stdout",
     "output_type": "stream",
     "text": [
      "Column: CIG_0\n",
      "  Min Value: 0\n",
      "  Max Value: 99\n",
      "\n",
      "\n"
     ]
    },
    {
     "name": "stderr",
     "output_type": "stream",
     "text": [
      "                                                                                \r"
     ]
    },
    {
     "name": "stdout",
     "output_type": "stream",
     "text": [
      "Column: DLMP_MM\n",
      "  Min Value: 1\n",
      "  Max Value: 99\n",
      "\n",
      "\n"
     ]
    },
    {
     "name": "stderr",
     "output_type": "stream",
     "text": [
      "                                                                                \r"
     ]
    },
    {
     "name": "stdout",
     "output_type": "stream",
     "text": [
      "Column: DLMP_YY\n",
      "  Min Value: 2016\n",
      "  Max Value: 9999\n",
      "\n",
      "\n"
     ]
    },
    {
     "name": "stderr",
     "output_type": "stream",
     "text": [
      "                                                                                \r"
     ]
    },
    {
     "name": "stdout",
     "output_type": "stream",
     "text": [
      "Column: DWgt_R\n",
      "  Min Value: 100\n",
      "  Max Value: 999\n",
      "\n",
      "\n"
     ]
    },
    {
     "name": "stderr",
     "output_type": "stream",
     "text": [
      "                                                                                \r"
     ]
    },
    {
     "name": "stdout",
     "output_type": "stream",
     "text": [
      "Column: FAGECOMB\n",
      "  Min Value: 11\n",
      "  Max Value: 99\n",
      "\n",
      "\n"
     ]
    },
    {
     "name": "stderr",
     "output_type": "stream",
     "text": [
      "                                                                                \r"
     ]
    },
    {
     "name": "stdout",
     "output_type": "stream",
     "text": [
      "Column: FHISPX\n",
      "  Min Value: 0\n",
      "  Max Value: 9\n",
      "\n",
      "\n"
     ]
    },
    {
     "name": "stderr",
     "output_type": "stream",
     "text": [
      "                                                                                \r"
     ]
    },
    {
     "name": "stdout",
     "output_type": "stream",
     "text": [
      "Column: FRACE15\n",
      "  Min Value: 1\n",
      "  Max Value: 99\n",
      "\n",
      "\n"
     ]
    },
    {
     "name": "stderr",
     "output_type": "stream",
     "text": [
      "                                                                                \r"
     ]
    },
    {
     "name": "stdout",
     "output_type": "stream",
     "text": [
      "Column: FRACE31\n",
      "  Min Value: 1\n",
      "  Max Value: 99\n",
      "\n",
      "\n"
     ]
    },
    {
     "name": "stderr",
     "output_type": "stream",
     "text": [
      "                                                                                \r"
     ]
    },
    {
     "name": "stdout",
     "output_type": "stream",
     "text": [
      "Column: FRACE6\n",
      "  Min Value: 1\n",
      "  Max Value: 9\n",
      "\n",
      "\n"
     ]
    },
    {
     "name": "stderr",
     "output_type": "stream",
     "text": [
      "                                                                                \r"
     ]
    },
    {
     "name": "stdout",
     "output_type": "stream",
     "text": [
      "Column: ILLB_R\n",
      "  Min Value: 3\n",
      "  Max Value: 999\n",
      "\n",
      "\n"
     ]
    },
    {
     "name": "stderr",
     "output_type": "stream",
     "text": [
      "                                                                                \r"
     ]
    },
    {
     "name": "stdout",
     "output_type": "stream",
     "text": [
      "Column: ILP_R\n",
      "  Min Value: 3\n",
      "  Max Value: 999\n",
      "\n",
      "\n"
     ]
    },
    {
     "name": "stderr",
     "output_type": "stream",
     "text": [
      "                                                                                \r"
     ]
    },
    {
     "name": "stdout",
     "output_type": "stream",
     "text": [
      "Column: MAGER\n",
      "  Min Value: 12\n",
      "  Max Value: 50\n",
      "\n",
      "\n"
     ]
    },
    {
     "name": "stderr",
     "output_type": "stream",
     "text": [
      "                                                                                \r"
     ]
    },
    {
     "name": "stdout",
     "output_type": "stream",
     "text": [
      "Column: MEDUC\n",
      "  Min Value: 1\n",
      "  Max Value: 9\n",
      "\n",
      "\n"
     ]
    },
    {
     "name": "stderr",
     "output_type": "stream",
     "text": [
      "                                                                                \r"
     ]
    },
    {
     "name": "stdout",
     "output_type": "stream",
     "text": [
      "Column: MRACE15\n",
      "  Min Value: 1\n",
      "  Max Value: 15\n",
      "\n",
      "\n"
     ]
    },
    {
     "name": "stderr",
     "output_type": "stream",
     "text": [
      "                                                                                \r"
     ]
    },
    {
     "name": "stdout",
     "output_type": "stream",
     "text": [
      "Column: MRACE31\n",
      "  Min Value: 1\n",
      "  Max Value: 31\n",
      "\n",
      "\n"
     ]
    },
    {
     "name": "stderr",
     "output_type": "stream",
     "text": [
      "                                                                                \r"
     ]
    },
    {
     "name": "stdout",
     "output_type": "stream",
     "text": [
      "Column: MRAVE6\n",
      "  Min Value: 1\n",
      "  Max Value: 6\n",
      "\n",
      "\n"
     ]
    },
    {
     "name": "stderr",
     "output_type": "stream",
     "text": [
      "                                                                                \r"
     ]
    },
    {
     "name": "stdout",
     "output_type": "stream",
     "text": [
      "Column: M_Ht_In\n",
      "  Min Value: 30\n",
      "  Max Value: 99\n",
      "\n",
      "\n"
     ]
    },
    {
     "name": "stderr",
     "output_type": "stream",
     "text": [
      "                                                                                \r"
     ]
    },
    {
     "name": "stdout",
     "output_type": "stream",
     "text": [
      "Column: NO_RISKS\n",
      "  Min Value: 0\n",
      "  Max Value: 9\n",
      "\n",
      "\n"
     ]
    },
    {
     "name": "stderr",
     "output_type": "stream",
     "text": [
      "                                                                                \r"
     ]
    },
    {
     "name": "stdout",
     "output_type": "stream",
     "text": [
      "Column: PAY\n",
      "  Min Value: 1\n",
      "  Max Value: 9\n",
      "\n",
      "\n"
     ]
    },
    {
     "name": "stderr",
     "output_type": "stream",
     "text": [
      "                                                                                \r"
     ]
    },
    {
     "name": "stdout",
     "output_type": "stream",
     "text": [
      "Column: PAY_REC\n",
      "  Min Value: 1\n",
      "  Max Value: 9\n",
      "\n",
      "\n"
     ]
    },
    {
     "name": "stderr",
     "output_type": "stream",
     "text": [
      "                                                                                \r"
     ]
    },
    {
     "name": "stdout",
     "output_type": "stream",
     "text": [
      "Column: PRECARE\n",
      "  Min Value: 0\n",
      "  Max Value: 99\n",
      "\n",
      "\n"
     ]
    },
    {
     "name": "stderr",
     "output_type": "stream",
     "text": [
      "                                                                                \r"
     ]
    },
    {
     "name": "stdout",
     "output_type": "stream",
     "text": [
      "Column: RDMETH_REC\n",
      "  Min Value: 1\n",
      "  Max Value: 9\n",
      "\n",
      "\n"
     ]
    },
    {
     "name": "stderr",
     "output_type": "stream",
     "text": [
      "                                                                                \r"
     ]
    },
    {
     "name": "stdout",
     "output_type": "stream",
     "text": [
      "Column: WTGAIN\n",
      "  Min Value: 0\n",
      "  Max Value: 99\n",
      "\n",
      "\n"
     ]
    },
    {
     "name": "stderr",
     "output_type": "stream",
     "text": [
      "                                                                                \r"
     ]
    },
    {
     "name": "stdout",
     "output_type": "stream",
     "text": [
      "Column: DBWT\n",
      "  Min Value: 227\n",
      "  Max Value: 8165\n",
      "\n",
      "\n"
     ]
    },
    {
     "name": "stderr",
     "output_type": "stream",
     "text": [
      "                                                                                \r"
     ]
    },
    {
     "name": "stdout",
     "output_type": "stream",
     "text": [
      "Column: DMAR_Indexed\n",
      "  Min Value: 0.0\n",
      "  Max Value: 2.0\n",
      "\n",
      "\n"
     ]
    },
    {
     "name": "stderr",
     "output_type": "stream",
     "text": [
      "                                                                                \r"
     ]
    },
    {
     "name": "stdout",
     "output_type": "stream",
     "text": [
      "Column: LD_INDL_indexed\n",
      "  Min Value: 0.0\n",
      "  Max Value: 2.0\n",
      "\n",
      "\n"
     ]
    },
    {
     "name": "stderr",
     "output_type": "stream",
     "text": [
      "                                                                                \r"
     ]
    },
    {
     "name": "stdout",
     "output_type": "stream",
     "text": [
      "Column: MTRAN_indexed\n",
      "  Min Value: 0.0\n",
      "  Max Value: 2.0\n",
      "\n",
      "\n"
     ]
    },
    {
     "name": "stderr",
     "output_type": "stream",
     "text": [
      "[Stage 931:==================================================>     (9 + 1) / 10]\r"
     ]
    },
    {
     "name": "stdout",
     "output_type": "stream",
     "text": [
      "Column: SEX_indexed\n",
      "  Min Value: 0.0\n",
      "  Max Value: 1.0\n",
      "\n",
      "\n"
     ]
    },
    {
     "name": "stderr",
     "output_type": "stream",
     "text": [
      "                                                                                \r"
     ]
    }
   ],
   "source": [
    "# Calculating and printing min and max values for all columns\n",
    "for c in birth_df_cleaned.columns:\n",
    "    # Calculating min and max values for the column\n",
    "    min_max = birth_df_cleaned.agg(\n",
    "        min(col(c)).alias(\"min_value\"), \n",
    "        max(col(c)).alias(\"max_value\")\n",
    "    ).collect()[0]  # Collect the results\n",
    "    \n",
    "    # Printing the results\n",
    "    print(f\"Column: {c}\")\n",
    "    print(f\"  Min Value: {min_max['min_value']}\")\n",
    "    print(f\"  Max Value: {min_max['max_value']}\")\n",
    "    print(\"\\n\")  # Space between columns\n"
   ]
  },
  {
   "cell_type": "markdown",
   "metadata": {},
   "source": [
    "We will create differently named data frames (step by step) for cleaning outlier values so that if we encounter any problems, they will be easier to fix."
   ]
  },
  {
   "cell_type": "code",
   "execution_count": 36,
   "metadata": {},
   "outputs": [
    {
     "name": "stderr",
     "output_type": "stream",
     "text": [
      "                                                                                \r"
     ]
    },
    {
     "data": {
      "text/plain": [
       "3528678"
      ]
     },
     "execution_count": 36,
     "metadata": {},
     "output_type": "execute_result"
    }
   ],
   "source": [
    "# Filtering out values of 99 and 9999 in the columns 'WTGAIN', 'DLMP_MM', and 'DLMP_YY'\n",
    "birth_df_cleaned = birth_df_cleaned.filter((col('WTGAIN') != 99) & (col('DLMP_MM') != 99) & (col('DLMP_YY') != 9999))\n",
    "\n",
    "\n",
    "birth_df_cleaned.count()\n"
   ]
  },
  {
   "cell_type": "code",
   "execution_count": 37,
   "metadata": {},
   "outputs": [
    {
     "name": "stderr",
     "output_type": "stream",
     "text": [
      "                                                                                \r"
     ]
    },
    {
     "data": {
      "text/plain": [
       "2870165"
      ]
     },
     "execution_count": 37,
     "metadata": {},
     "output_type": "execute_result"
    }
   ],
   "source": [
    "# Filtering out values of 9\n",
    "birth_df_cleaned2 =birth_df_cleaned.filter((col('ATTEND') != 9) & (col('BFACIL') != 9) & (col('FHISPX') != 9) & (col('FRACE6') != 9)\n",
    "                                          & (col('MEDUC') != 9) & (col('NO_RISKS') != 9) & (col('PAY') != 9) & (col('PAY_REC') != 9)\n",
    "                                          & (col('RDMETH_REC') != 9))\n",
    "birth_df_cleaned2.count()"
   ]
  },
  {
   "cell_type": "code",
   "execution_count": 38,
   "metadata": {},
   "outputs": [
    {
     "name": "stderr",
     "output_type": "stream",
     "text": [
      "                                                                                \r"
     ]
    },
    {
     "data": {
      "text/plain": [
       "2817742"
      ]
     },
     "execution_count": 38,
     "metadata": {},
     "output_type": "execute_result"
    }
   ],
   "source": [
    "# Filtering out values of 99\n",
    "birth_df_cleaned99 =birth_df_cleaned2.filter((col('CIG_0') != 99) & (col('DLMP_MM') != 99) & (col('FAGECOMB') != 99) & (col('FRACE15') != 99)\n",
    "                                          & (col('FRACE31') != 99) & (col('M_Ht_In') != 99) & (col('PRECARE') != 99) & (col('WTGAIN') != 99))\n",
    "birth_df_cleaned99.count()"
   ]
  },
  {
   "cell_type": "code",
   "execution_count": 39,
   "metadata": {},
   "outputs": [
    {
     "name": "stderr",
     "output_type": "stream",
     "text": [
      "                                                                                \r"
     ]
    },
    {
     "data": {
      "text/plain": [
       "2522662"
      ]
     },
     "execution_count": 39,
     "metadata": {},
     "output_type": "execute_result"
    }
   ],
   "source": [
    "# Filtering out values of 999\n",
    "birth_df_cleaned999 =birth_df_cleaned99.filter((col('DWgt_R') != 999) & (col('ILLB_R') != 999) & (col('ILP_R') != 999))\n",
    "birth_df_cleaned999.count()"
   ]
  },
  {
   "cell_type": "code",
   "execution_count": 40,
   "metadata": {},
   "outputs": [
    {
     "name": "stderr",
     "output_type": "stream",
     "text": [
      "                                                                                \r"
     ]
    },
    {
     "data": {
      "text/plain": [
       "2522662"
      ]
     },
     "execution_count": 40,
     "metadata": {},
     "output_type": "execute_result"
    }
   ],
   "source": [
    "# Filtering out values of 9999\n",
    "birth_df_cleaned9999 =birth_df_cleaned999.filter((col('DLMP_YY') != 9999))\n",
    "birth_df_cleaned9999.count()"
   ]
  },
  {
   "cell_type": "markdown",
   "metadata": {},
   "source": [
    "After removing all the outliers, we will check again the maximum values."
   ]
  },
  {
   "cell_type": "code",
   "execution_count": 41,
   "metadata": {
    "scrolled": true
   },
   "outputs": [
    {
     "name": "stderr",
     "output_type": "stream",
     "text": [
      "                                                                                \r"
     ]
    },
    {
     "name": "stdout",
     "output_type": "stream",
     "text": [
      "Column: ATTEND\n",
      "  Min Value: 1\n",
      "  Max Value: 5\n",
      "\n",
      "\n"
     ]
    },
    {
     "name": "stderr",
     "output_type": "stream",
     "text": [
      "                                                                                \r"
     ]
    },
    {
     "name": "stdout",
     "output_type": "stream",
     "text": [
      "Column: BFACIL\n",
      "  Min Value: 1\n",
      "  Max Value: 7\n",
      "\n",
      "\n"
     ]
    },
    {
     "name": "stderr",
     "output_type": "stream",
     "text": [
      "                                                                                \r"
     ]
    },
    {
     "name": "stdout",
     "output_type": "stream",
     "text": [
      "Column: CIG_0\n",
      "  Min Value: 0\n",
      "  Max Value: 98\n",
      "\n",
      "\n"
     ]
    },
    {
     "name": "stderr",
     "output_type": "stream",
     "text": [
      "                                                                                \r"
     ]
    },
    {
     "name": "stdout",
     "output_type": "stream",
     "text": [
      "Column: DLMP_MM\n",
      "  Min Value: 1\n",
      "  Max Value: 12\n",
      "\n",
      "\n"
     ]
    },
    {
     "name": "stderr",
     "output_type": "stream",
     "text": [
      "                                                                                \r"
     ]
    },
    {
     "name": "stdout",
     "output_type": "stream",
     "text": [
      "Column: DLMP_YY\n",
      "  Min Value: 2016\n",
      "  Max Value: 2018\n",
      "\n",
      "\n"
     ]
    },
    {
     "name": "stderr",
     "output_type": "stream",
     "text": [
      "                                                                                \r"
     ]
    },
    {
     "name": "stdout",
     "output_type": "stream",
     "text": [
      "Column: DWgt_R\n",
      "  Min Value: 100\n",
      "  Max Value: 400\n",
      "\n",
      "\n"
     ]
    },
    {
     "name": "stderr",
     "output_type": "stream",
     "text": [
      "                                                                                \r"
     ]
    },
    {
     "name": "stdout",
     "output_type": "stream",
     "text": [
      "Column: FAGECOMB\n",
      "  Min Value: 13\n",
      "  Max Value: 95\n",
      "\n",
      "\n"
     ]
    },
    {
     "name": "stderr",
     "output_type": "stream",
     "text": [
      "                                                                                \r"
     ]
    },
    {
     "name": "stdout",
     "output_type": "stream",
     "text": [
      "Column: FHISPX\n",
      "  Min Value: 0\n",
      "  Max Value: 6\n",
      "\n",
      "\n"
     ]
    },
    {
     "name": "stderr",
     "output_type": "stream",
     "text": [
      "                                                                                \r"
     ]
    },
    {
     "name": "stdout",
     "output_type": "stream",
     "text": [
      "Column: FRACE15\n",
      "  Min Value: 1\n",
      "  Max Value: 15\n",
      "\n",
      "\n"
     ]
    },
    {
     "name": "stderr",
     "output_type": "stream",
     "text": [
      "                                                                                \r"
     ]
    },
    {
     "name": "stdout",
     "output_type": "stream",
     "text": [
      "Column: FRACE31\n",
      "  Min Value: 1\n",
      "  Max Value: 31\n",
      "\n",
      "\n"
     ]
    },
    {
     "name": "stderr",
     "output_type": "stream",
     "text": [
      "                                                                                \r"
     ]
    },
    {
     "name": "stdout",
     "output_type": "stream",
     "text": [
      "Column: FRACE6\n",
      "  Min Value: 1\n",
      "  Max Value: 6\n",
      "\n",
      "\n"
     ]
    },
    {
     "name": "stderr",
     "output_type": "stream",
     "text": [
      "                                                                                \r"
     ]
    },
    {
     "name": "stdout",
     "output_type": "stream",
     "text": [
      "Column: ILLB_R\n",
      "  Min Value: 3\n",
      "  Max Value: 888\n",
      "\n",
      "\n"
     ]
    },
    {
     "name": "stderr",
     "output_type": "stream",
     "text": [
      "                                                                                \r"
     ]
    },
    {
     "name": "stdout",
     "output_type": "stream",
     "text": [
      "Column: ILP_R\n",
      "  Min Value: 3\n",
      "  Max Value: 888\n",
      "\n",
      "\n"
     ]
    },
    {
     "name": "stderr",
     "output_type": "stream",
     "text": [
      "                                                                                \r"
     ]
    },
    {
     "name": "stdout",
     "output_type": "stream",
     "text": [
      "Column: MAGER\n",
      "  Min Value: 13\n",
      "  Max Value: 50\n",
      "\n",
      "\n"
     ]
    },
    {
     "name": "stderr",
     "output_type": "stream",
     "text": [
      "                                                                                \r"
     ]
    },
    {
     "name": "stdout",
     "output_type": "stream",
     "text": [
      "Column: MEDUC\n",
      "  Min Value: 1\n",
      "  Max Value: 8\n",
      "\n",
      "\n"
     ]
    },
    {
     "name": "stderr",
     "output_type": "stream",
     "text": [
      "                                                                                \r"
     ]
    },
    {
     "name": "stdout",
     "output_type": "stream",
     "text": [
      "Column: MRACE15\n",
      "  Min Value: 1\n",
      "  Max Value: 15\n",
      "\n",
      "\n"
     ]
    },
    {
     "name": "stderr",
     "output_type": "stream",
     "text": [
      "                                                                                \r"
     ]
    },
    {
     "name": "stdout",
     "output_type": "stream",
     "text": [
      "Column: MRACE31\n",
      "  Min Value: 1\n",
      "  Max Value: 31\n",
      "\n",
      "\n"
     ]
    },
    {
     "name": "stderr",
     "output_type": "stream",
     "text": [
      "                                                                                \r"
     ]
    },
    {
     "name": "stdout",
     "output_type": "stream",
     "text": [
      "Column: MRAVE6\n",
      "  Min Value: 1\n",
      "  Max Value: 6\n",
      "\n",
      "\n"
     ]
    },
    {
     "name": "stderr",
     "output_type": "stream",
     "text": [
      "                                                                                \r"
     ]
    },
    {
     "name": "stdout",
     "output_type": "stream",
     "text": [
      "Column: M_Ht_In\n",
      "  Min Value: 30\n",
      "  Max Value: 78\n",
      "\n",
      "\n"
     ]
    },
    {
     "name": "stderr",
     "output_type": "stream",
     "text": [
      "                                                                                \r"
     ]
    },
    {
     "name": "stdout",
     "output_type": "stream",
     "text": [
      "Column: NO_RISKS\n",
      "  Min Value: 0\n",
      "  Max Value: 1\n",
      "\n",
      "\n"
     ]
    },
    {
     "name": "stderr",
     "output_type": "stream",
     "text": [
      "                                                                                \r"
     ]
    },
    {
     "name": "stdout",
     "output_type": "stream",
     "text": [
      "Column: PAY\n",
      "  Min Value: 1\n",
      "  Max Value: 8\n",
      "\n",
      "\n"
     ]
    },
    {
     "name": "stderr",
     "output_type": "stream",
     "text": [
      "                                                                                \r"
     ]
    },
    {
     "name": "stdout",
     "output_type": "stream",
     "text": [
      "Column: PAY_REC\n",
      "  Min Value: 1\n",
      "  Max Value: 4\n",
      "\n",
      "\n"
     ]
    },
    {
     "name": "stderr",
     "output_type": "stream",
     "text": [
      "                                                                                \r"
     ]
    },
    {
     "name": "stdout",
     "output_type": "stream",
     "text": [
      "Column: PRECARE\n",
      "  Min Value: 0\n",
      "  Max Value: 10\n",
      "\n",
      "\n"
     ]
    },
    {
     "name": "stderr",
     "output_type": "stream",
     "text": [
      "                                                                                \r"
     ]
    },
    {
     "name": "stdout",
     "output_type": "stream",
     "text": [
      "Column: RDMETH_REC\n",
      "  Min Value: 1\n",
      "  Max Value: 4\n",
      "\n",
      "\n"
     ]
    },
    {
     "name": "stderr",
     "output_type": "stream",
     "text": [
      "                                                                                \r"
     ]
    },
    {
     "name": "stdout",
     "output_type": "stream",
     "text": [
      "Column: WTGAIN\n",
      "  Min Value: 0\n",
      "  Max Value: 98\n",
      "\n",
      "\n"
     ]
    },
    {
     "name": "stderr",
     "output_type": "stream",
     "text": [
      "                                                                                \r"
     ]
    },
    {
     "name": "stdout",
     "output_type": "stream",
     "text": [
      "Column: DBWT\n",
      "  Min Value: 227\n",
      "  Max Value: 8165\n",
      "\n",
      "\n"
     ]
    },
    {
     "name": "stderr",
     "output_type": "stream",
     "text": [
      "                                                                                \r"
     ]
    },
    {
     "name": "stdout",
     "output_type": "stream",
     "text": [
      "Column: DMAR_Indexed\n",
      "  Min Value: 0.0\n",
      "  Max Value: 2.0\n",
      "\n",
      "\n"
     ]
    },
    {
     "name": "stderr",
     "output_type": "stream",
     "text": [
      "                                                                                \r"
     ]
    },
    {
     "name": "stdout",
     "output_type": "stream",
     "text": [
      "Column: LD_INDL_indexed\n",
      "  Min Value: 0.0\n",
      "  Max Value: 2.0\n",
      "\n",
      "\n"
     ]
    },
    {
     "name": "stderr",
     "output_type": "stream",
     "text": [
      "                                                                                \r"
     ]
    },
    {
     "name": "stdout",
     "output_type": "stream",
     "text": [
      "Column: MTRAN_indexed\n",
      "  Min Value: 0.0\n",
      "  Max Value: 2.0\n",
      "\n",
      "\n"
     ]
    },
    {
     "name": "stderr",
     "output_type": "stream",
     "text": [
      "[Stage 309:==================================================>     (9 + 1) / 10]\r"
     ]
    },
    {
     "name": "stdout",
     "output_type": "stream",
     "text": [
      "Column: SEX_indexed\n",
      "  Min Value: 0.0\n",
      "  Max Value: 1.0\n",
      "\n",
      "\n"
     ]
    },
    {
     "name": "stderr",
     "output_type": "stream",
     "text": [
      "                                                                                \r"
     ]
    }
   ],
   "source": [
    "# Calculating and printing min and max values for all columns\n",
    "for c in birth_df_cleaned9999.columns:\n",
    "    # Calculating min and max values for the column\n",
    "    min_max = birth_df_cleaned9999.agg(\n",
    "        min(c).alias(\"min_value\"), \n",
    "        max(c).alias(\"max_value\")\n",
    "    ).collect()[0]  # Collect the results\n",
    "    \n",
    "    # Printing the results\n",
    "    print(f\"Column: {c}\")\n",
    "    print(f\"  Min Value: {min_max['min_value']}\")\n",
    "    print(f\"  Max Value: {min_max['max_value']}\")\n",
    "    print(\"\\n\")  # Space between columns\n"
   ]
  },
  {
   "cell_type": "markdown",
   "metadata": {},
   "source": [
    "As can be seen, the dataset currently does not have any outlier values. After this cleaning process, we should check the correlation coefficients again to keep working on the most statistically significant features."
   ]
  },
  {
   "cell_type": "markdown",
   "metadata": {},
   "source": [
    "### 2.3.3 Checking Updated Features' Correlations"
   ]
  },
  {
   "cell_type": "code",
   "execution_count": 50,
   "metadata": {
    "scrolled": false
   },
   "outputs": [
    {
     "name": "stderr",
     "output_type": "stream",
     "text": [
      "                                                                                \r"
     ]
    },
    {
     "name": "stdout",
     "output_type": "stream",
     "text": [
      "Correlation (DBWT and ATTEND): 0.07066990487057992\n"
     ]
    },
    {
     "name": "stderr",
     "output_type": "stream",
     "text": [
      "                                                                                \r"
     ]
    },
    {
     "name": "stdout",
     "output_type": "stream",
     "text": [
      "Correlation (DBWT and BFACIL): 0.044346545871795796\n"
     ]
    },
    {
     "name": "stderr",
     "output_type": "stream",
     "text": [
      "                                                                                \r"
     ]
    },
    {
     "name": "stdout",
     "output_type": "stream",
     "text": [
      "Correlation (DBWT and CIG_0): -0.052011493990799976\n"
     ]
    },
    {
     "name": "stderr",
     "output_type": "stream",
     "text": [
      "                                                                                \r"
     ]
    },
    {
     "name": "stdout",
     "output_type": "stream",
     "text": [
      "Correlation (DBWT and DLMP_MM): 0.009392019740550036\n"
     ]
    },
    {
     "name": "stderr",
     "output_type": "stream",
     "text": [
      "                                                                                \r"
     ]
    },
    {
     "name": "stdout",
     "output_type": "stream",
     "text": [
      "Correlation (DBWT and DLMP_YY): -0.062315232907290304\n"
     ]
    },
    {
     "name": "stderr",
     "output_type": "stream",
     "text": [
      "                                                                                \r"
     ]
    },
    {
     "name": "stdout",
     "output_type": "stream",
     "text": [
      "Correlation (DBWT and DWgt_R): 0.17489805628027008\n"
     ]
    },
    {
     "name": "stderr",
     "output_type": "stream",
     "text": [
      "                                                                                \r"
     ]
    },
    {
     "name": "stdout",
     "output_type": "stream",
     "text": [
      "Correlation (DBWT and FAGECOMB): 0.023302882468250016\n"
     ]
    },
    {
     "name": "stderr",
     "output_type": "stream",
     "text": [
      "                                                                                \r"
     ]
    },
    {
     "name": "stdout",
     "output_type": "stream",
     "text": [
      "Correlation (DBWT and FHISPX): -0.01858438793333863\n"
     ]
    },
    {
     "name": "stderr",
     "output_type": "stream",
     "text": [
      "                                                                                \r"
     ]
    },
    {
     "name": "stdout",
     "output_type": "stream",
     "text": [
      "Correlation (DBWT and FRACE15): -0.05004145710715298\n"
     ]
    },
    {
     "name": "stderr",
     "output_type": "stream",
     "text": [
      "                                                                                \r"
     ]
    },
    {
     "name": "stdout",
     "output_type": "stream",
     "text": [
      "Correlation (DBWT and FRACE31): -0.05332330585403293\n"
     ]
    },
    {
     "name": "stderr",
     "output_type": "stream",
     "text": [
      "                                                                                \r"
     ]
    },
    {
     "name": "stdout",
     "output_type": "stream",
     "text": [
      "Correlation (DBWT and FRACE6): -0.08274550250097432\n"
     ]
    },
    {
     "name": "stderr",
     "output_type": "stream",
     "text": [
      "                                                                                \r"
     ]
    },
    {
     "name": "stdout",
     "output_type": "stream",
     "text": [
      "Correlation (DBWT and ILLB_R): -0.06967029673904312\n"
     ]
    },
    {
     "name": "stderr",
     "output_type": "stream",
     "text": [
      "                                                                                \r"
     ]
    },
    {
     "name": "stdout",
     "output_type": "stream",
     "text": [
      "Correlation (DBWT and ILP_R): -0.057462304771920825\n"
     ]
    },
    {
     "name": "stderr",
     "output_type": "stream",
     "text": [
      "                                                                                \r"
     ]
    },
    {
     "name": "stdout",
     "output_type": "stream",
     "text": [
      "Correlation (DBWT and MAGER): 0.03814412126263935\n"
     ]
    },
    {
     "name": "stderr",
     "output_type": "stream",
     "text": [
      "                                                                                \r"
     ]
    },
    {
     "name": "stdout",
     "output_type": "stream",
     "text": [
      "Correlation (DBWT and MEDUC): 0.061565998047461705\n"
     ]
    },
    {
     "name": "stderr",
     "output_type": "stream",
     "text": [
      "                                                                                \r"
     ]
    },
    {
     "name": "stdout",
     "output_type": "stream",
     "text": [
      "Correlation (DBWT and MRACE15): -0.051311084283976544\n"
     ]
    },
    {
     "name": "stderr",
     "output_type": "stream",
     "text": [
      "                                                                                \r"
     ]
    },
    {
     "name": "stdout",
     "output_type": "stream",
     "text": [
      "Correlation (DBWT and MRACE31): -0.05210714492406016\n"
     ]
    },
    {
     "name": "stderr",
     "output_type": "stream",
     "text": [
      "                                                                                \r"
     ]
    },
    {
     "name": "stdout",
     "output_type": "stream",
     "text": [
      "Correlation (DBWT and MRAVE6): -0.08321829799405411\n"
     ]
    },
    {
     "name": "stderr",
     "output_type": "stream",
     "text": [
      "                                                                                \r"
     ]
    },
    {
     "name": "stdout",
     "output_type": "stream",
     "text": [
      "Correlation (DBWT and M_Ht_In): 0.15523970779096785\n"
     ]
    },
    {
     "name": "stderr",
     "output_type": "stream",
     "text": [
      "                                                                                \r"
     ]
    },
    {
     "name": "stdout",
     "output_type": "stream",
     "text": [
      "Correlation (DBWT and NO_RISKS): 0.07385529184202033\n"
     ]
    },
    {
     "name": "stderr",
     "output_type": "stream",
     "text": [
      "                                                                                \r"
     ]
    },
    {
     "name": "stdout",
     "output_type": "stream",
     "text": [
      "Correlation (DBWT and PAY): 0.03570230737122791\n"
     ]
    },
    {
     "name": "stderr",
     "output_type": "stream",
     "text": [
      "                                                                                \r"
     ]
    },
    {
     "name": "stdout",
     "output_type": "stream",
     "text": [
      "Correlation (DBWT and PAY_REC): 0.05820072206630511\n"
     ]
    },
    {
     "name": "stderr",
     "output_type": "stream",
     "text": [
      "                                                                                \r"
     ]
    },
    {
     "name": "stdout",
     "output_type": "stream",
     "text": [
      "Correlation (DBWT and PRECARE): 0.0048387047356537585\n"
     ]
    },
    {
     "name": "stderr",
     "output_type": "stream",
     "text": [
      "                                                                                \r"
     ]
    },
    {
     "name": "stdout",
     "output_type": "stream",
     "text": [
      "Correlation (DBWT and RDMETH_REC): -0.045989733321320676\n"
     ]
    },
    {
     "name": "stderr",
     "output_type": "stream",
     "text": [
      "                                                                                \r"
     ]
    },
    {
     "name": "stdout",
     "output_type": "stream",
     "text": [
      "Correlation (DBWT and WTGAIN): 0.16375883439288283\n"
     ]
    },
    {
     "name": "stderr",
     "output_type": "stream",
     "text": [
      "                                                                                \r"
     ]
    },
    {
     "name": "stdout",
     "output_type": "stream",
     "text": [
      "Correlation (DBWT and DMAR_Indexed): -0.04775230288927009\n"
     ]
    },
    {
     "name": "stderr",
     "output_type": "stream",
     "text": [
      "                                                                                \r"
     ]
    },
    {
     "name": "stdout",
     "output_type": "stream",
     "text": [
      "Correlation (DBWT and LD_INDL_indexed): 0.05543428934300409\n"
     ]
    },
    {
     "name": "stderr",
     "output_type": "stream",
     "text": [
      "                                                                                \r"
     ]
    },
    {
     "name": "stdout",
     "output_type": "stream",
     "text": [
      "Correlation (DBWT and MTRAN_indexed): -0.08784871498769718\n"
     ]
    },
    {
     "name": "stderr",
     "output_type": "stream",
     "text": [
      "[Stage 586:==================================================>     (9 + 1) / 10]\r"
     ]
    },
    {
     "name": "stdout",
     "output_type": "stream",
     "text": [
      "Correlation (DBWT and SEX_indexed): -0.10207051384557955\n"
     ]
    },
    {
     "name": "stderr",
     "output_type": "stream",
     "text": [
      "                                                                                \r"
     ]
    }
   ],
   "source": [
    "final_features = [col_name for col_name in birth_df_cleaned9999.columns if col_name != 'DBWT']\n",
    "\n",
    "# Calculating correlations between 'DBWT' and other numeric columns\n",
    "for column in final_features:\n",
    "    try:\n",
    "        correlation = birth_df_cleaned9999.stat.corr('DBWT', column)\n",
    "        print(f\"Correlation (DBWT and {column}): {correlation}\")\n",
    "    except Exception as e:\n",
    "        print(f\"Correlation cannot be calculated (DBWT and {column}): {str(e)}\")\n"
   ]
  },
  {
   "cell_type": "markdown",
   "metadata": {},
   "source": [
    "#### Removing Features with the Least Correlation Coefficients"
   ]
  },
  {
   "cell_type": "code",
   "execution_count": 42,
   "metadata": {
    "scrolled": true
   },
   "outputs": [
    {
     "name": "stdout",
     "output_type": "stream",
     "text": [
      "root\n",
      " |-- ATTEND: integer (nullable = true)\n",
      " |-- BFACIL: integer (nullable = true)\n",
      " |-- CIG_0: integer (nullable = true)\n",
      " |-- DLMP_YY: integer (nullable = true)\n",
      " |-- DWgt_R: integer (nullable = true)\n",
      " |-- FRACE15: integer (nullable = true)\n",
      " |-- FRACE31: integer (nullable = true)\n",
      " |-- FRACE6: integer (nullable = true)\n",
      " |-- ILLB_R: integer (nullable = true)\n",
      " |-- ILP_R: integer (nullable = true)\n",
      " |-- MAGER: integer (nullable = true)\n",
      " |-- MEDUC: integer (nullable = true)\n",
      " |-- MRACE15: integer (nullable = true)\n",
      " |-- MRACE31: integer (nullable = true)\n",
      " |-- MRAVE6: integer (nullable = true)\n",
      " |-- M_Ht_In: integer (nullable = true)\n",
      " |-- NO_RISKS: integer (nullable = true)\n",
      " |-- PAY: integer (nullable = true)\n",
      " |-- PAY_REC: integer (nullable = true)\n",
      " |-- RDMETH_REC: integer (nullable = true)\n",
      " |-- WTGAIN: integer (nullable = true)\n",
      " |-- DBWT: integer (nullable = true)\n",
      " |-- DMAR_Indexed: double (nullable = false)\n",
      " |-- LD_INDL_indexed: double (nullable = false)\n",
      " |-- MTRAN_indexed: double (nullable = false)\n",
      " |-- SEX_indexed: double (nullable = false)\n",
      "\n"
     ]
    }
   ],
   "source": [
    "columns_to_drop = [\"DLMP_MM\", \"PRECARE\", \"FHISPX\", \"FAGECOMB\"]\n",
    "\n",
    "# Features removing\n",
    "birth_df_cleaned9999 = birth_df_cleaned9999.drop(*columns_to_drop)\n",
    "\n",
    "# Checking dataset\n",
    "birth_df_cleaned9999.printSchema()\n"
   ]
  },
  {
   "cell_type": "code",
   "execution_count": 43,
   "metadata": {},
   "outputs": [
    {
     "name": "stderr",
     "output_type": "stream",
     "text": [
      "                                                                                \r"
     ]
    },
    {
     "data": {
      "text/plain": [
       "2522662"
      ]
     },
     "execution_count": 43,
     "metadata": {},
     "output_type": "execute_result"
    }
   ],
   "source": [
    "birth_df_cleaned9999.count()"
   ]
  },
  {
   "cell_type": "markdown",
   "metadata": {},
   "source": [
    "Now, we have the most significant values to work on. However, the dataset's size is so huge that we will use the 'subsampling' method to work on PySpark more rapidly. Otherwise, PySpark would be down or severely slow. "
   ]
  },
  {
   "cell_type": "markdown",
   "metadata": {},
   "source": [
    "### 2.3.4 Subsampling / Reducing Dataset Size"
   ]
  },
  {
   "cell_type": "code",
   "execution_count": 44,
   "metadata": {
    "scrolled": true
   },
   "outputs": [
    {
     "name": "stderr",
     "output_type": "stream",
     "text": [
      "[Stage 321:>                                                        (0 + 8) / 9]\r"
     ]
    },
    {
     "name": "stdout",
     "output_type": "stream",
     "text": [
      "Sampled DataFrame count: 750073\n"
     ]
    },
    {
     "name": "stderr",
     "output_type": "stream",
     "text": [
      "                                                                                \r"
     ]
    }
   ],
   "source": [
    "fraction = 750000 / 2522662  # Approximate ratio calculation\n",
    "sampled_df = birth_df_cleaned9999.sample(withReplacement=False, fraction=fraction)\n",
    "\n",
    "# Checking the size of the new DataFrame\n",
    "print(f\"Sampled DataFrame count: {sampled_df.count()}\")\n"
   ]
  },
  {
   "cell_type": "code",
   "execution_count": 45,
   "metadata": {},
   "outputs": [
    {
     "name": "stdout",
     "output_type": "stream",
     "text": [
      "root\n",
      " |-- ATTEND: integer (nullable = true)\n",
      " |-- BFACIL: integer (nullable = true)\n",
      " |-- CIG_0: integer (nullable = true)\n",
      " |-- DLMP_YY: integer (nullable = true)\n",
      " |-- DWgt_R: integer (nullable = true)\n",
      " |-- FRACE15: integer (nullable = true)\n",
      " |-- FRACE31: integer (nullable = true)\n",
      " |-- FRACE6: integer (nullable = true)\n",
      " |-- ILLB_R: integer (nullable = true)\n",
      " |-- ILP_R: integer (nullable = true)\n",
      " |-- MAGER: integer (nullable = true)\n",
      " |-- MEDUC: integer (nullable = true)\n",
      " |-- MRACE15: integer (nullable = true)\n",
      " |-- MRACE31: integer (nullable = true)\n",
      " |-- MRAVE6: integer (nullable = true)\n",
      " |-- M_Ht_In: integer (nullable = true)\n",
      " |-- NO_RISKS: integer (nullable = true)\n",
      " |-- PAY: integer (nullable = true)\n",
      " |-- PAY_REC: integer (nullable = true)\n",
      " |-- RDMETH_REC: integer (nullable = true)\n",
      " |-- WTGAIN: integer (nullable = true)\n",
      " |-- DBWT: integer (nullable = true)\n",
      " |-- DMAR_Indexed: double (nullable = false)\n",
      " |-- LD_INDL_indexed: double (nullable = false)\n",
      " |-- MTRAN_indexed: double (nullable = false)\n",
      " |-- SEX_indexed: double (nullable = false)\n",
      "\n"
     ]
    }
   ],
   "source": [
    "sampled_df.printSchema()"
   ]
  },
  {
   "cell_type": "markdown",
   "metadata": {},
   "source": [
    "### 2.3.5 Scaling Features with 'StandartScaler'"
   ]
  },
  {
   "cell_type": "code",
   "execution_count": 46,
   "metadata": {},
   "outputs": [
    {
     "name": "stderr",
     "output_type": "stream",
     "text": [
      "[Stage 477:>                                                        (0 + 1) / 1]\r"
     ]
    },
    {
     "name": "stdout",
     "output_type": "stream",
     "text": [
      "+----+--------------------+--------------------+--------------------+--------------------+--------------------+--------------------+--------------------+--------------------+--------------------+--------------------+--------------------+--------------------+--------------------+--------------------+--------------------+--------------------+--------------------+--------------------+--------------------+--------------------+--------------------+--------------------+----------------------+--------------------+--------------------+\n",
      "|DBWT|       ATTEND_scaled|       BFACIL_scaled|        CIG_0_scaled|      DLMP_YY_scaled|       DWgt_R_scaled|      FRACE15_scaled|      FRACE31_scaled|       FRACE6_scaled|       ILLB_R_scaled|        ILP_R_scaled|        MAGER_scaled|        MEDUC_scaled|      MRACE15_scaled|      MRACE31_scaled|       MRAVE6_scaled|      M_Ht_In_scaled|     NO_RISKS_scaled|          PAY_scaled|      PAY_REC_scaled|   RDMETH_REC_scaled|       WTGAIN_scaled| DMAR_Indexed_scaled|LD_INDL_indexed_scaled|MTRAN_indexed_scaled|  SEX_indexed_scaled|\n",
      "+----+--------------------+--------------------+--------------------+--------------------+--------------------+--------------------+--------------------+--------------------+--------------------+--------------------+--------------------+--------------------+--------------------+--------------------+--------------------+--------------------+--------------------+--------------------+--------------------+--------------------+--------------------+--------------------+----------------------+--------------------+--------------------+\n",
      "|3561|[-0.4449383296492...|[-0.1171580015033...|[-0.2067330524715...|[-0.5665386393770...|[-1.0857578996676...|[-0.3401881484734...|[-0.3396964899206...|[-0.452719429617163]|[1.2168119043739651]|[1.3661608639129241]|[-1.4739748440054...|[-0.9383659023870...|[-0.3451289433574...|[-0.3353614777805...|[-0.4471185894599...|[-0.4398351559532...|[0.6611123472310086]| [2.798127251326552]| [3.162673252770407]|[-0.6773000777080...|[0.15151535466685...|[-0.7398183210325...|  [-0.6209561769441...|[-0.0608695821620...|[-0.9772620194160...|\n",
      "|3510|[-0.4449383296492...|[-0.1171580015033...|[-0.2067330524715...|[-0.5665386393770...|[-0.7398283978986...|[-0.3401881484734...|[-0.3396964899206...|[-0.452719429617163]|[1.2168119043739651]|[1.3661608639129241]|[-0.0402507535477...|[1.3870422994835283]|[-0.3451289433574...|[-0.3353614777805...|[-0.4471185894599...|[-1.5108448624195...|[0.6611123472310086]|[0.11887346924689...|[0.32885354949719...| [1.062223908714366]|[0.28747101126776...|[-0.7398183210325...|  [-0.6209561769441...|[-0.0608695821620...|[-0.9772620194160...|\n",
      "|3700| [2.213371892901278]|[-0.1171580015033...|[-0.2067330524715...|[-0.5665386393770...|[-1.159885650046695]|[-0.3401881484734...|[-0.3396964899206...|[-0.452719429617163]|[-0.8681893228761...|[-0.8099727358587...|[0.13896475775943...|[-0.9383659023870...|[-0.3451289433574...|[-0.3353614777805...|[-0.4471185894599...|[-0.4398351559532...|[0.6611123472310086]|[0.11887346924689...|[0.32885354949719...|[-0.6773000777080...|   [0.8312936376714]|[2.0196951686995632]|  [1.5953578512865452]|[-0.0608695821620...|[-0.9772620194160...|\n",
      "|3420|[-0.4449383296492...|[-0.1171580015033...|[-0.2067330524715...|[-0.5665386393770...|[-1.1104671497939...|[-0.3401881484734...|[-0.3396964899206...|[-0.452719429617163]|[-0.8367084681093...|[-0.8074970434813...|[0.31818026906664...|[-2.1010700033223...|[-0.3451289433574...|[-0.3353614777805...|[-0.4471185894599...|[-3.295861039863369]|[-1.5126001972052...|[-0.7742111247796...|[-1.0880563021394...|[-0.6773000777080...|[-1.140063383041772]|[2.0196951686995632]|  [-0.6209561769441...|[-0.0608695821620...|[-0.9772620194160...|\n",
      "|4218|[-0.4449383296492...|[-0.1171580015033...|[-0.2067330524715...|[1.7534245468149927]| [-0.24564339537147]|[-0.3401881484734...|[-0.3396964899206...|[-0.452719429617163]|[-0.8270220512580...|[-0.8074970434813...|[0.6766112916810698]|[0.8056902490158743]|[-0.3451289433574...|[-0.3353614777805...|[-0.4471185894599...|[0.2741713150242495]|[0.6611123472310086]|[0.11887346924689...|[0.32885354949719...|[-0.6773000777080...|[0.8992714659718543]|[-0.7398183210325...|  [1.5953578512865452]|[-0.0608695821620...| [1.023265661580754]|\n",
      "|3130|[-0.4449383296492...|[-0.1171580015033...|[-0.2067330524715...|[-0.5665386393770...|[-0.813956148277691]| [5.015426089183085]|[2.4642595231821836]|[4.0986920872299555]|[-0.8076492175553...|[-0.8050213511039...|[1.7519043595243367]|[-0.3570138519194...|[-0.3451289433574...|[-0.3353614777805...|[-0.4471185894599...|[-1.1538416269307...|[-1.5126001972052...|[0.11887346924689...|[0.32885354949719...| [1.062223908714366]|[-1.9557973226472...|[2.0196951686995632]|  [-0.6209561769441...|[-0.0608695821620...|[-0.9772620194160...|\n",
      "|3515|[-0.4449383296492...|[-0.1171580015033...|[-0.2067330524715...|[-0.5665386393770...|[-0.6904098976459...|[-0.3401881484734...|[-0.3396964899206...|[-0.452719429617163]|[1.2168119043739651]|[-0.8050213511039...|[-0.398681776162197]|[0.2243381985482201]|[-0.3451289433574...|[-0.3353614777805...|[-0.4471185894599...|[-0.0828319204645...|[0.6611123472310086]|[0.11887346924689...|[0.32885354949719...|[-0.6773000777080...|[0.01555969806594...|[-0.7398183210325...|  [1.5953578512865452]|[-0.0608695821620...| [1.023265661580754]|\n",
      "|3498|[-0.4449383296492...|[-0.1171580015033...|[-0.2067330524715...|[-0.5665386393770...|[0.8168543600618996]|[-0.3401881484734...|[-0.3396964899206...|[-0.452719429617163]|[1.2168119043739651]|[-0.8050213511039...|[-1.1155438213910...|[0.8056902490158743]|[0.40075127622704...|[0.7483659106655656]|[1.3309420879039928]| [1.345181021490535]|[0.6611123472310086]|[0.11887346924689...|[0.32885354949719...|[-0.6773000777080...| [3.142539799886843]|[-0.7398183210325...|  [1.5953578512865452]|[-0.0608695821620...| [1.023265661580754]|\n",
      "|3855|[-0.4449383296492...|[-0.1171580015033...|[-0.2067330524715...|[-0.5665386393770...|[-1.1845949001730...|[-0.3401881484734...|[-0.3396964899206...|[-0.452719429617163]|[-0.8052276133425...|[-0.8025456587264...| [1.035042314295492]|[1.9683943499511825]|[0.7736913860193145]|[1.2902296048886426]|[2.2199724265859886]|[-1.5108448624195...|[0.6611123472310086]|[0.11887346924689...|[0.32885354949719...|[-0.6773000777080...|[-0.6642185849385...|[2.0196951686995632]|  [1.5953578512865452]|[-0.0608695821620...|[-0.9772620194160...|\n",
      "|4490| [0.884216781626019]|[-0.1171580015033...|[-0.2067330524715...|[-0.5665386393770...|[0.05086760614481...|[-0.3401881484734...|[-0.3396964899206...|[-0.452719429617163]|[-0.5558023794205...|[-0.8025456587264...|[-0.0402507535477...|[-1.5197179528547...|[-0.3451289433574...|[-0.3353614777805...|[-0.4471185894599...|[-1.1538416269307...|[-1.5126001972052...|[1.0119580632734453]|[1.7457634011338026]|[1.9319859019255532]|[0.4234266678686748]| [0.639938423833523]|  [-0.6209561769441...|[-0.0608695821620...|[-0.9772620194160...|\n",
      "|3487|[-0.4449383296492...|[-0.1171580015033...|[-0.2067330524715...|[-0.5665386393770...|[2.2747001175169883]|[0.04235572564490...|[0.22109471269990...|[0.45756287375226...|[-0.8802973439403...|[-0.8025456587264...|[-0.5778972874694...|[-0.9383659023870...|[0.02781116643477...|[0.20650221644248...|[0.4419117492219971]|[-0.796838391442036]|[0.6611123472310086]|[0.11887346924689...|[0.32885354949719...|[-0.6773000777080...|[-0.6642185849385...| [0.639938423833523]|  [-0.6209561769441...|[-0.0608695821620...| [1.023265661580754]|\n",
      "|3147|[-0.4449383296492...|[-0.1171580015033...|[-0.2067330524715...|[-0.5665386393770...|[0.17441385677660...|[-0.3401881484734...|[-0.3396964899206...|[-0.452719429617163]|[-0.824600447045174]|[-0.8025456587264...|[0.4973957803738587]|[1.3870422994835283]|[-0.3451289433574...|[-0.3353614777805...|[-0.4471185894599...|[-0.796838391442036]|[0.6611123472310086]|[0.11887346924689...|[0.32885354949719...|[-0.6773000777080...|[-1.2760190396426...|[-0.7398183210325...|  [-0.6209561769441...|[-0.0608695821620...| [1.023265661580754]|\n",
      "|3010|[-0.4449383296492...|[-0.1171580015033...|[-0.2067330524715...|[-0.5665386393770...|[-0.1962248951187...|[-0.3401881484734...|[-0.3396964899206...|[-0.452719429617163]|[-0.8657677186633...|[-0.8025456587264...| [0.855826802988281]|[1.3870422994835283]|[-0.3451289433574...|[-0.3353614777805...|[-0.4471185894599...|[0.6311745505130113]|[0.6611123472310086]|[0.11887346924689...|[0.32885354949719...|[-0.6773000777080...|[-1.0041077264408...|[2.0196951686995632]|  [-0.6209561769441...|[-0.0608695821620...|[-0.9772620194160...|\n",
      "|4155|[-0.4449383296492...|[-0.1171580015033...|[-0.2067330524715...|[-0.5665386393770...|[-0.0973878946133...|[-0.3401881484734...|[-0.3396964899206...|[-0.452719429617163]|[-0.8415516765350...|[-0.8025456587264...|[-0.398681776162197]|[0.8056902490158743]|[-0.3451289433574...|[-0.3353614777805...|[-0.4471185894599...|[0.9881777860017732]|[0.6611123472310086]|[1.0119580632734453]|[1.7457634011338026]|[-0.6773000777080...|[0.8992714659718543]|[2.0196951686995632]|  [-0.6209561769441...|[-0.0608695821620...|[-0.9772620194160...|\n",
      "|3185| [2.213371892901278]|[-0.1171580015033...|[-0.2067330524715...|[-0.5665386393770...|[-0.6904098976459...|[-0.3401881484734...|[-0.3396964899206...|[-0.452719429617163]|[-0.5170567120152...|[-0.8000699663490...|[1.9311198708315478]|[-1.5197179528547...|[-0.3451289433574...|[-0.3353614777805...|[-0.4471185894599...|[-1.5108448624195...|[-1.5126001972052...|[0.11887346924689...|[0.32885354949719...|[-0.6773000777080...|[-1.479952524544043]|[2.0196951686995632]|  [-0.6209561769441...|[-0.0608695821620...|[-0.9772620194160...|\n",
      "|2930| [2.213371892901278]|[-0.1171580015033...|[-0.2067330524715...|[-0.5665386393770...|[-1.7529076530792...| [5.015426089183085]| [7.511380346767311]|[4.0986920872299555]|[-0.3572308339681...|[-0.8000699663490...| [2.110335382138759]|[0.8056902490158743]|[-0.3451289433574...|[-0.3353614777805...|[-0.4471185894599...|[-1.5108448624195...|[0.6611123472310086]|[0.11887346924689...|[0.32885354949719...|[-0.6773000777080...| [-1.75186383774586]|[2.0196951686995632]|  [-0.6209561769441...|[-0.0608695821620...| [1.023265661580754]|\n",
      "|3775|[-0.4449383296492...|[-0.1171580015033...|[-0.2067330524715...|[-0.5665386393770...|[-0.2950618956241...|[-0.3401881484734...|[-0.3396964899206...|[-0.452719429617163]|[-0.8221788428323...|[-0.8000699663490...|[-0.9363283100838...|[-0.9383659023870...|[-0.3451289433574...|[-0.3353614777805...|[-0.4471185894599...|[-1.1538416269307...|[0.6611123472310086]|[-0.7742111247796...|[-1.0880563021394...|[-0.6773000777080...|[0.7633158093709458]|[2.0196951686995632]|  [1.5953578512865452]|[-0.0608695821620...|[-0.9772620194160...|\n",
      "|3340|[-0.4449383296492...|[-0.1171580015033...|[-0.2067330524715...|[-0.5665386393770...|[0.07557685627117...|[-0.3401881484734...|[-0.3396964899206...|[-0.452719429617163]|[1.2168119043739651]|[-0.8000699663490...|[0.6766112916810698]|[1.3870422994835283]|[-0.3451289433574...|[-0.3353614777805...|[-0.4471185894599...|[-0.4398351559532...|[0.6611123472310086]|[0.11887346924689...|[0.32885354949719...| [1.062223908714366]|[0.7633158093709458]|[2.0196951686995632]|  [-0.6209561769441...|[-0.0608695821620...|[-0.9772620194160...|\n",
      "|3855|[-0.4449383296492...|[-0.1171580015033...|[-0.2067330524715...|[1.7534245468149927]|[2.0523168663797713]|[-0.3401881484734...|[-0.3396964899206...|[-0.452719429617163]|[1.2168119043739651]|[-0.8000699663490...|[1.5726888482171255]|[-0.3570138519194...|[-0.3451289433574...|[-0.3353614777805...|[-0.4471185894599...|[-0.0828319204645...|[-1.5126001972052...|[-0.7742111247796...|[-1.0880563021394...| [1.062223908714366]|[0.35544883956822...| [0.639938423833523]|  [1.5953578512865452]|[-0.0608695821620...|[-0.9772620194160...|\n",
      "|3630|[-0.4449383296492...|[-0.1171580015033...|[-0.2067330524715...|[-0.5665386393770...|[-0.8386653984040...|[-0.3401881484734...|[-0.3396964899206...|[-0.452719429617163]|[-0.8875621565788...|[-0.8000699663490...|[-1.653190355312675]|[-0.3570138519194...|[-0.3451289433574...|[-0.3353614777805...|[-0.4471185894599...|[0.2741713150242495]|[0.6611123472310086]|[0.11887346924689...|[0.32885354949719...|[-0.6773000777080...|[0.01555969806594...|[2.0196951686995632]|  [-0.6209561769441...|[-0.0608695821620...| [1.023265661580754]|\n",
      "+----+--------------------+--------------------+--------------------+--------------------+--------------------+--------------------+--------------------+--------------------+--------------------+--------------------+--------------------+--------------------+--------------------+--------------------+--------------------+--------------------+--------------------+--------------------+--------------------+--------------------+--------------------+--------------------+----------------------+--------------------+--------------------+\n",
      "only showing top 20 rows\n",
      "\n"
     ]
    },
    {
     "name": "stderr",
     "output_type": "stream",
     "text": [
      "                                                                                \r"
     ]
    }
   ],
   "source": [
    "# Select all numeric columns except 'DBWT'\n",
    "features = [c for c in sampled_df.columns if c != 'DBWT']\n",
    "\n",
    "# Create VectorAssembler and StandardScaler for each feature and add the results as a new column\n",
    "stages = []\n",
    "for feature in features:\n",
    "    # Create VectorAssembler\n",
    "    assembler = VectorAssembler(inputCols=[feature], outputCol=feature + \"_vec\")\n",
    "    \n",
    "    # Create StandardScaler\n",
    "    scaler = StandardScaler(inputCol=feature + \"_vec\", outputCol=feature + \"_scaled\", withStd=True, withMean=True)\n",
    "    \n",
    "    # Add these operations to the Pipeline\n",
    "    stages.append(assembler)\n",
    "    stages.append(scaler)\n",
    "\n",
    "# Create a Pipeline\n",
    "pipeline = Pipeline(stages=stages)\n",
    "\n",
    "# Apply the Pipeline\n",
    "model = pipeline.fit(sampled_df)\n",
    "sampled_df_scaled = model.transform(sampled_df)\n",
    "\n",
    "# Show the newly created columns\n",
    "sampled_df_scaled.select(['DBWT'] + [c + \"_scaled\" for c in features]).show()\n"
   ]
  },
  {
   "cell_type": "markdown",
   "metadata": {},
   "source": [
    "Probably, the dataset has all the vectorised and scaled values together. Let's check them:"
   ]
  },
  {
   "cell_type": "code",
   "execution_count": 47,
   "metadata": {},
   "outputs": [
    {
     "data": {
      "text/plain": [
       "['ATTEND',\n",
       " 'BFACIL',\n",
       " 'CIG_0',\n",
       " 'DLMP_YY',\n",
       " 'DWgt_R',\n",
       " 'FRACE15',\n",
       " 'FRACE31',\n",
       " 'FRACE6',\n",
       " 'ILLB_R',\n",
       " 'ILP_R',\n",
       " 'MAGER',\n",
       " 'MEDUC',\n",
       " 'MRACE15',\n",
       " 'MRACE31',\n",
       " 'MRAVE6',\n",
       " 'M_Ht_In',\n",
       " 'NO_RISKS',\n",
       " 'PAY',\n",
       " 'PAY_REC',\n",
       " 'RDMETH_REC',\n",
       " 'WTGAIN',\n",
       " 'DBWT',\n",
       " 'DMAR_Indexed',\n",
       " 'LD_INDL_indexed',\n",
       " 'MTRAN_indexed',\n",
       " 'SEX_indexed',\n",
       " 'ATTEND_vec',\n",
       " 'ATTEND_scaled',\n",
       " 'BFACIL_vec',\n",
       " 'BFACIL_scaled',\n",
       " 'CIG_0_vec',\n",
       " 'CIG_0_scaled',\n",
       " 'DLMP_YY_vec',\n",
       " 'DLMP_YY_scaled',\n",
       " 'DWgt_R_vec',\n",
       " 'DWgt_R_scaled',\n",
       " 'FRACE15_vec',\n",
       " 'FRACE15_scaled',\n",
       " 'FRACE31_vec',\n",
       " 'FRACE31_scaled',\n",
       " 'FRACE6_vec',\n",
       " 'FRACE6_scaled',\n",
       " 'ILLB_R_vec',\n",
       " 'ILLB_R_scaled',\n",
       " 'ILP_R_vec',\n",
       " 'ILP_R_scaled',\n",
       " 'MAGER_vec',\n",
       " 'MAGER_scaled',\n",
       " 'MEDUC_vec',\n",
       " 'MEDUC_scaled',\n",
       " 'MRACE15_vec',\n",
       " 'MRACE15_scaled',\n",
       " 'MRACE31_vec',\n",
       " 'MRACE31_scaled',\n",
       " 'MRAVE6_vec',\n",
       " 'MRAVE6_scaled',\n",
       " 'M_Ht_In_vec',\n",
       " 'M_Ht_In_scaled',\n",
       " 'NO_RISKS_vec',\n",
       " 'NO_RISKS_scaled',\n",
       " 'PAY_vec',\n",
       " 'PAY_scaled',\n",
       " 'PAY_REC_vec',\n",
       " 'PAY_REC_scaled',\n",
       " 'RDMETH_REC_vec',\n",
       " 'RDMETH_REC_scaled',\n",
       " 'WTGAIN_vec',\n",
       " 'WTGAIN_scaled',\n",
       " 'DMAR_Indexed_vec',\n",
       " 'DMAR_Indexed_scaled',\n",
       " 'LD_INDL_indexed_vec',\n",
       " 'LD_INDL_indexed_scaled',\n",
       " 'MTRAN_indexed_vec',\n",
       " 'MTRAN_indexed_scaled',\n",
       " 'SEX_indexed_vec',\n",
       " 'SEX_indexed_scaled']"
      ]
     },
     "execution_count": 47,
     "metadata": {},
     "output_type": "execute_result"
    }
   ],
   "source": [
    "sampled_df_scaled.columns"
   ]
  },
  {
   "cell_type": "markdown",
   "metadata": {},
   "source": [
    "Now, we will create the most updated final data frame using the model creation process. We need to work with just scaled features."
   ]
  },
  {
   "cell_type": "code",
   "execution_count": 48,
   "metadata": {
    "scrolled": true
   },
   "outputs": [
    {
     "name": "stderr",
     "output_type": "stream",
     "text": [
      "[Stage 478:============================>                            (4 + 4) / 8]\r"
     ]
    },
    {
     "name": "stdout",
     "output_type": "stream",
     "text": [
      "+--------------------+--------------------+--------------------+--------------------+--------------------+--------------------+--------------------+--------------------+--------------------+--------------------+--------------------+--------------------+--------------------+--------------------+--------------------+--------------------+--------------------+--------------------+--------------------+--------------------+--------------------+--------------------+----------------------+--------------------+--------------------+----+\n",
      "|       ATTEND_scaled|       BFACIL_scaled|        CIG_0_scaled|      DLMP_YY_scaled|       DWgt_R_scaled|      FRACE15_scaled|      FRACE31_scaled|       FRACE6_scaled|       ILLB_R_scaled|        ILP_R_scaled|        MAGER_scaled|        MEDUC_scaled|      MRACE15_scaled|      MRACE31_scaled|       MRAVE6_scaled|      M_Ht_In_scaled|     NO_RISKS_scaled|          PAY_scaled|      PAY_REC_scaled|   RDMETH_REC_scaled|       WTGAIN_scaled| DMAR_Indexed_scaled|LD_INDL_indexed_scaled|MTRAN_indexed_scaled|  SEX_indexed_scaled|DBWT|\n",
      "+--------------------+--------------------+--------------------+--------------------+--------------------+--------------------+--------------------+--------------------+--------------------+--------------------+--------------------+--------------------+--------------------+--------------------+--------------------+--------------------+--------------------+--------------------+--------------------+--------------------+--------------------+--------------------+----------------------+--------------------+--------------------+----+\n",
      "|[-0.4449383296492...|[-0.1171580015033...|[-0.2067330524715...|[-0.5665386393770...|[-1.0857578996676...|[-0.3401881484734...|[-0.3396964899206...|[-0.452719429617163]|[1.2168119043739651]|[1.3661608639129241]|[-1.4739748440054...|[-0.9383659023870...|[-0.3451289433574...|[-0.3353614777805...|[-0.4471185894599...|[-0.4398351559532...|[0.6611123472310086]| [2.798127251326552]| [3.162673252770407]|[-0.6773000777080...|[0.15151535466685...|[-0.7398183210325...|  [-0.6209561769441...|[-0.0608695821620...|[-0.9772620194160...|3561|\n",
      "|[-0.4449383296492...|[-0.1171580015033...|[-0.2067330524715...|[-0.5665386393770...|[-0.7398283978986...|[-0.3401881484734...|[-0.3396964899206...|[-0.452719429617163]|[1.2168119043739651]|[1.3661608639129241]|[-0.0402507535477...|[1.3870422994835283]|[-0.3451289433574...|[-0.3353614777805...|[-0.4471185894599...|[-1.5108448624195...|[0.6611123472310086]|[0.11887346924689...|[0.32885354949719...| [1.062223908714366]|[0.28747101126776...|[-0.7398183210325...|  [-0.6209561769441...|[-0.0608695821620...|[-0.9772620194160...|3510|\n",
      "| [2.213371892901278]|[-0.1171580015033...|[-0.2067330524715...|[-0.5665386393770...|[-1.159885650046695]|[-0.3401881484734...|[-0.3396964899206...|[-0.452719429617163]|[-0.8681893228761...|[-0.8099727358587...|[0.13896475775943...|[-0.9383659023870...|[-0.3451289433574...|[-0.3353614777805...|[-0.4471185894599...|[-0.4398351559532...|[0.6611123472310086]|[0.11887346924689...|[0.32885354949719...|[-0.6773000777080...|   [0.8312936376714]|[2.0196951686995632]|  [1.5953578512865452]|[-0.0608695821620...|[-0.9772620194160...|3700|\n",
      "|[-0.4449383296492...|[-0.1171580015033...|[-0.2067330524715...|[-0.5665386393770...|[-1.1104671497939...|[-0.3401881484734...|[-0.3396964899206...|[-0.452719429617163]|[-0.8367084681093...|[-0.8074970434813...|[0.31818026906664...|[-2.1010700033223...|[-0.3451289433574...|[-0.3353614777805...|[-0.4471185894599...|[-3.295861039863369]|[-1.5126001972052...|[-0.7742111247796...|[-1.0880563021394...|[-0.6773000777080...|[-1.140063383041772]|[2.0196951686995632]|  [-0.6209561769441...|[-0.0608695821620...|[-0.9772620194160...|3420|\n",
      "|[-0.4449383296492...|[-0.1171580015033...|[-0.2067330524715...|[1.7534245468149927]| [-0.24564339537147]|[-0.3401881484734...|[-0.3396964899206...|[-0.452719429617163]|[-0.8270220512580...|[-0.8074970434813...|[0.6766112916810698]|[0.8056902490158743]|[-0.3451289433574...|[-0.3353614777805...|[-0.4471185894599...|[0.2741713150242495]|[0.6611123472310086]|[0.11887346924689...|[0.32885354949719...|[-0.6773000777080...|[0.8992714659718543]|[-0.7398183210325...|  [1.5953578512865452]|[-0.0608695821620...| [1.023265661580754]|4218|\n",
      "|[-0.4449383296492...|[-0.1171580015033...|[-0.2067330524715...|[-0.5665386393770...|[-0.813956148277691]| [5.015426089183085]|[2.4642595231821836]|[4.0986920872299555]|[-0.8076492175553...|[-0.8050213511039...|[1.7519043595243367]|[-0.3570138519194...|[-0.3451289433574...|[-0.3353614777805...|[-0.4471185894599...|[-1.1538416269307...|[-1.5126001972052...|[0.11887346924689...|[0.32885354949719...| [1.062223908714366]|[-1.9557973226472...|[2.0196951686995632]|  [-0.6209561769441...|[-0.0608695821620...|[-0.9772620194160...|3130|\n",
      "|[-0.4449383296492...|[-0.1171580015033...|[-0.2067330524715...|[-0.5665386393770...|[-0.6904098976459...|[-0.3401881484734...|[-0.3396964899206...|[-0.452719429617163]|[1.2168119043739651]|[-0.8050213511039...|[-0.398681776162197]|[0.2243381985482201]|[-0.3451289433574...|[-0.3353614777805...|[-0.4471185894599...|[-0.0828319204645...|[0.6611123472310086]|[0.11887346924689...|[0.32885354949719...|[-0.6773000777080...|[0.01555969806594...|[-0.7398183210325...|  [1.5953578512865452]|[-0.0608695821620...| [1.023265661580754]|3515|\n",
      "|[-0.4449383296492...|[-0.1171580015033...|[-0.2067330524715...|[-0.5665386393770...|[0.8168543600618996]|[-0.3401881484734...|[-0.3396964899206...|[-0.452719429617163]|[1.2168119043739651]|[-0.8050213511039...|[-1.1155438213910...|[0.8056902490158743]|[0.40075127622704...|[0.7483659106655656]|[1.3309420879039928]| [1.345181021490535]|[0.6611123472310086]|[0.11887346924689...|[0.32885354949719...|[-0.6773000777080...| [3.142539799886843]|[-0.7398183210325...|  [1.5953578512865452]|[-0.0608695821620...| [1.023265661580754]|3498|\n",
      "|[-0.4449383296492...|[-0.1171580015033...|[-0.2067330524715...|[-0.5665386393770...|[-1.1845949001730...|[-0.3401881484734...|[-0.3396964899206...|[-0.452719429617163]|[-0.8052276133425...|[-0.8025456587264...| [1.035042314295492]|[1.9683943499511825]|[0.7736913860193145]|[1.2902296048886426]|[2.2199724265859886]|[-1.5108448624195...|[0.6611123472310086]|[0.11887346924689...|[0.32885354949719...|[-0.6773000777080...|[-0.6642185849385...|[2.0196951686995632]|  [1.5953578512865452]|[-0.0608695821620...|[-0.9772620194160...|3855|\n",
      "| [0.884216781626019]|[-0.1171580015033...|[-0.2067330524715...|[-0.5665386393770...|[0.05086760614481...|[-0.3401881484734...|[-0.3396964899206...|[-0.452719429617163]|[-0.5558023794205...|[-0.8025456587264...|[-0.0402507535477...|[-1.5197179528547...|[-0.3451289433574...|[-0.3353614777805...|[-0.4471185894599...|[-1.1538416269307...|[-1.5126001972052...|[1.0119580632734453]|[1.7457634011338026]|[1.9319859019255532]|[0.4234266678686748]| [0.639938423833523]|  [-0.6209561769441...|[-0.0608695821620...|[-0.9772620194160...|4490|\n",
      "|[-0.4449383296492...|[-0.1171580015033...|[-0.2067330524715...|[-0.5665386393770...|[2.2747001175169883]|[0.04235572564490...|[0.22109471269990...|[0.45756287375226...|[-0.8802973439403...|[-0.8025456587264...|[-0.5778972874694...|[-0.9383659023870...|[0.02781116643477...|[0.20650221644248...|[0.4419117492219971]|[-0.796838391442036]|[0.6611123472310086]|[0.11887346924689...|[0.32885354949719...|[-0.6773000777080...|[-0.6642185849385...| [0.639938423833523]|  [-0.6209561769441...|[-0.0608695821620...| [1.023265661580754]|3487|\n",
      "|[-0.4449383296492...|[-0.1171580015033...|[-0.2067330524715...|[-0.5665386393770...|[0.17441385677660...|[-0.3401881484734...|[-0.3396964899206...|[-0.452719429617163]|[-0.824600447045174]|[-0.8025456587264...|[0.4973957803738587]|[1.3870422994835283]|[-0.3451289433574...|[-0.3353614777805...|[-0.4471185894599...|[-0.796838391442036]|[0.6611123472310086]|[0.11887346924689...|[0.32885354949719...|[-0.6773000777080...|[-1.2760190396426...|[-0.7398183210325...|  [-0.6209561769441...|[-0.0608695821620...| [1.023265661580754]|3147|\n",
      "|[-0.4449383296492...|[-0.1171580015033...|[-0.2067330524715...|[-0.5665386393770...|[-0.1962248951187...|[-0.3401881484734...|[-0.3396964899206...|[-0.452719429617163]|[-0.8657677186633...|[-0.8025456587264...| [0.855826802988281]|[1.3870422994835283]|[-0.3451289433574...|[-0.3353614777805...|[-0.4471185894599...|[0.6311745505130113]|[0.6611123472310086]|[0.11887346924689...|[0.32885354949719...|[-0.6773000777080...|[-1.0041077264408...|[2.0196951686995632]|  [-0.6209561769441...|[-0.0608695821620...|[-0.9772620194160...|3010|\n",
      "|[-0.4449383296492...|[-0.1171580015033...|[-0.2067330524715...|[-0.5665386393770...|[-0.0973878946133...|[-0.3401881484734...|[-0.3396964899206...|[-0.452719429617163]|[-0.8415516765350...|[-0.8025456587264...|[-0.398681776162197]|[0.8056902490158743]|[-0.3451289433574...|[-0.3353614777805...|[-0.4471185894599...|[0.9881777860017732]|[0.6611123472310086]|[1.0119580632734453]|[1.7457634011338026]|[-0.6773000777080...|[0.8992714659718543]|[2.0196951686995632]|  [-0.6209561769441...|[-0.0608695821620...|[-0.9772620194160...|4155|\n",
      "| [2.213371892901278]|[-0.1171580015033...|[-0.2067330524715...|[-0.5665386393770...|[-0.6904098976459...|[-0.3401881484734...|[-0.3396964899206...|[-0.452719429617163]|[-0.5170567120152...|[-0.8000699663490...|[1.9311198708315478]|[-1.5197179528547...|[-0.3451289433574...|[-0.3353614777805...|[-0.4471185894599...|[-1.5108448624195...|[-1.5126001972052...|[0.11887346924689...|[0.32885354949719...|[-0.6773000777080...|[-1.479952524544043]|[2.0196951686995632]|  [-0.6209561769441...|[-0.0608695821620...|[-0.9772620194160...|3185|\n",
      "| [2.213371892901278]|[-0.1171580015033...|[-0.2067330524715...|[-0.5665386393770...|[-1.7529076530792...| [5.015426089183085]| [7.511380346767311]|[4.0986920872299555]|[-0.3572308339681...|[-0.8000699663490...| [2.110335382138759]|[0.8056902490158743]|[-0.3451289433574...|[-0.3353614777805...|[-0.4471185894599...|[-1.5108448624195...|[0.6611123472310086]|[0.11887346924689...|[0.32885354949719...|[-0.6773000777080...| [-1.75186383774586]|[2.0196951686995632]|  [-0.6209561769441...|[-0.0608695821620...| [1.023265661580754]|2930|\n",
      "|[-0.4449383296492...|[-0.1171580015033...|[-0.2067330524715...|[-0.5665386393770...|[-0.2950618956241...|[-0.3401881484734...|[-0.3396964899206...|[-0.452719429617163]|[-0.8221788428323...|[-0.8000699663490...|[-0.9363283100838...|[-0.9383659023870...|[-0.3451289433574...|[-0.3353614777805...|[-0.4471185894599...|[-1.1538416269307...|[0.6611123472310086]|[-0.7742111247796...|[-1.0880563021394...|[-0.6773000777080...|[0.7633158093709458]|[2.0196951686995632]|  [1.5953578512865452]|[-0.0608695821620...|[-0.9772620194160...|3775|\n",
      "|[-0.4449383296492...|[-0.1171580015033...|[-0.2067330524715...|[-0.5665386393770...|[0.07557685627117...|[-0.3401881484734...|[-0.3396964899206...|[-0.452719429617163]|[1.2168119043739651]|[-0.8000699663490...|[0.6766112916810698]|[1.3870422994835283]|[-0.3451289433574...|[-0.3353614777805...|[-0.4471185894599...|[-0.4398351559532...|[0.6611123472310086]|[0.11887346924689...|[0.32885354949719...| [1.062223908714366]|[0.7633158093709458]|[2.0196951686995632]|  [-0.6209561769441...|[-0.0608695821620...|[-0.9772620194160...|3340|\n",
      "|[-0.4449383296492...|[-0.1171580015033...|[-0.2067330524715...|[1.7534245468149927]|[2.0523168663797713]|[-0.3401881484734...|[-0.3396964899206...|[-0.452719429617163]|[1.2168119043739651]|[-0.8000699663490...|[1.5726888482171255]|[-0.3570138519194...|[-0.3451289433574...|[-0.3353614777805...|[-0.4471185894599...|[-0.0828319204645...|[-1.5126001972052...|[-0.7742111247796...|[-1.0880563021394...| [1.062223908714366]|[0.35544883956822...| [0.639938423833523]|  [1.5953578512865452]|[-0.0608695821620...|[-0.9772620194160...|3855|\n",
      "|[-0.4449383296492...|[-0.1171580015033...|[-0.2067330524715...|[-0.5665386393770...|[-0.8386653984040...|[-0.3401881484734...|[-0.3396964899206...|[-0.452719429617163]|[-0.8875621565788...|[-0.8000699663490...|[-1.653190355312675]|[-0.3570138519194...|[-0.3451289433574...|[-0.3353614777805...|[-0.4471185894599...|[0.2741713150242495]|[0.6611123472310086]|[0.11887346924689...|[0.32885354949719...|[-0.6773000777080...|[0.01555969806594...|[2.0196951686995632]|  [-0.6209561769441...|[-0.0608695821620...| [1.023265661580754]|3630|\n",
      "+--------------------+--------------------+--------------------+--------------------+--------------------+--------------------+--------------------+--------------------+--------------------+--------------------+--------------------+--------------------+--------------------+--------------------+--------------------+--------------------+--------------------+--------------------+--------------------+--------------------+--------------------+--------------------+----------------------+--------------------+--------------------+----+\n",
      "only showing top 20 rows\n",
      "\n"
     ]
    },
    {
     "name": "stderr",
     "output_type": "stream",
     "text": [
      "                                                                                \r"
     ]
    }
   ],
   "source": [
    "scaled_features = [col_name for col_name in sampled_df_scaled.columns if '_scaled' in col_name] + ['DBWT']\n",
    "final_df = sampled_df_scaled.select(scaled_features)\n",
    "\n",
    "final_df.show()"
   ]
  },
  {
   "cell_type": "code",
   "execution_count": 49,
   "metadata": {
    "scrolled": false
   },
   "outputs": [
    {
     "name": "stdout",
     "output_type": "stream",
     "text": [
      "root\n",
      " |-- ATTEND_scaled: vector (nullable = true)\n",
      " |-- BFACIL_scaled: vector (nullable = true)\n",
      " |-- CIG_0_scaled: vector (nullable = true)\n",
      " |-- DLMP_YY_scaled: vector (nullable = true)\n",
      " |-- DWgt_R_scaled: vector (nullable = true)\n",
      " |-- FRACE15_scaled: vector (nullable = true)\n",
      " |-- FRACE31_scaled: vector (nullable = true)\n",
      " |-- FRACE6_scaled: vector (nullable = true)\n",
      " |-- ILLB_R_scaled: vector (nullable = true)\n",
      " |-- ILP_R_scaled: vector (nullable = true)\n",
      " |-- MAGER_scaled: vector (nullable = true)\n",
      " |-- MEDUC_scaled: vector (nullable = true)\n",
      " |-- MRACE15_scaled: vector (nullable = true)\n",
      " |-- MRACE31_scaled: vector (nullable = true)\n",
      " |-- MRAVE6_scaled: vector (nullable = true)\n",
      " |-- M_Ht_In_scaled: vector (nullable = true)\n",
      " |-- NO_RISKS_scaled: vector (nullable = true)\n",
      " |-- PAY_scaled: vector (nullable = true)\n",
      " |-- PAY_REC_scaled: vector (nullable = true)\n",
      " |-- RDMETH_REC_scaled: vector (nullable = true)\n",
      " |-- WTGAIN_scaled: vector (nullable = true)\n",
      " |-- DMAR_Indexed_scaled: vector (nullable = true)\n",
      " |-- LD_INDL_indexed_scaled: vector (nullable = true)\n",
      " |-- MTRAN_indexed_scaled: vector (nullable = true)\n",
      " |-- SEX_indexed_scaled: vector (nullable = true)\n",
      " |-- DBWT: integer (nullable = true)\n",
      "\n"
     ]
    }
   ],
   "source": [
    "final_df.printSchema()"
   ]
  },
  {
   "cell_type": "markdown",
   "metadata": {},
   "source": [
    "## 2.4 Model Creation"
   ]
  },
  {
   "cell_type": "code",
   "execution_count": 50,
   "metadata": {},
   "outputs": [],
   "source": [
    "# Separating the data set into training, validation and test sets\n",
    "train_df, val_df, test_df = final_df.randomSplit([0.6, 0.2, 0.2], seed=42)"
   ]
  },
  {
   "cell_type": "markdown",
   "metadata": {},
   "source": [
    "## 2.4.1 Model 1: Linear Regression"
   ]
  },
  {
   "cell_type": "code",
   "execution_count": 53,
   "metadata": {
    "scrolled": true
   },
   "outputs": [
    {
     "name": "stderr",
     "output_type": "stream",
     "text": [
      "[Stage 487:==================================================>     (9 + 1) / 10]\r"
     ]
    },
    {
     "name": "stdout",
     "output_type": "stream",
     "text": [
      "Validation MAE: 396.2107096071563\n"
     ]
    },
    {
     "name": "stderr",
     "output_type": "stream",
     "text": [
      "                                                                                \r"
     ]
    }
   ],
   "source": [
    "# Combining features into a vector\n",
    "assembler = VectorAssembler(inputCols=[col for col in train_df.columns if col != 'DBWT'], outputCol='features')\n",
    "train_vector = assembler.transform(train_df)\n",
    "val_vector = assembler.transform(val_df)\n",
    "\n",
    "# Creating a Linear Regression Model\n",
    "lr = LinearRegression(featuresCol='features', labelCol='DBWT')\n",
    "\n",
    "# Training the Model\n",
    "model = lr.fit(train_vector)\n",
    "\n",
    "# Making Predictions on the Validation Dataset\n",
    "val_predictions = model.transform(val_vector)\n",
    "\n",
    "# Evaluating Model Performance using MAE\n",
    "evaluator = RegressionEvaluator(labelCol='DBWT', predictionCol='prediction', metricName='mae')\n",
    "val_mae = evaluator.evaluate(val_predictions)\n",
    "print(f'Validation MAE: {val_mae}')\n"
   ]
  },
  {
   "cell_type": "markdown",
   "metadata": {},
   "source": [
    "#### L1 Regularisation with different 'regParams' values:"
   ]
  },
  {
   "cell_type": "code",
   "execution_count": 56,
   "metadata": {},
   "outputs": [
    {
     "name": "stderr",
     "output_type": "stream",
     "text": [
      "                                                                                \r"
     ]
    },
    {
     "name": "stdout",
     "output_type": "stream",
     "text": [
      "regParam: 0.001 -> Validation MAE: 396.2103679901393\n"
     ]
    },
    {
     "name": "stderr",
     "output_type": "stream",
     "text": [
      "                                                                                \r"
     ]
    },
    {
     "name": "stdout",
     "output_type": "stream",
     "text": [
      "regParam: 0.01 -> Validation MAE: 395.71766738693265\n"
     ]
    },
    {
     "name": "stderr",
     "output_type": "stream",
     "text": [
      "                                                                                \r"
     ]
    },
    {
     "name": "stdout",
     "output_type": "stream",
     "text": [
      "regParam: 0.1 -> Validation MAE: 396.2025458722118\n"
     ]
    },
    {
     "name": "stderr",
     "output_type": "stream",
     "text": [
      "[Stage 565:==================================================>     (9 + 1) / 10]\r"
     ]
    },
    {
     "name": "stdout",
     "output_type": "stream",
     "text": [
      "regParam: 1.0 -> Validation MAE: 396.20127345974277\n",
      "Best regParam: 0.01 with MAE: 395.71766738693265\n"
     ]
    },
    {
     "name": "stderr",
     "output_type": "stream",
     "text": [
      "                                                                                \r"
     ]
    }
   ],
   "source": [
    "# L1\n",
    "regParams = [0.001, 0.01, 0.1, 1.0]  \n",
    "best_mae = float('inf')\n",
    "best_mae = float('inf')\n",
    "best_param = None\n",
    "\n",
    "for param in regParams:\n",
    "    lr = LinearRegression(featuresCol='features', labelCol='DBWT', elasticNetParam=1.0, regParam=param)\n",
    "    model = lr.fit(train_vector)\n",
    "    val_predictions = model.transform(val_vector)\n",
    "    val_mae = evaluator.evaluate(val_predictions)\n",
    "    print(f'regParam: {param} -> Validation MAE: {val_mae}')\n",
    "    \n",
    "    # Find the best MAE\n",
    "    if val_mae < best_mae:\n",
    "        best_mae = val_mae\n",
    "        best_param = param\n",
    "\n",
    "print(f'Best regParam: {best_param} with MAE: {best_mae}')\n"
   ]
  },
  {
   "cell_type": "markdown",
   "metadata": {},
   "source": [
    "#### L2 Regularisation with different 'regParams' values:"
   ]
  },
  {
   "cell_type": "code",
   "execution_count": 57,
   "metadata": {
    "scrolled": true
   },
   "outputs": [
    {
     "name": "stderr",
     "output_type": "stream",
     "text": [
      "                                                                                \r"
     ]
    },
    {
     "name": "stdout",
     "output_type": "stream",
     "text": [
      "regParam: 0.001 -> Validation MAE: 396.2107011505841\n"
     ]
    },
    {
     "name": "stderr",
     "output_type": "stream",
     "text": [
      "                                                                                \r"
     ]
    },
    {
     "name": "stdout",
     "output_type": "stream",
     "text": [
      "regParam: 0.01 -> Validation MAE: 396.21062515768983\n"
     ]
    },
    {
     "name": "stderr",
     "output_type": "stream",
     "text": [
      "                                                                                \r"
     ]
    },
    {
     "name": "stdout",
     "output_type": "stream",
     "text": [
      "regParam: 0.1 -> Validation MAE: 396.1939958977408\n"
     ]
    },
    {
     "name": "stderr",
     "output_type": "stream",
     "text": [
      "[Stage 617:==================================================>     (9 + 1) / 10]\r"
     ]
    },
    {
     "name": "stdout",
     "output_type": "stream",
     "text": [
      "regParam: 1.0 -> Validation MAE: 396.2032009342583\n",
      "Best regParam: 0.1 with MAE: 396.1939958977408\n"
     ]
    },
    {
     "name": "stderr",
     "output_type": "stream",
     "text": [
      "                                                                                \r"
     ]
    }
   ],
   "source": [
    "# L2\n",
    "regParams = [0.001, 0.01, 0.1, 1.0]  \n",
    "best_mae = float('inf')\n",
    "best_mae = float('inf')\n",
    "best_param = None\n",
    "\n",
    "for param in regParams:\n",
    "    lr = LinearRegression(featuresCol='features', labelCol='DBWT', elasticNetParam=0, regParam=param)\n",
    "    model = lr.fit(train_vector)\n",
    "    val_predictions = model.transform(val_vector)\n",
    "    val_mae = evaluator.evaluate(val_predictions)\n",
    "    print(f'regParam: {param} -> Validation MAE: {val_mae}')\n",
    "    \n",
    "    # Finding the best MAE\n",
    "    if val_mae < best_mae:\n",
    "        best_mae = val_mae\n",
    "        best_param = param\n",
    "\n",
    "print(f'Best regParam: {best_param} with MAE: {best_mae}')\n"
   ]
  },
  {
   "cell_type": "markdown",
   "metadata": {},
   "source": [
    "I tried using the cross-validation method to make better predictions, but PySpark stopped working immediately. For this reason, I couldn't use Cross-Validation, Random Search, or Grid Search."
   ]
  },
  {
   "cell_type": "markdown",
   "metadata": {},
   "source": [
    "### 2.4.2 Model 2: Generalized Linear Regression"
   ]
  },
  {
   "cell_type": "code",
   "execution_count": 69,
   "metadata": {
    "scrolled": true
   },
   "outputs": [
    {
     "name": "stderr",
     "output_type": "stream",
     "text": [
      "[Stage 3032:=================================================>     (9 + 1) / 10]\r"
     ]
    },
    {
     "name": "stdout",
     "output_type": "stream",
     "text": [
      "Validation MAE: 396.2107096071563\n"
     ]
    },
    {
     "name": "stderr",
     "output_type": "stream",
     "text": [
      "                                                                                \r"
     ]
    }
   ],
   "source": [
    "# Create the Generalized Linear Regression model\n",
    "glr = GeneralizedLinearRegression(featuresCol='features', labelCol='DBWT', family='gaussian', link='identity')\n",
    "\n",
    "# Train the model\n",
    "glr_model = glr.fit(train_vector)\n",
    "\n",
    "# Make predictions on the validation dataset\n",
    "val_predictions = glr_model.transform(val_vector)\n",
    "\n",
    "# Evaluate the model's performance using MAE\n",
    "evaluator = RegressionEvaluator(labelCol='DBWT', predictionCol='prediction', metricName='mae')\n",
    "val_mae = evaluator.evaluate(val_predictions)\n",
    "print(f'Validation MAE: {val_mae}')\n"
   ]
  },
  {
   "cell_type": "markdown",
   "metadata": {},
   "source": [
    "In PySpark, the GeneralizedLinearRegression model does not accept the elasticNetParam parameter, therefore it is not possible to apply L1, L2, or elastic net regularization for this model."
   ]
  },
  {
   "cell_type": "markdown",
   "metadata": {},
   "source": [
    "### 2.4.3 Decision Tree"
   ]
  },
  {
   "cell_type": "code",
   "execution_count": 58,
   "metadata": {},
   "outputs": [
    {
     "name": "stderr",
     "output_type": "stream",
     "text": [
      "[Stage 644:==================================================>     (9 + 1) / 10]\r"
     ]
    },
    {
     "name": "stdout",
     "output_type": "stream",
     "text": [
      "Validation MAE: 398.14859950510896\n"
     ]
    },
    {
     "name": "stderr",
     "output_type": "stream",
     "text": [
      "                                                                                \r"
     ]
    }
   ],
   "source": [
    "# Creating a Decision Tree Model\n",
    "dt = DecisionTreeRegressor(featuresCol=\"features\", labelCol=\"DBWT\")\n",
    "dt_model = dt.fit(train_vector)\n",
    "\n",
    "# Making Predictions on the Validation Dataset\n",
    "val_predictions = dt_model.transform(val_vector)\n",
    "\n",
    "# Evaluating Model Performance using MAE\n",
    "evaluator = RegressionEvaluator(labelCol=\"DBWT\", predictionCol=\"prediction\", metricName=\"mae\")\n",
    "val_mae = evaluator.evaluate(val_predictions)\n",
    "print(f\"Validation MAE: {val_mae}\")\n",
    "\n"
   ]
  },
  {
   "cell_type": "code",
   "execution_count": 59,
   "metadata": {},
   "outputs": [],
   "source": [
    "maxDepthValues = [3, 5, 10]  \n",
    "maxBinsValues = [32, 64, 128]  "
   ]
  },
  {
   "cell_type": "code",
   "execution_count": 60,
   "metadata": {},
   "outputs": [
    {
     "name": "stderr",
     "output_type": "stream",
     "text": [
      "                                                                                \r"
     ]
    },
    {
     "name": "stdout",
     "output_type": "stream",
     "text": [
      "Tested maxDepth: 3, maxBins: 32, Validation MAE: 404.18244213119783\n"
     ]
    },
    {
     "name": "stderr",
     "output_type": "stream",
     "text": [
      "                                                                                \r"
     ]
    },
    {
     "name": "stdout",
     "output_type": "stream",
     "text": [
      "Tested maxDepth: 3, maxBins: 64, Validation MAE: 403.09364132911907\n"
     ]
    },
    {
     "name": "stderr",
     "output_type": "stream",
     "text": [
      "                                                                                \r"
     ]
    },
    {
     "name": "stdout",
     "output_type": "stream",
     "text": [
      "Tested maxDepth: 3, maxBins: 128, Validation MAE: 402.95061523869424\n"
     ]
    },
    {
     "name": "stderr",
     "output_type": "stream",
     "text": [
      "                                                                                \r"
     ]
    },
    {
     "name": "stdout",
     "output_type": "stream",
     "text": [
      "Tested maxDepth: 5, maxBins: 32, Validation MAE: 398.14859950510896\n"
     ]
    },
    {
     "name": "stderr",
     "output_type": "stream",
     "text": [
      "                                                                                \r"
     ]
    },
    {
     "name": "stdout",
     "output_type": "stream",
     "text": [
      "Tested maxDepth: 5, maxBins: 64, Validation MAE: 396.8871618286929\n"
     ]
    },
    {
     "name": "stderr",
     "output_type": "stream",
     "text": [
      "                                                                                \r"
     ]
    },
    {
     "name": "stdout",
     "output_type": "stream",
     "text": [
      "Tested maxDepth: 5, maxBins: 128, Validation MAE: 397.60257146329553\n"
     ]
    },
    {
     "name": "stderr",
     "output_type": "stream",
     "text": [
      "                                                                                \r"
     ]
    },
    {
     "name": "stdout",
     "output_type": "stream",
     "text": [
      "Tested maxDepth: 10, maxBins: 32, Validation MAE: 389.6925653618021\n"
     ]
    },
    {
     "name": "stderr",
     "output_type": "stream",
     "text": [
      "                                                                                \r"
     ]
    },
    {
     "name": "stdout",
     "output_type": "stream",
     "text": [
      "Tested maxDepth: 10, maxBins: 64, Validation MAE: 388.9748301829355\n"
     ]
    },
    {
     "name": "stderr",
     "output_type": "stream",
     "text": [
      "[Stage 914:==================================================>     (9 + 1) / 10]\r"
     ]
    },
    {
     "name": "stdout",
     "output_type": "stream",
     "text": [
      "Tested maxDepth: 10, maxBins: 128, Validation MAE: 388.850842680379\n",
      "Best Params -> maxDepth: 10, maxBins: 128, Lowest MAE: 388.850842680379\n"
     ]
    },
    {
     "name": "stderr",
     "output_type": "stream",
     "text": [
      "                                                                                \r"
     ]
    }
   ],
   "source": [
    "bestMAE = float('inf')\n",
    "bestParams = {'maxDepth': None, 'maxBins': None}\n",
    "\n",
    "for depth in maxDepthValues:\n",
    "    for bins in maxBinsValues:\n",
    "      \n",
    "        dt = DecisionTreeRegressor(featuresCol=\"features\", labelCol=\"DBWT\", maxDepth=depth, maxBins=bins)\n",
    "\n",
    "        dt_model = dt.fit(train_vector)\n",
    "        \n",
    "        val_predictions = dt_model.transform(val_vector)\n",
    "\n",
    "        evaluator = RegressionEvaluator(labelCol=\"DBWT\", predictionCol=\"prediction\", metricName=\"mae\")\n",
    "        val_mae = evaluator.evaluate(val_predictions)\n",
    "        \n",
    "        # Updating the best parameters\n",
    "        if val_mae < bestMAE:\n",
    "            bestMAE = val_mae\n",
    "            bestParams['maxDepth'] = depth\n",
    "            bestParams['maxBins'] = bins\n",
    "            \n",
    "        print(f\"Tested maxDepth: {depth}, maxBins: {bins}, Validation MAE: {val_mae}\")\n",
    "\n",
    "print(f\"Best Params -> maxDepth: {bestParams['maxDepth']}, maxBins: {bestParams['maxBins']}, Lowest MAE: {bestMAE}\")\n"
   ]
  },
  {
   "cell_type": "markdown",
   "metadata": {},
   "source": [
    "### 2.4.4 Random Forest"
   ]
  },
  {
   "cell_type": "code",
   "execution_count": 62,
   "metadata": {},
   "outputs": [],
   "source": [
    "# Creating an evaluator \n",
    "evaluator = RegressionEvaluator(labelCol=\"DBWT\", predictionCol=\"prediction\", metricName=\"mae\")\n",
    "\n",
    "maxDepthValues = [3, 5, 10]  \n",
    "maxBinsValues = [32, 64, 128]  \n"
   ]
  },
  {
   "cell_type": "code",
   "execution_count": 63,
   "metadata": {},
   "outputs": [
    {
     "name": "stderr",
     "output_type": "stream",
     "text": [
      "                                                                                \r"
     ]
    },
    {
     "name": "stdout",
     "output_type": "stream",
     "text": [
      "Tested maxDepth: 3, maxBins: 32, Validation MAE: 402.409082466909\n"
     ]
    },
    {
     "name": "stderr",
     "output_type": "stream",
     "text": [
      "                                                                                \r"
     ]
    },
    {
     "name": "stdout",
     "output_type": "stream",
     "text": [
      "Tested maxDepth: 3, maxBins: 64, Validation MAE: 400.8780674216066\n"
     ]
    },
    {
     "name": "stderr",
     "output_type": "stream",
     "text": [
      "                                                                                \r"
     ]
    },
    {
     "name": "stdout",
     "output_type": "stream",
     "text": [
      "Tested maxDepth: 3, maxBins: 128, Validation MAE: 400.77948811213895\n"
     ]
    },
    {
     "name": "stderr",
     "output_type": "stream",
     "text": [
      "                                                                                \r"
     ]
    },
    {
     "name": "stdout",
     "output_type": "stream",
     "text": [
      "Tested maxDepth: 5, maxBins: 32, Validation MAE: 394.0736970557233\n"
     ]
    },
    {
     "name": "stderr",
     "output_type": "stream",
     "text": [
      "                                                                                \r"
     ]
    },
    {
     "name": "stdout",
     "output_type": "stream",
     "text": [
      "Tested maxDepth: 5, maxBins: 64, Validation MAE: 393.40857213558166\n"
     ]
    },
    {
     "name": "stderr",
     "output_type": "stream",
     "text": [
      "                                                                                \r"
     ]
    },
    {
     "name": "stdout",
     "output_type": "stream",
     "text": [
      "Tested maxDepth: 5, maxBins: 128, Validation MAE: 393.50847430220097\n"
     ]
    },
    {
     "name": "stderr",
     "output_type": "stream",
     "text": [
      "                                                                                \r"
     ]
    },
    {
     "name": "stdout",
     "output_type": "stream",
     "text": [
      "Tested maxDepth: 10, maxBins: 32, Validation MAE: 383.8915583158499\n"
     ]
    },
    {
     "name": "stderr",
     "output_type": "stream",
     "text": [
      "                                                                                \r"
     ]
    },
    {
     "name": "stdout",
     "output_type": "stream",
     "text": [
      "Tested maxDepth: 10, maxBins: 64, Validation MAE: 383.6025065505291\n"
     ]
    },
    {
     "name": "stderr",
     "output_type": "stream",
     "text": [
      "[Stage 1184:=================================================>     (9 + 1) / 10]\r"
     ]
    },
    {
     "name": "stdout",
     "output_type": "stream",
     "text": [
      "Tested maxDepth: 10, maxBins: 128, Validation MAE: 383.3875761563849\n",
      "Best Params -> maxDepth: 10, maxBins: 128, Lowest MAE: 383.3875761563849\n"
     ]
    },
    {
     "name": "stderr",
     "output_type": "stream",
     "text": [
      "                                                                                \r"
     ]
    }
   ],
   "source": [
    "# Initializing bestMAE to infinity and bestParams to store the optimal parameters\n",
    "bestMAE = float('inf')\n",
    "bestParams = {'maxDepth': None, 'maxBins': None}\n",
    "\n",
    "# Iterating over combinations of maxDepth and maxBins values\n",
    "for depth in maxDepthValues:\n",
    "    for bins in maxBinsValues:\n",
    "        # Creating a RandomForestRegressor model with specified depth and bins\n",
    "        rf = RandomForestRegressor(featuresCol=\"features\", labelCol=\"DBWT\", maxDepth=depth, maxBins=bins)\n",
    "        \n",
    "        # Training the model on the training dataset\n",
    "        rf_model = rf.fit(train_vector)\n",
    "        \n",
    "        # Making predictions on the validation dataset\n",
    "        val_predictions = rf_model.transform(val_vector)\n",
    "        \n",
    "        # Evaluating the model's performance using MAE\n",
    "        val_mae = evaluator.evaluate(val_predictions)\n",
    "        \n",
    "        # Updating the best parameters if the current MAE is lower than the best MAE found so far\n",
    "        if val_mae < bestMAE:\n",
    "            bestMAE = val_mae\n",
    "            bestParams['maxDepth'] = depth\n",
    "            bestParams['maxBins'] = bins\n",
    "            \n",
    "        # Printing the tested parameters and the corresponding MAE\n",
    "        print(f\"Tested maxDepth: {depth}, maxBins: {bins}, Validation MAE: {val_mae}\")\n",
    "\n",
    "# Printing the best parameters and the lowest MAE found\n",
    "print(f\"Best Params -> maxDepth: {bestParams['maxDepth']}, maxBins: {bestParams['maxBins']}, Lowest MAE: {bestMAE}\")\n"
   ]
  },
  {
   "cell_type": "markdown",
   "metadata": {},
   "source": [
    "### 2.4.5 Gradient Boosting"
   ]
  },
  {
   "cell_type": "code",
   "execution_count": 64,
   "metadata": {},
   "outputs": [
    {
     "name": "stderr",
     "output_type": "stream",
     "text": [
      "                                                                                \r"
     ]
    },
    {
     "name": "stdout",
     "output_type": "stream",
     "text": [
      "Tested maxBins: 32, Validation MAE: 385.06982308519895\n"
     ]
    },
    {
     "name": "stderr",
     "output_type": "stream",
     "text": [
      "                                                                                \r"
     ]
    },
    {
     "name": "stdout",
     "output_type": "stream",
     "text": [
      "Tested maxBins: 64, Validation MAE: 383.8943803893117\n"
     ]
    },
    {
     "name": "stderr",
     "output_type": "stream",
     "text": [
      "[Stage 3023:=================================================>     (9 + 1) / 10]\r"
     ]
    },
    {
     "name": "stdout",
     "output_type": "stream",
     "text": [
      "Tested maxBins: 128, Validation MAE: 384.2438798883027\n",
      "Best maxBins: 64 with MAE: 383.8943803893117\n"
     ]
    },
    {
     "name": "stderr",
     "output_type": "stream",
     "text": [
      "                                                                                \r"
     ]
    }
   ],
   "source": [
    "maxBinsValues = [32, 64, 128]\n",
    "\n",
    "# Evaluation setup\n",
    "evaluator = RegressionEvaluator(labelCol=\"DBWT\", predictionCol=\"prediction\", metricName=\"mae\")\n",
    "\n",
    "# Finding the best model\n",
    "bestMAE = float('inf')\n",
    "bestBins = None\n",
    "\n",
    "for bins in maxBinsValues:\n",
    "    # Create a GBTRegressor model, set maxDepth to 10\n",
    "    gbt = GBTRegressor(featuresCol=\"features\", labelCol=\"DBWT\", maxDepth=10, maxBins=bins)\n",
    "    \n",
    "    # Training the model\n",
    "    gbt_model = gbt.fit(train_vector)\n",
    "    \n",
    "    # Making predictions on the validation dataset\n",
    "    val_predictions = gbt_model.transform(val_vector)\n",
    "    \n",
    "    # Evaluating the model's performance using MAE\n",
    "    val_mae = evaluator.evaluate(val_predictions)\n",
    "    print(f\"Tested maxBins: {bins}, Validation MAE: {val_mae}\")\n",
    "    \n",
    "    # Updating the best parameters if the current MAE is lower than the best found so far\n",
    "    if val_mae < bestMAE:\n",
    "        bestMAE = val_mae\n",
    "        bestBins = bins\n",
    "\n",
    "# Printing the best result\n",
    "print(f\"Best maxBins: {bestBins} with MAE: {bestMAE}\")\n"
   ]
  },
  {
   "cell_type": "markdown",
   "metadata": {},
   "source": [
    "## 2.5 Best Models"
   ]
  },
  {
   "cell_type": "code",
   "execution_count": 80,
   "metadata": {},
   "outputs": [],
   "source": [
    "assembler = VectorAssembler(inputCols=[col for col in train_df.columns if col != 'DBWT'], outputCol='features')\n",
    "train_vector = assembler.transform(train_df)\n",
    "val_vector = assembler.transform(val_df)\n",
    "test_vector = assembler.transform(test_df)"
   ]
  },
  {
   "cell_type": "markdown",
   "metadata": {},
   "source": [
    "### 2.5.1 Random Forest "
   ]
  },
  {
   "cell_type": "code",
   "execution_count": 81,
   "metadata": {},
   "outputs": [
    {
     "name": "stderr",
     "output_type": "stream",
     "text": [
      "[Stage 3122:=================================================>     (9 + 1) / 10]\r"
     ]
    },
    {
     "name": "stdout",
     "output_type": "stream",
     "text": [
      "Test set MAE: 382.62556724421137\n"
     ]
    },
    {
     "name": "stderr",
     "output_type": "stream",
     "text": [
      "                                                                                \r"
     ]
    }
   ],
   "source": [
    "# Creating the RandomForestRegressor model\n",
    "rf = RandomForestRegressor(featuresCol=\"features\", labelCol=\"DBWT\", maxDepth=10, maxBins=128)\n",
    "\n",
    "# Training the model on the training dataset\n",
    "rf_model = rf.fit(train_vector)\n",
    "\n",
    "# Making predictions on the test dataset\n",
    "test_predictions = rf_model.transform(test_vector)\n",
    "\n",
    "# Evaluating the model's performance using MAE\n",
    "evaluator = RegressionEvaluator(labelCol=\"DBWT\", predictionCol=\"prediction\", metricName=\"mae\")\n",
    "mae = evaluator.evaluate(test_predictions)\n",
    "print(f\"Test set MAE: {mae}\")\n"
   ]
  },
  {
   "cell_type": "markdown",
   "metadata": {},
   "source": [
    "### 2.5.2 Gradient Boosting"
   ]
  },
  {
   "cell_type": "code",
   "execution_count": 82,
   "metadata": {},
   "outputs": [
    {
     "name": "stderr",
     "output_type": "stream",
     "text": [
      "[Stage 3735:=================================================>     (9 + 1) / 10]\r"
     ]
    },
    {
     "name": "stdout",
     "output_type": "stream",
     "text": [
      "Test set MAE: 383.6532524765132\n"
     ]
    },
    {
     "name": "stderr",
     "output_type": "stream",
     "text": [
      "                                                                                \r"
     ]
    }
   ],
   "source": [
    "# Creating the RandomForestRegressor model\n",
    "gbt = GBTRegressor(featuresCol=\"features\", labelCol=\"DBWT\", maxDepth=10, maxBins=64)\n",
    "\n",
    "# Training the model on the training dataset\n",
    "gbt_model = gbt.fit(train_vector)\n",
    "\n",
    "# Making predictions on the test dataset\n",
    "test_predictions = gbt_model.transform(test_vector)\n",
    "\n",
    "# Evaluating the model's performance using MAE\n",
    "evaluator = RegressionEvaluator(labelCol=\"DBWT\", predictionCol=\"prediction\", metricName=\"mae\")\n",
    "mae = evaluator.evaluate(test_predictions)\n",
    "print(f\"Test set MAE: {mae}\")\n"
   ]
  },
  {
   "cell_type": "markdown",
   "metadata": {},
   "source": [
    "## 2.6 Comparison between The Best Prediction and Real 'DBWT\" values (First 50 input) "
   ]
  },
  {
   "cell_type": "code",
   "execution_count": 83,
   "metadata": {
    "scrolled": false
   },
   "outputs": [
    {
     "name": "stderr",
     "output_type": "stream",
     "text": [
      "[Stage 3739:>                                                       (0 + 1) / 1]\r"
     ]
    },
    {
     "name": "stdout",
     "output_type": "stream",
     "text": [
      "+------------------+----+\n",
      "|        prediction|DBWT|\n",
      "+------------------+----+\n",
      "| 2991.750173896204|3487|\n",
      "|2511.1197047997257|3260|\n",
      "| 3388.296428860248|3260|\n",
      "|3233.6423960988377|3629|\n",
      "|3573.9013112521857|3855|\n",
      "| 3376.618598988486|1710|\n",
      "| 3573.133218867692|3997|\n",
      "|2773.0599720421633|2741|\n",
      "| 2857.238212288263|1928|\n",
      "| 2804.476632322405|2201|\n",
      "|2981.1461526535304|2145|\n",
      "|2513.8091270108057|3240|\n",
      "|450.63179208438874|1160|\n",
      "| 2743.253455571965|2863|\n",
      "|2988.3932268727926|2481|\n",
      "| 2614.585472973234|2055|\n",
      "| 2849.670899811198|3495|\n",
      "|2782.6104069091366|2480|\n",
      "| 2870.761886531882|3045|\n",
      "|2910.5157955078557|2312|\n",
      "| 2992.655150799916|3035|\n",
      "|2938.2353289252233|3544|\n",
      "|3008.2344776871987|3760|\n",
      "|3177.0455116985786|3750|\n",
      "|2837.9706106170343|2810|\n",
      "| 2502.726412275498| 630|\n",
      "|3100.3753645620964|3030|\n",
      "|3152.8361646406424|2920|\n",
      "|3089.4136124321476|2552|\n",
      "|2774.8814786133225|1304|\n",
      "|2554.3464214246706|2610|\n",
      "|2795.0795076005043|1890|\n",
      "|  2828.01950428967|2660|\n",
      "|3012.4037247817214|2626|\n",
      "|2874.0973249733443|3335|\n",
      "|2815.8952943312306|2970|\n",
      "|2939.0275572373157|1185|\n",
      "|3099.4153528972265|3145|\n",
      "|2936.3742750835754|2804|\n",
      "|2800.5349560854897|2834|\n",
      "|2890.7438988718377|2975|\n",
      "|2872.7639121467505|2800|\n",
      "|1783.0953935997165|1984|\n",
      "|2983.8329516523104|3585|\n",
      "| 2923.868342766692|2890|\n",
      "| 2846.971159918309|2920|\n",
      "|2937.4829421091895|3480|\n",
      "|2765.3015010391123|3710|\n",
      "|2997.7745209035124|3408|\n",
      "| 2443.392070996012|2636|\n",
      "+------------------+----+\n",
      "only showing top 50 rows\n",
      "\n"
     ]
    },
    {
     "name": "stderr",
     "output_type": "stream",
     "text": [
      "                                                                                \r"
     ]
    }
   ],
   "source": [
    "# 'prediction' vs 'DBWT'\n",
    "comparison = test_predictions.select(\"prediction\", \"DBWT\")\n",
    "comparison.show(50)\n"
   ]
  },
  {
   "cell_type": "code",
   "execution_count": null,
   "metadata": {},
   "outputs": [],
   "source": [
    "spark.stop()"
   ]
  },
  {
   "cell_type": "markdown",
   "metadata": {},
   "source": [
    "# 3. Summary and Conclusion"
   ]
  },
  {
   "cell_type": "markdown",
   "metadata": {},
   "source": [
    "### Challenges and Solutions\n",
    "Throughout the project, one major challenge was the extensive computational load, particularly the demanding nature of operations like calculating correlation coefficients and running machine learning models on PySpark. To address this, the machine learning pipeline was simplified by avoiding computationally intensive techniques such as cross-validation and exhaustive hyperparameter tuning like grid search and random search. These methods are not practical for large datasets in PySpark due to their heavy processing demands.\n",
    "\n",
    "###  Results and Impact\n",
    "The development and refinement of machine learning models included linear regression, decision trees, random forests, and gradient boosting. These were iteratively optimized through basic hyperparameter tuning. The random forest model, in particular, achieved an impressive Mean Absolute Error (MAE) on the test set, demonstrating strong predictive performance. This model's efficacy in predicting birth weight was further confirmed through a detailed examination of the first 50 prediction results, which showed a good alignment with the actual birth weights, underscoring the model's accuracy and reliability.\n",
    "\n",
    "###  Discussion and Technical Merit\n",
    "The project involved dealing with a huge amount of data and complex models which presented significant technical challenges. I had to adapt to resource constraints and optimize computational efficiency by using PySpark in a local environment instead of a cluster.\n",
    "\n",
    "### Analytic Merit\n",
    "This project addressed complex data-driven questions regarding the factors influencing newborn birth weight. It provided insights that could potentially enhance prenatal care and health management strategies, how big data analytics can be pivotal in healthcare.\n",
    "\n",
    "### Further Model Enhancement and Observations\n",
    "Despite achieving strong results, there remains room for improvement in the model's accuracy. The project's infrastructure limited deeper regulatory adjustments and the use of advanced validation techniques like cross-validation and grid search, which could potentially lower the MAE further. Unfortunately, PySpark lacks support for more complex regression analysis tools like MLP (Multi-Layer Perceptron), which could offer alternative modeling approaches, such as adapting the model to a neural network framework.\n",
    "\n",
    "The best model performance was achieved with a random forest configuration set at maxDepth=10 and maxBins=128, reaching an MAE of 383.6532524765132. Although this setup provided strong predictive performance, the exploration of more robust machine learning infrastructure and techniques could potentially yield even better results.\n",
    "\n",
    "\n",
    "### Future Enhancements in Engineering\n",
    "To further advance this project, dedicating additional time to enhance the feature engineering process could significantly improve the outcomes. Delving deeper into more detailed and varied approaches in feature engineering might uncover new insights and lead to better predictive performance. By exploring more intricate interactions between variables and introducing innovative data transformation techniques, the project could achieve even finer results.\n",
    "\n",
    "### Conclusion\n",
    "This project has demonstrated the potential of using advanced analytics to address important health-related challenges. While the achievements are notable, there remains room for further refinement and improvement. "
   ]
  },
  {
   "cell_type": "markdown",
   "metadata": {},
   "source": [
    "# 4. References"
   ]
  },
  {
   "cell_type": "markdown",
   "metadata": {},
   "source": [
    "[1] Aurélien Géron, Hands-on machine learning with Scikit-Learn, Keras, and TensorFlow, 3rd ed. O’Reilly Media, Inc., 2022.\n",
    "\n",
    "[2] D. Lee and Tomasz Drabas, PySpark Cookbook. Packt Publishing Ltd, 2018.\n",
    "\n",
    "[3]R. Bandi, J. Amudhavel, and R. Karthik, “Machine Learning with PySpark - Review,” Indonesian Journal of Electrical Engineering and Computer Science, vol. 12, no. 1, p. 102, Oct. 2018, doi: https://doi.org/10.11591/ijeecs.v12.i1.pp102-106.\n",
    "\n",
    "[4]“Classification and regression - Spark 3.4.0 Documentation,” spark.apache.org. https://spark.apache.org/docs/latest/ml-classification-regression.html#regression\n",
    "\n",
    "[5]K. Batko and A. Ślęzak, “The Use of Big Data Analytics in Healthcare,” Journal of Big Data, vol. 9, no. 1, Jan. 2022, doi: https://doi.org/10.1186/s40537-021-00553-4."
   ]
  }
 ],
 "metadata": {
  "kernelspec": {
   "display_name": "PySpark",
   "language": "python",
   "name": "pyspark"
  },
  "language_info": {
   "codemirror_mode": {
    "name": "ipython",
    "version": 3
   },
   "file_extension": ".py",
   "mimetype": "text/x-python",
   "name": "python",
   "nbconvert_exporter": "python",
   "pygments_lexer": "ipython3",
   "version": "3.11.5"
  }
 },
 "nbformat": 4,
 "nbformat_minor": 4
}
